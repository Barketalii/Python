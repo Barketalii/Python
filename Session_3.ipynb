{
  "nbformat": 4,
  "nbformat_minor": 0,
  "metadata": {
    "colab": {
      "provenance": [],
      "include_colab_link": true
    },
    "kernelspec": {
      "name": "python3",
      "display_name": "Python 3"
    },
    "language_info": {
      "name": "python"
    }
  },
  "cells": [
    {
      "cell_type": "markdown",
      "metadata": {
        "id": "view-in-github",
        "colab_type": "text"
      },
      "source": [
        "<a href=\"https://colab.research.google.com/github/Barketalii/Python/blob/main/Session_3.ipynb\" target=\"_parent\"><img src=\"https://colab.research.google.com/assets/colab-badge.svg\" alt=\"Open In Colab\"/></a>"
      ]
    },
    {
      "cell_type": "markdown",
      "source": [
        "In programming, it's considered as a best practice to add comments to your code so that anyone else viewing your code finds it easy to go through it. In Python comments are added using the # symbol and usually highlighted in green color."
      ],
      "metadata": {
        "id": "vyOJjkZef9Ix"
      }
    },
    {
      "cell_type": "markdown",
      "source": [
        "# Variables\n",
        "\n",
        "Let's look at how Python handles variables!"
      ],
      "metadata": {
        "id": "E5md2VF0574c"
      }
    },
    {
      "cell_type": "code",
      "source": [
        "x = 20  # variable named x with value 20\n",
        "print(x)"
      ],
      "metadata": {
        "colab": {
          "base_uri": "https://localhost:8080/"
        },
        "id": "00Tr8r4X5xJp",
        "outputId": "dcdf674f-29f9-4099-b5a4-df5f6e4992a3"
      },
      "execution_count": null,
      "outputs": [
        {
          "output_type": "stream",
          "name": "stdout",
          "text": [
            "20\n"
          ]
        }
      ]
    },
    {
      "cell_type": "code",
      "source": [
        "y = 20  # variable named y with value 20\n",
        "print(y)"
      ],
      "metadata": {
        "colab": {
          "base_uri": "https://localhost:8080/"
        },
        "id": "wKn7O7q_6QJO",
        "outputId": "ca7b0fe7-eb99-480f-bf85-c4df6a5405f6"
      },
      "execution_count": null,
      "outputs": [
        {
          "output_type": "stream",
          "name": "stdout",
          "text": [
            "20\n"
          ]
        }
      ]
    },
    {
      "cell_type": "code",
      "source": [
        "id(x)   # memory location to which x refers"
      ],
      "metadata": {
        "colab": {
          "base_uri": "https://localhost:8080/"
        },
        "id": "d6h3p1uO680C",
        "outputId": "f534eb48-353c-4b1b-88df-0a1779580fa9"
      },
      "execution_count": null,
      "outputs": [
        {
          "output_type": "execute_result",
          "data": {
            "text/plain": [
              "138161704878928"
            ]
          },
          "metadata": {},
          "execution_count": 4
        }
      ]
    },
    {
      "cell_type": "code",
      "source": [
        "id(y)   # memory location to which y refers"
      ],
      "metadata": {
        "colab": {
          "base_uri": "https://localhost:8080/"
        },
        "id": "mwj5y2GO7BC7",
        "outputId": "41b75633-37fe-4d8e-816c-04e7334582b8"
      },
      "execution_count": null,
      "outputs": [
        {
          "output_type": "execute_result",
          "data": {
            "text/plain": [
              "138161704878928"
            ]
          },
          "metadata": {},
          "execution_count": 5
        }
      ]
    },
    {
      "cell_type": "code",
      "source": [
        "y = 30  # now y refers to a different memory location"
      ],
      "metadata": {
        "id": "5343Y9ZB7HY8"
      },
      "execution_count": null,
      "outputs": []
    },
    {
      "cell_type": "code",
      "source": [
        "id(y)   # Different from the value before"
      ],
      "metadata": {
        "colab": {
          "base_uri": "https://localhost:8080/"
        },
        "id": "XnWr1_oM7NHX",
        "outputId": "d33c6aab-ddf3-4b67-a487-63d6a547e62d"
      },
      "execution_count": null,
      "outputs": [
        {
          "output_type": "execute_result",
          "data": {
            "text/plain": [
              "138161704879248"
            ]
          },
          "metadata": {},
          "execution_count": 7
        }
      ]
    },
    {
      "cell_type": "markdown",
      "source": [
        "Let's put the value of one variable into other:"
      ],
      "metadata": {
        "id": "fwMKcafk7VyE"
      }
    },
    {
      "cell_type": "code",
      "source": [
        "x1 = 3"
      ],
      "metadata": {
        "id": "ULzwG6is7VeO"
      },
      "execution_count": null,
      "outputs": []
    },
    {
      "cell_type": "code",
      "source": [
        "x2 = x1     # put the value of x1 into x2"
      ],
      "metadata": {
        "id": "qPipGLje7eDO"
      },
      "execution_count": null,
      "outputs": []
    },
    {
      "cell_type": "code",
      "source": [
        "print(x2)"
      ],
      "metadata": {
        "colab": {
          "base_uri": "https://localhost:8080/"
        },
        "id": "PfIK9zigUdHU",
        "outputId": "835f8985-d57f-4751-be5e-161f70df6eac"
      },
      "execution_count": null,
      "outputs": [
        {
          "output_type": "stream",
          "name": "stdout",
          "text": [
            "3\n"
          ]
        }
      ]
    },
    {
      "cell_type": "code",
      "source": [
        "x1 = 'memory reference'      # x1 now refers to a different value and even a different type!\n",
        "\n",
        "# Dynamically typed language\n",
        "# x1 was intially a number and now it's a string"
      ],
      "metadata": {
        "id": "iiwK0FoG7n9J"
      },
      "execution_count": null,
      "outputs": []
    },
    {
      "cell_type": "markdown",
      "source": [
        "So what does x2 contain now (or what does it refer to)?"
      ],
      "metadata": {
        "id": "DPbm7jWP896Q"
      }
    },
    {
      "cell_type": "code",
      "source": [
        "x2"
      ],
      "metadata": {
        "colab": {
          "base_uri": "https://localhost:8080/"
        },
        "id": "bpCgPyp886Xi",
        "outputId": "f8b5904c-1c50-42cc-83b7-81573a9ce6e0"
      },
      "execution_count": null,
      "outputs": [
        {
          "output_type": "execute_result",
          "data": {
            "text/plain": [
              "3"
            ]
          },
          "metadata": {},
          "execution_count": 12
        }
      ]
    },
    {
      "cell_type": "markdown",
      "source": [
        "# Data Types\n",
        "\n",
        "\n"
      ],
      "metadata": {
        "id": "upfjoIJrhBpu"
      }
    },
    {
      "cell_type": "markdown",
      "source": [
        "## Strings"
      ],
      "metadata": {
        "id": "BTh0CG5Y4qkj"
      }
    },
    {
      "cell_type": "code",
      "source": [
        "text = 'It is the usual text'  # initializing a variable\n",
        "# string: used to represent sequence of characters\n",
        "print(text)"
      ],
      "metadata": {
        "colab": {
          "base_uri": "https://localhost:8080/"
        },
        "id": "s02ARmR54upC",
        "outputId": "ad3849ce-efdc-492a-aa19-43a546f32ae6"
      },
      "execution_count": null,
      "outputs": [
        {
          "output_type": "stream",
          "name": "stdout",
          "text": [
            "It is the usual text\n"
          ]
        }
      ]
    },
    {
      "cell_type": "code",
      "source": [
        "more_text = \"Enclosed within single or double quotes\"\n",
        "print(more_text)"
      ],
      "metadata": {
        "colab": {
          "base_uri": "https://localhost:8080/"
        },
        "id": "9mKYqY07475M",
        "outputId": "95a11111-9753-4129-e8c7-a64353180817"
      },
      "execution_count": null,
      "outputs": [
        {
          "output_type": "stream",
          "name": "stdout",
          "text": [
            "Enclosed within single or double quotes\n"
          ]
        }
      ]
    },
    {
      "cell_type": "code",
      "source": [
        "text_1 = \"Enjoying some Python on a Sunday!\"\n",
        "text_2 = \"The session number is\"\n",
        "text_3 = '3'"
      ],
      "metadata": {
        "id": "AzO60GOS5Med"
      },
      "execution_count": null,
      "outputs": []
    },
    {
      "cell_type": "code",
      "source": [
        "# Concatenation\n",
        "print(text_1 + ' ' + text_2 + ' ' + text_3)"
      ],
      "metadata": {
        "colab": {
          "base_uri": "https://localhost:8080/"
        },
        "id": "aTCwJjD85f_b",
        "outputId": "1f4dc4f1-fa1d-4c45-d76b-b95d47e89ae1"
      },
      "execution_count": null,
      "outputs": [
        {
          "output_type": "stream",
          "name": "stdout",
          "text": [
            "Enjoying some Python on a Sunday! The session number is 3\n"
          ]
        }
      ]
    },
    {
      "cell_type": "code",
      "source": [
        "# Strings are iterable, i.e we can move through its characters sequentially\n",
        "text_2[-2]"
      ],
      "metadata": {
        "colab": {
          "base_uri": "https://localhost:8080/",
          "height": 35
        },
        "id": "if7t-RTT-cil",
        "outputId": "19456063-89e6-479e-df27-a6ea0c1336a5"
      },
      "execution_count": null,
      "outputs": [
        {
          "output_type": "execute_result",
          "data": {
            "text/plain": [
              "'i'"
            ],
            "application/vnd.google.colaboratory.intrinsic+json": {
              "type": "string"
            }
          },
          "metadata": {},
          "execution_count": 22
        }
      ]
    },
    {
      "cell_type": "code",
      "source": [
        "text\n",
        "text_2"
      ],
      "metadata": {
        "colab": {
          "base_uri": "https://localhost:8080/",
          "height": 35
        },
        "id": "Y3sqzL0sYovz",
        "outputId": "0b53d5c0-3036-4d0c-f8e4-5b8b5813442c"
      },
      "execution_count": null,
      "outputs": [
        {
          "output_type": "execute_result",
          "data": {
            "text/plain": [
              "'The session number is'"
            ],
            "application/vnd.google.colaboratory.intrinsic+json": {
              "type": "string"
            }
          },
          "metadata": {},
          "execution_count": 28
        }
      ]
    },
    {
      "cell_type": "code",
      "source": [
        "# Check the type of variables with type()\n",
        "type(text)"
      ],
      "metadata": {
        "colab": {
          "base_uri": "https://localhost:8080/"
        },
        "id": "OsYqAeEbAYPv",
        "outputId": "27d66d43-3581-4b3a-f2dd-4ed8209b949e"
      },
      "execution_count": null,
      "outputs": [
        {
          "output_type": "execute_result",
          "data": {
            "text/plain": [
              "str"
            ]
          },
          "metadata": {},
          "execution_count": 24
        }
      ]
    },
    {
      "cell_type": "code",
      "source": [
        "# We can also check the length of a string, i.e how many characters it contains\n",
        "some_text = 'Chillai kalan'\n",
        "len(some_text)"
      ],
      "metadata": {
        "colab": {
          "base_uri": "https://localhost:8080/"
        },
        "id": "wNqTta8DFZJM",
        "outputId": "2334d9ab-dc38-4b34-fa34-4d219917262e"
      },
      "execution_count": null,
      "outputs": [
        {
          "output_type": "execute_result",
          "data": {
            "text/plain": [
              "13"
            ]
          },
          "metadata": {},
          "execution_count": 25
        }
      ]
    },
    {
      "cell_type": "markdown",
      "source": [
        "## Numbers"
      ],
      "metadata": {
        "id": "qPMDPbVz_8aO"
      }
    },
    {
      "cell_type": "code",
      "execution_count": null,
      "metadata": {
        "id": "YJzTpbDIg4sV"
      },
      "outputs": [],
      "source": [
        "num = 13    # represents integers both positive and negative"
      ]
    },
    {
      "cell_type": "code",
      "source": [
        "type(num)"
      ],
      "metadata": {
        "colab": {
          "base_uri": "https://localhost:8080/"
        },
        "id": "Cq9SEDO4aGc7",
        "outputId": "f9fff353-d7d6-4880-a63e-01ae6d463e0e"
      },
      "execution_count": null,
      "outputs": [
        {
          "output_type": "execute_result",
          "data": {
            "text/plain": [
              "int"
            ]
          },
          "metadata": {},
          "execution_count": 30
        }
      ]
    },
    {
      "cell_type": "code",
      "source": [
        "deci = 24.3     # decimal value"
      ],
      "metadata": {
        "id": "a3V7sFcl3xdE"
      },
      "execution_count": null,
      "outputs": []
    },
    {
      "cell_type": "code",
      "source": [
        "type(deci)"
      ],
      "metadata": {
        "colab": {
          "base_uri": "https://localhost:8080/"
        },
        "id": "dULxaPwjaMlm",
        "outputId": "4070f7f9-5f77-4de5-bc3c-ae2fd0823cf5"
      },
      "execution_count": null,
      "outputs": [
        {
          "output_type": "execute_result",
          "data": {
            "text/plain": [
              "float"
            ]
          },
          "metadata": {},
          "execution_count": 32
        }
      ]
    },
    {
      "cell_type": "code",
      "source": [
        "# We have the usual operations in Python\n",
        "2 + 3"
      ],
      "metadata": {
        "colab": {
          "base_uri": "https://localhost:8080/"
        },
        "id": "C4c-lZzm3x-S",
        "outputId": "6be6c746-0e8d-4cc4-a2ce-312d3ccf42c1"
      },
      "execution_count": null,
      "outputs": [
        {
          "output_type": "execute_result",
          "data": {
            "text/plain": [
              "5"
            ]
          },
          "metadata": {},
          "execution_count": 33
        }
      ]
    },
    {
      "cell_type": "code",
      "source": [
        "3 - 4"
      ],
      "metadata": {
        "colab": {
          "base_uri": "https://localhost:8080/"
        },
        "id": "43ShkdzBAvVD",
        "outputId": "e59d5dc5-cae2-493d-f570-cd9d43254a8b"
      },
      "execution_count": null,
      "outputs": [
        {
          "output_type": "execute_result",
          "data": {
            "text/plain": [
              "-1"
            ]
          },
          "metadata": {},
          "execution_count": 34
        }
      ]
    },
    {
      "cell_type": "code",
      "source": [
        "3 * 3"
      ],
      "metadata": {
        "colab": {
          "base_uri": "https://localhost:8080/"
        },
        "id": "0HyV7P1WAwFa",
        "outputId": "0dbde8cf-a633-4ba3-e573-14991c574661"
      },
      "execution_count": null,
      "outputs": [
        {
          "output_type": "execute_result",
          "data": {
            "text/plain": [
              "9"
            ]
          },
          "metadata": {},
          "execution_count": 35
        }
      ]
    },
    {
      "cell_type": "code",
      "source": [
        "14 / 4"
      ],
      "metadata": {
        "colab": {
          "base_uri": "https://localhost:8080/"
        },
        "id": "Njjfcv34Aw7b",
        "outputId": "328f4073-a97f-47fe-bd27-3eb992b60a4a"
      },
      "execution_count": null,
      "outputs": [
        {
          "output_type": "execute_result",
          "data": {
            "text/plain": [
              "3.5"
            ]
          },
          "metadata": {},
          "execution_count": 36
        }
      ]
    },
    {
      "cell_type": "markdown",
      "source": [
        "Some other discrete operations in Python:"
      ],
      "metadata": {
        "id": "di7OtcAMAxvM"
      }
    },
    {
      "cell_type": "code",
      "source": [
        "# integer division\n",
        "20 / 3     # returns the integer part of the quotient"
      ],
      "metadata": {
        "colab": {
          "base_uri": "https://localhost:8080/"
        },
        "id": "aYrfq8r2A5IG",
        "outputId": "87e6b7c2-9dec-4d39-be24-4100b2ab0ca3"
      },
      "execution_count": null,
      "outputs": [
        {
          "output_type": "execute_result",
          "data": {
            "text/plain": [
              "6.666666666666667"
            ]
          },
          "metadata": {},
          "execution_count": 37
        }
      ]
    },
    {
      "cell_type": "code",
      "source": [
        "20 // 3"
      ],
      "metadata": {
        "colab": {
          "base_uri": "https://localhost:8080/"
        },
        "id": "FLwJuVEHanL8",
        "outputId": "012262c3-a2c7-4de2-c9a3-3fd923f69dc4"
      },
      "execution_count": null,
      "outputs": [
        {
          "output_type": "execute_result",
          "data": {
            "text/plain": [
              "6"
            ]
          },
          "metadata": {},
          "execution_count": 38
        }
      ]
    },
    {
      "cell_type": "code",
      "source": [
        "round(20.334123)"
      ],
      "metadata": {
        "colab": {
          "base_uri": "https://localhost:8080/"
        },
        "id": "uMAE4-eXBG75",
        "outputId": "1b527e28-3e39-44b9-ecc2-bfda7a4bb178"
      },
      "execution_count": null,
      "outputs": [
        {
          "output_type": "execute_result",
          "data": {
            "text/plain": [
              "20"
            ]
          },
          "metadata": {},
          "execution_count": 39
        }
      ]
    },
    {
      "cell_type": "code",
      "source": [
        "# Modulo operator\n",
        "20 % 3      # Returns the remainder from a division"
      ],
      "metadata": {
        "colab": {
          "base_uri": "https://localhost:8080/"
        },
        "id": "Np4MEbQgBLGv",
        "outputId": "65648332-4903-4ed8-a5a7-51c5fa26c606"
      },
      "execution_count": null,
      "outputs": [
        {
          "output_type": "execute_result",
          "data": {
            "text/plain": [
              "2"
            ]
          },
          "metadata": {},
          "execution_count": 40
        }
      ]
    },
    {
      "cell_type": "code",
      "source": [
        "# Exponentiation\n",
        "2 ** 3"
      ],
      "metadata": {
        "colab": {
          "base_uri": "https://localhost:8080/"
        },
        "id": "S6p-jxWWBrha",
        "outputId": "16f313b1-819a-41fc-e5f3-ecbd412ce24a"
      },
      "execution_count": null,
      "outputs": [
        {
          "output_type": "execute_result",
          "data": {
            "text/plain": [
              "8"
            ]
          },
          "metadata": {},
          "execution_count": 41
        }
      ]
    },
    {
      "cell_type": "markdown",
      "source": [
        "Let's check the type:"
      ],
      "metadata": {
        "id": "0-DuSblQBgZq"
      }
    },
    {
      "cell_type": "code",
      "source": [
        "type(num)"
      ],
      "metadata": {
        "colab": {
          "base_uri": "https://localhost:8080/"
        },
        "id": "d3mmsqWjBPX1",
        "outputId": "4b8148e8-4f85-452f-b599-79423ac42132"
      },
      "execution_count": null,
      "outputs": [
        {
          "output_type": "execute_result",
          "data": {
            "text/plain": [
              "int"
            ]
          },
          "metadata": {},
          "execution_count": 42
        }
      ]
    },
    {
      "cell_type": "code",
      "source": [
        "type(deci)"
      ],
      "metadata": {
        "colab": {
          "base_uri": "https://localhost:8080/"
        },
        "id": "mnmzMLUEE1bH",
        "outputId": "4797f7e1-e396-40d6-db4d-d9389dcaf013"
      },
      "execution_count": null,
      "outputs": [
        {
          "output_type": "execute_result",
          "data": {
            "text/plain": [
              "float"
            ]
          },
          "metadata": {},
          "execution_count": 43
        }
      ]
    },
    {
      "cell_type": "code",
      "source": [
        "# i=8\n",
        "# print(i)"
      ],
      "metadata": {
        "id": "S8OKU6CrP1RE",
        "outputId": "f0d06fc1-34f8-49ff-c237-6d8f790601d6",
        "colab": {
          "base_uri": "https://localhost:8080/"
        }
      },
      "execution_count": 1,
      "outputs": [
        {
          "output_type": "stream",
          "name": "stdout",
          "text": [
            "8\n"
          ]
        }
      ]
    },
    {
      "cell_type": "code",
      "source": [
        "# j=i\n",
        "# print(j)"
      ],
      "metadata": {
        "id": "c8EPfg74P6tq",
        "outputId": "c086599d-efbb-4d61-9e09-502cc98074ff",
        "colab": {
          "base_uri": "https://localhost:8080/"
        }
      },
      "execution_count": 2,
      "outputs": [
        {
          "output_type": "stream",
          "name": "stdout",
          "text": [
            "8\n"
          ]
        }
      ]
    },
    {
      "cell_type": "code",
      "source": [
        "obj=i\n",
        "print(obj)\n",
        "print(type(i))"
      ],
      "metadata": {
        "id": "pP_GfdxRQAvU",
        "outputId": "d514e045-a24e-415e-d829-36bfe96fc9c4",
        "colab": {
          "base_uri": "https://localhost:8080/"
        }
      },
      "execution_count": 11,
      "outputs": [
        {
          "output_type": "stream",
          "name": "stdout",
          "text": [
            "8\n",
            "<class 'int'>\n"
          ]
        }
      ]
    }
  ]
}