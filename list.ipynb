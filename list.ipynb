{
  "nbformat": 4,
  "nbformat_minor": 0,
  "metadata": {
    "colab": {
      "provenance": [],
      "authorship_tag": "ABX9TyOXDncl2xIcUXkOm7wiuN9u",
      "include_colab_link": true
    },
    "kernelspec": {
      "name": "python3",
      "display_name": "Python 3"
    },
    "language_info": {
      "name": "python"
    }
  },
  "cells": [
    {
      "cell_type": "markdown",
      "metadata": {
        "id": "view-in-github",
        "colab_type": "text"
      },
      "source": [
        "<a href=\"https://colab.research.google.com/github/Barketalii/Python/blob/main/list.ipynb\" target=\"_parent\"><img src=\"https://colab.research.google.com/assets/colab-badge.svg\" alt=\"Open In Colab\"/></a>"
      ]
    },
    {
      "cell_type": "markdown",
      "source": [
        "List\n",
        "a list is a sequence of objects declered using square brackets and the elements are separated by commas. the object may be combiation of different types numbers,strings even other lsits.it is orderd and indexable\n"
      ],
      "metadata": {
        "id": "r2T3BsRgPv4b"
      }
    },
    {
      "cell_type": "markdown",
      "source": [
        "**list constructor function**:the list constructor function is for creating new list object the two ways of creating a new list object is list()  and []the default values for the list is [] (empty list) if no argument is given to constructor list it creates a new empty list"
      ],
      "metadata": {
        "id": "FznpRLJ9QzHV"
      }
    },
    {
      "cell_type": "code",
      "source": [
        "lst=list()\n",
        "lst"
      ],
      "metadata": {
        "colab": {
          "base_uri": "https://localhost:8080/"
        },
        "id": "XkGQ6lpFRhBP",
        "outputId": "6b6eef21-b677-4f99-8b4c-8a104b507b3b"
      },
      "execution_count": 1,
      "outputs": [
        {
          "output_type": "execute_result",
          "data": {
            "text/plain": [
              "[]"
            ]
          },
          "metadata": {},
          "execution_count": 1
        }
      ]
    },
    {
      "cell_type": "code",
      "source": [
        "print(type(lst))"
      ],
      "metadata": {
        "colab": {
          "base_uri": "https://localhost:8080/"
        },
        "id": "fJvhU9YJRmL6",
        "outputId": "8282fa32-4117-49c5-f874-0e9fc0270fdc"
      },
      "execution_count": 2,
      "outputs": [
        {
          "output_type": "stream",
          "name": "stdout",
          "text": [
            "<class 'list'>\n"
          ]
        }
      ]
    },
    {
      "cell_type": "code",
      "source": [
        "lst=[]\n",
        "lst"
      ],
      "metadata": {
        "colab": {
          "base_uri": "https://localhost:8080/"
        },
        "id": "2gbi0oUYRwnl",
        "outputId": "a73d2523-f3f4-434b-8f90-4baf0d124607"
      },
      "execution_count": 3,
      "outputs": [
        {
          "output_type": "execute_result",
          "data": {
            "text/plain": [
              "[]"
            ]
          },
          "metadata": {},
          "execution_count": 3
        }
      ]
    },
    {
      "cell_type": "code",
      "source": [
        "type(lst)"
      ],
      "metadata": {
        "colab": {
          "base_uri": "https://localhost:8080/"
        },
        "id": "9K2tjAuvRyVt",
        "outputId": "c6029855-631f-4cbd-b4d2-831e84a474f0"
      },
      "execution_count": 4,
      "outputs": [
        {
          "output_type": "execute_result",
          "data": {
            "text/plain": [
              "list"
            ]
          },
          "metadata": {},
          "execution_count": 4
        }
      ]
    },
    {
      "cell_type": "markdown",
      "source": [
        "**note that the constructor like tuple,list are not called methods because they are not called on existing object like methodsbut rather they are used to create new objectsof the corresponding type**"
      ],
      "metadata": {
        "id": "T1PiDrVTR_ok"
      }
    },
    {
      "cell_type": "markdown",
      "source": [
        "Indexing of list\n",
        "indexing starts with zero\n",
        "accessing a non exixting index will result in IndexError\n"
      ],
      "metadata": {
        "id": "OX2JqkqcSf16"
      }
    },
    {
      "cell_type": "code",
      "source": [
        "fruits=['apple','mango','grapes','mango']\n",
        "for i in range(len(fruits)):\n",
        "  print(f'the index of  {fruits[i]} {i}')"
      ],
      "metadata": {
        "colab": {
          "base_uri": "https://localhost:8080/"
        },
        "id": "BhDaErG-S1J9",
        "outputId": "3a0092a2-901d-43d5-8fd2-f2c8f4a3a3de"
      },
      "execution_count": 8,
      "outputs": [
        {
          "output_type": "stream",
          "name": "stdout",
          "text": [
            "the index of  apple 0\n",
            "the index of  mango 1\n",
            "the index of  grapes 2\n",
            "the index of  mango 3\n"
          ]
        }
      ]
    },
    {
      "cell_type": "code",
      "source": [
        "fruits[0]"
      ],
      "metadata": {
        "colab": {
          "base_uri": "https://localhost:8080/",
          "height": 35
        },
        "id": "FRZauYFmT3xD",
        "outputId": "81077f12-d1db-4296-892a-57c8d7c50b81"
      },
      "execution_count": 15,
      "outputs": [
        {
          "output_type": "execute_result",
          "data": {
            "text/plain": [
              "'apple'"
            ],
            "application/vnd.google.colaboratory.intrinsic+json": {
              "type": "string"
            }
          },
          "metadata": {},
          "execution_count": 15
        }
      ]
    },
    {
      "cell_type": "markdown",
      "source": [
        "indexing of Nested lists\n",
        "lsit within list"
      ],
      "metadata": {
        "id": "KXieL7-EUJ9G"
      }
    },
    {
      "cell_type": "code",
      "source": [
        "lst=[1,2,3,'six',[1,2,3]]\n",
        "lst[4]"
      ],
      "metadata": {
        "colab": {
          "base_uri": "https://localhost:8080/"
        },
        "id": "iSNyNHM-UTfy",
        "outputId": "74df9d95-4dcc-4572-ed9f-dbc5b5327f94"
      },
      "execution_count": 14,
      "outputs": [
        {
          "output_type": "execute_result",
          "data": {
            "text/plain": [
              "[1, 2, 3]"
            ]
          },
          "metadata": {},
          "execution_count": 14
        }
      ]
    },
    {
      "cell_type": "code",
      "source": [
        "lst.index([1,2,3])"
      ],
      "metadata": {
        "colab": {
          "base_uri": "https://localhost:8080/"
        },
        "id": "GLz2gHDkUy_O",
        "outputId": "1c02b78e-ffe3-4cb2-baad-def0b21c7666"
      },
      "execution_count": 16,
      "outputs": [
        {
          "output_type": "execute_result",
          "data": {
            "text/plain": [
              "4"
            ]
          },
          "metadata": {},
          "execution_count": 16
        }
      ]
    },
    {
      "cell_type": "markdown",
      "source": [
        "Negative indexing"
      ],
      "metadata": {
        "id": "OH_XJ_71U7MA"
      }
    },
    {
      "cell_type": "code",
      "source": [
        "fruits=fruits=['apple','mango','grapes','mango']\n",
        "fruits[-1]"
      ],
      "metadata": {
        "colab": {
          "base_uri": "https://localhost:8080/",
          "height": 35
        },
        "id": "2JM_mvX1U9Ij",
        "outputId": "363b82a8-0ebf-4169-9922-375f48ebc64b"
      },
      "execution_count": 17,
      "outputs": [
        {
          "output_type": "execute_result",
          "data": {
            "text/plain": [
              "'mango'"
            ],
            "application/vnd.google.colaboratory.intrinsic+json": {
              "type": "string"
            }
          },
          "metadata": {},
          "execution_count": 17
        }
      ]
    },
    {
      "cell_type": "code",
      "source": [
        "fruits = ['apple', 'mango', 'grapes', 'mango']\n",
        "\n",
        "for i in range(-1 , -len(fruits)-1, -1):\n",
        "    print(f\"The negative index of {fruits[i]} is {i}\")\n"
      ],
      "metadata": {
        "colab": {
          "base_uri": "https://localhost:8080/"
        },
        "id": "HFhRhjKDVEyi",
        "outputId": "019dc31f-69ab-49b4-ac5b-93d2e8d93f55"
      },
      "execution_count": 25,
      "outputs": [
        {
          "output_type": "stream",
          "name": "stdout",
          "text": [
            "The negative index of mango is -1\n",
            "The negative index of grapes is -2\n",
            "The negative index of mango is -3\n",
            "The negative index of apple is -4\n"
          ]
        }
      ]
    },
    {
      "cell_type": "markdown",
      "source": [
        "Slicing of lists:the range of items from the list can be accessed using the slice operator which is colon(:) and with indexes starting from zero and ending with length of list"
      ],
      "metadata": {
        "id": "qRISMn8DYp24"
      }
    },
    {
      "cell_type": "code",
      "source": [
        "fruits[:]"
      ],
      "metadata": {
        "colab": {
          "base_uri": "https://localhost:8080/"
        },
        "id": "HtuUwjYIZNep",
        "outputId": "5f8e065f-5f42-404d-9cdd-e3ddcd678c9b"
      },
      "execution_count": 26,
      "outputs": [
        {
          "output_type": "execute_result",
          "data": {
            "text/plain": [
              "['apple', 'mango', 'grapes', 'mango']"
            ]
          },
          "metadata": {},
          "execution_count": 26
        }
      ]
    },
    {
      "cell_type": "code",
      "source": [
        "fruits[0:2]"
      ],
      "metadata": {
        "colab": {
          "base_uri": "https://localhost:8080/"
        },
        "id": "hGyjnK6BZQ0c",
        "outputId": "c02971ba-c3eb-4b12-c231-999146352750"
      },
      "execution_count": 27,
      "outputs": [
        {
          "output_type": "execute_result",
          "data": {
            "text/plain": [
              "['apple', 'mango']"
            ]
          },
          "metadata": {},
          "execution_count": 27
        }
      ]
    },
    {
      "cell_type": "code",
      "source": [
        "fruits[:2]"
      ],
      "metadata": {
        "colab": {
          "base_uri": "https://localhost:8080/"
        },
        "id": "Q3gDnRd6ZWEd",
        "outputId": "befe7950-c1d5-473e-cb84-691d649d4713"
      },
      "execution_count": 28,
      "outputs": [
        {
          "output_type": "execute_result",
          "data": {
            "text/plain": [
              "['apple', 'mango']"
            ]
          },
          "metadata": {},
          "execution_count": 28
        }
      ]
    },
    {
      "cell_type": "markdown",
      "source": [
        "Mutability of lists:unlike strings lists are mutable"
      ],
      "metadata": {
        "id": "tsOpum82ZgFq"
      }
    },
    {
      "cell_type": "code",
      "source": [
        "fruits[:]"
      ],
      "metadata": {
        "colab": {
          "base_uri": "https://localhost:8080/"
        },
        "id": "N6ScHsN_Zn41",
        "outputId": "270a205b-87c0-4c06-bf84-ea42f7da2772"
      },
      "execution_count": 31,
      "outputs": [
        {
          "output_type": "execute_result",
          "data": {
            "text/plain": [
              "['apple', 'mango', 'grapes', 'mango']"
            ]
          },
          "metadata": {},
          "execution_count": 31
        }
      ]
    },
    {
      "cell_type": "code",
      "source": [
        "fruits[2]='banana'\n",
        "fruits"
      ],
      "metadata": {
        "colab": {
          "base_uri": "https://localhost:8080/"
        },
        "id": "acPpbwJjZrni",
        "outputId": "5c1ac65c-7d80-4821-f4de-f16fe670deb5"
      },
      "execution_count": 33,
      "outputs": [
        {
          "output_type": "execute_result",
          "data": {
            "text/plain": [
              "['apple', 'mango', 'banana', 'mango']"
            ]
          },
          "metadata": {},
          "execution_count": 33
        }
      ]
    },
    {
      "cell_type": "markdown",
      "source": [
        "concatination of lists\n",
        "while the + operator concatinates two lists the *\n",
        "operator concatinates n copies of list(list * n)\n",
        "\n"
      ],
      "metadata": {
        "id": "dWUHCMtBZ9HD"
      }
    },
    {
      "cell_type": "code",
      "source": [
        "fruits=['apple', 'mango', 'grapes', 'mango']\n",
        "morefruits=['kiwi','tomato']\n",
        "allfruits=fruits+morefruits\n",
        "allfruits"
      ],
      "metadata": {
        "colab": {
          "base_uri": "https://localhost:8080/"
        },
        "id": "hzxm6NKBZ6S4",
        "outputId": "30ea2f3d-b3b1-4ea9-be46-18bb6667035e"
      },
      "execution_count": 35,
      "outputs": [
        {
          "output_type": "execute_result",
          "data": {
            "text/plain": [
              "['apple', 'mango', 'grapes', 'mango', 'kiwi', 'tomato']"
            ]
          },
          "metadata": {},
          "execution_count": 35
        }
      ]
    },
    {
      "cell_type": "code",
      "source": [
        "morefruits*2"
      ],
      "metadata": {
        "colab": {
          "base_uri": "https://localhost:8080/"
        },
        "id": "BYVdtoyScxu6",
        "outputId": "5f68c3cb-cd65-4ced-eabc-c990b934ac25"
      },
      "execution_count": 36,
      "outputs": [
        {
          "output_type": "execute_result",
          "data": {
            "text/plain": [
              "['kiwi', 'tomato', 'kiwi', 'tomato']"
            ]
          },
          "metadata": {},
          "execution_count": 36
        }
      ]
    },
    {
      "cell_type": "code",
      "source": [
        "2*morefruits"
      ],
      "metadata": {
        "colab": {
          "base_uri": "https://localhost:8080/"
        },
        "id": "--7qkCY8c7LW",
        "outputId": "39fa8e00-16bd-455e-85f7-ed48c935049a"
      },
      "execution_count": 37,
      "outputs": [
        {
          "output_type": "execute_result",
          "data": {
            "text/plain": [
              "['kiwi', 'tomato', 'kiwi', 'tomato']"
            ]
          },
          "metadata": {},
          "execution_count": 37
        }
      ]
    },
    {
      "cell_type": "markdown",
      "source": [
        "membership in a list"
      ],
      "metadata": {
        "id": "L9Sz2ohXc-Vv"
      }
    },
    {
      "cell_type": "code",
      "source": [
        "fruits=['apple', 'mango', 'grapes', 'mango']\n",
        "'apple' in fruits"
      ],
      "metadata": {
        "colab": {
          "base_uri": "https://localhost:8080/"
        },
        "id": "sz4mOf-idAe-",
        "outputId": "4ab6bb00-a4d0-4ccf-8951-d3bf58d354e3"
      },
      "execution_count": 38,
      "outputs": [
        {
          "output_type": "execute_result",
          "data": {
            "text/plain": [
              "True"
            ]
          },
          "metadata": {},
          "execution_count": 38
        }
      ]
    },
    {
      "cell_type": "code",
      "source": [
        "'kiwi' in fruits"
      ],
      "metadata": {
        "colab": {
          "base_uri": "https://localhost:8080/"
        },
        "id": "xpWw-UxVdLCV",
        "outputId": "1906ffb5-1d7b-4b3f-b203-964aac9c9d92"
      },
      "execution_count": 39,
      "outputs": [
        {
          "output_type": "execute_result",
          "data": {
            "text/plain": [
              "False"
            ]
          },
          "metadata": {},
          "execution_count": 39
        }
      ]
    },
    {
      "cell_type": "markdown",
      "source": [
        "compare the items\n",
        "while == and  != test whether two items in a list are equal or not the comprision operator < and > compare the items if the two items cpmpared are strings then the comprision is is using dictionary order"
      ],
      "metadata": {
        "id": "fTmzggZ9dQZc"
      }
    },
    {
      "cell_type": "code",
      "source": [
        "num=[1,2,3,4,5,6,7,4,89]\n",
        "num[1]==num[7]"
      ],
      "metadata": {
        "colab": {
          "base_uri": "https://localhost:8080/"
        },
        "id": "PZ66iJ_1dSiT",
        "outputId": "52fa4247-b1a7-47cb-ba7c-c369ee27de8c"
      },
      "execution_count": 40,
      "outputs": [
        {
          "output_type": "execute_result",
          "data": {
            "text/plain": [
              "False"
            ]
          },
          "metadata": {},
          "execution_count": 40
        }
      ]
    },
    {
      "cell_type": "code",
      "source": [
        "num[6]>num[1]"
      ],
      "metadata": {
        "colab": {
          "base_uri": "https://localhost:8080/"
        },
        "id": "wmsvmC8heG8L",
        "outputId": "8006eeb3-5ec4-43dc-bc87-d656ac17b118"
      },
      "execution_count": 41,
      "outputs": [
        {
          "output_type": "execute_result",
          "data": {
            "text/plain": [
              "True"
            ]
          },
          "metadata": {},
          "execution_count": 41
        }
      ]
    },
    {
      "cell_type": "markdown",
      "source": [
        "list methods\n",
        "1:append() used to add the element a tthe end of lsit"
      ],
      "metadata": {
        "id": "1R_-Vy4ieRnd"
      }
    },
    {
      "cell_type": "code",
      "source": [
        "a=[1,2]\n",
        "a.append(3)\n",
        "a"
      ],
      "metadata": {
        "colab": {
          "base_uri": "https://localhost:8080/"
        },
        "id": "tPo6LXfReVYT",
        "outputId": "249db14d-cd23-4c5b-a9b8-7aadc2334f91"
      },
      "execution_count": 43,
      "outputs": [
        {
          "output_type": "execute_result",
          "data": {
            "text/plain": [
              "[1, 2, 3]"
            ]
          },
          "metadata": {},
          "execution_count": 43
        }
      ]
    },
    {
      "cell_type": "markdown",
      "source": [
        "2:extend() it extends the list by appending elements from the iterable\n",
        "what i mean to say is that if i do like this\n",
        "a=[1,2,3]\n",
        "b=[4,5,6]\n",
        "then write a.append(b)\n",
        "it will give ouput a=[1,2,2,[4,5,6]]\n",
        "but i want a=[1,2,3,4,5,6]\n",
        "which is possible by using a.extend(b)\n",
        "a=[1,2,3,4,5,6]"
      ],
      "metadata": {
        "id": "X-zKCtkUekUV"
      }
    },
    {
      "cell_type": "code",
      "source": [
        "a=[1,2,3]\n",
        "b=[4,5,6]\n",
        "a.append(b)\n",
        "print(a)\n"
      ],
      "metadata": {
        "colab": {
          "base_uri": "https://localhost:8080/"
        },
        "id": "NX-QroNon2Nt",
        "outputId": "b6ffa192-7ae8-43fc-bb72-6262dcd47b39"
      },
      "execution_count": 51,
      "outputs": [
        {
          "output_type": "stream",
          "name": "stdout",
          "text": [
            "[1, 2, 3, [4, 5, 6]]\n"
          ]
        }
      ]
    },
    {
      "cell_type": "code",
      "source": [
        "a=[1,2,3]\n",
        "b=[4,5,6]\n",
        "a.extend(b)\n",
        "print(a)"
      ],
      "metadata": {
        "colab": {
          "base_uri": "https://localhost:8080/"
        },
        "id": "OYncXkZLn_-F",
        "outputId": "b7f84a5a-9fd5-41b2-e02e-babb41eddf7f"
      },
      "execution_count": 53,
      "outputs": [
        {
          "output_type": "stream",
          "name": "stdout",
          "text": [
            "[1, 2, 3, 4, 5, 6]\n"
          ]
        }
      ]
    },
    {
      "cell_type": "markdown",
      "source": [
        "insert() it inserts object before the specified index"
      ],
      "metadata": {
        "id": "Ce8TPVJQo8jM"
      }
    },
    {
      "cell_type": "code",
      "source": [
        "a=[\"apple\",\"banana\"]\n",
        "a.insert(0,\"kiwi\")\n",
        "a"
      ],
      "metadata": {
        "colab": {
          "base_uri": "https://localhost:8080/"
        },
        "id": "3WrCJpYppCwC",
        "outputId": "f5414801-35cd-4a7a-d402-d7670f7529ee"
      },
      "execution_count": 56,
      "outputs": [
        {
          "output_type": "execute_result",
          "data": {
            "text/plain": [
              "['kiwi', 'apple', 'banana']"
            ]
          },
          "metadata": {},
          "execution_count": 56
        }
      ]
    },
    {
      "cell_type": "code",
      "source": [
        "a.insert(1,'mango')\n",
        "a"
      ],
      "metadata": {
        "colab": {
          "base_uri": "https://localhost:8080/"
        },
        "id": "kGP1B0i8pObF",
        "outputId": "2a4a761b-a670-4fac-b0ea-bc21bc8cfdf3"
      },
      "execution_count": 57,
      "outputs": [
        {
          "output_type": "execute_result",
          "data": {
            "text/plain": [
              "['kiwi', 'mango', 'apple', 'banana']"
            ]
          },
          "metadata": {},
          "execution_count": 57
        }
      ]
    },
    {
      "cell_type": "markdown",
      "source": [
        "pop()\n",
        "it removes and returns item at specified index.IndexError is raised if lsit is empty or index is out of range"
      ],
      "metadata": {
        "id": "7I1JAA_apiGf"
      }
    },
    {
      "cell_type": "code",
      "source": [
        "fruits=['mang','dango','tango']\n",
        "fruits.pop(1)"
      ],
      "metadata": {
        "colab": {
          "base_uri": "https://localhost:8080/",
          "height": 35
        },
        "id": "UOuD5nfgp0zr",
        "outputId": "9f202200-42e8-47e2-ac77-b94dbcc2c206"
      },
      "execution_count": 58,
      "outputs": [
        {
          "output_type": "execute_result",
          "data": {
            "text/plain": [
              "'dango'"
            ],
            "application/vnd.google.colaboratory.intrinsic+json": {
              "type": "string"
            }
          },
          "metadata": {},
          "execution_count": 58
        }
      ]
    },
    {
      "cell_type": "code",
      "source": [
        "fruits"
      ],
      "metadata": {
        "colab": {
          "base_uri": "https://localhost:8080/"
        },
        "id": "YurxcS2wqB_Z",
        "outputId": "88f6fc1b-3caa-4844-f1ea-641f14e3da31"
      },
      "execution_count": 59,
      "outputs": [
        {
          "output_type": "execute_result",
          "data": {
            "text/plain": [
              "['mang', 'tango']"
            ]
          },
          "metadata": {},
          "execution_count": 59
        }
      ]
    },
    {
      "cell_type": "markdown",
      "source": [
        "remove() removes the forst occuranceof value .ValueError is raised if the valuse is not present"
      ],
      "metadata": {
        "id": "wJ38lIvuqFFy"
      }
    },
    {
      "cell_type": "code",
      "source": [
        "a=[1,2,3,4,5,1,2]\n",
        "a.remove(1)\n",
        "a"
      ],
      "metadata": {
        "colab": {
          "base_uri": "https://localhost:8080/"
        },
        "id": "MWIEJHrIqDMT",
        "outputId": "995fa159-13dd-4545-851c-b073183da91b"
      },
      "execution_count": 61,
      "outputs": [
        {
          "output_type": "execute_result",
          "data": {
            "text/plain": [
              "[2, 3, 4, 5, 1, 2]"
            ]
          },
          "metadata": {},
          "execution_count": 61
        }
      ]
    },
    {
      "cell_type": "markdown",
      "source": [
        "clear() it removes all items from list"
      ],
      "metadata": {
        "id": "ESNxD4ebqiAz"
      }
    },
    {
      "cell_type": "code",
      "source": [
        "a.clear()\n",
        "a"
      ],
      "metadata": {
        "colab": {
          "base_uri": "https://localhost:8080/"
        },
        "id": "heNb73_4qm8N",
        "outputId": "53b6294a-bf96-4cd2-d589-ea89daf64ed0"
      },
      "execution_count": 63,
      "outputs": [
        {
          "output_type": "execute_result",
          "data": {
            "text/plain": [
              "[]"
            ]
          },
          "metadata": {},
          "execution_count": 63
        }
      ]
    },
    {
      "cell_type": "markdown",
      "source": [
        "copy() it returns a shallow copy of lsit\n",
        "there are two types of copies one is shallow and other is deep\n",
        "**shallow copy**: the copy created which internlly are same i mean to say that if one copy is altered or changed then the change will reflect in the other copy as well\n",
        "while as **deep copy** is one in which two different copies are created indipendent on each othe no change will reflect on other if one is changed\n"
      ],
      "metadata": {
        "id": "kUbI6W55qsab"
      }
    },
    {
      "cell_type": "code",
      "source": [
        "a=[1,2,3,4]\n",
        "b=a.copy()\n",
        "b"
      ],
      "metadata": {
        "colab": {
          "base_uri": "https://localhost:8080/"
        },
        "id": "tanIK1O_r09K",
        "outputId": "4123bba3-40bb-4761-c979-b7afb6263a0c"
      },
      "execution_count": 72,
      "outputs": [
        {
          "output_type": "execute_result",
          "data": {
            "text/plain": [
              "[1, 2, 3, 4]"
            ]
          },
          "metadata": {},
          "execution_count": 72
        }
      ]
    },
    {
      "cell_type": "code",
      "source": [
        "a[1]=10\n",
        "a"
      ],
      "metadata": {
        "colab": {
          "base_uri": "https://localhost:8080/"
        },
        "id": "ieBcY439vzjt",
        "outputId": "d3d6452d-c373-4728-8aea-5fcbda7b520d"
      },
      "execution_count": 73,
      "outputs": [
        {
          "output_type": "execute_result",
          "data": {
            "text/plain": [
              "[1, 10, 3, 4]"
            ]
          },
          "metadata": {},
          "execution_count": 73
        }
      ]
    },
    {
      "cell_type": "markdown",
      "source": [
        "**remembr if list is flat like a **the change in copy will not be seen in the in other copy\n",
        "it only effects if list is nested"
      ],
      "metadata": {
        "id": "K2Ew_8lKwhXA"
      }
    },
    {
      "cell_type": "code",
      "source": [
        "b"
      ],
      "metadata": {
        "colab": {
          "base_uri": "https://localhost:8080/"
        },
        "id": "Grar_G5Vv6Hj",
        "outputId": "ae00fb1d-484f-49ee-e072-a95ef7a46aef"
      },
      "execution_count": 74,
      "outputs": [
        {
          "output_type": "execute_result",
          "data": {
            "text/plain": [
              "[1, 2, 3, 4]"
            ]
          },
          "metadata": {},
          "execution_count": 74
        }
      ]
    },
    {
      "cell_type": "code",
      "source": [
        "print(a is b)"
      ],
      "metadata": {
        "colab": {
          "base_uri": "https://localhost:8080/"
        },
        "id": "Q67jU36vsDtO",
        "outputId": "4a8806b3-c431-449c-9a3d-989225232643"
      },
      "execution_count": 67,
      "outputs": [
        {
          "output_type": "stream",
          "name": "stdout",
          "text": [
            "False\n"
          ]
        }
      ]
    },
    {
      "cell_type": "code",
      "source": [
        "a=['mango',1,2]\n",
        "b=a.copy()\n",
        "b"
      ],
      "metadata": {
        "colab": {
          "base_uri": "https://localhost:8080/"
        },
        "id": "o5DxeBVEy8Ea",
        "outputId": "552f5a78-3cb6-4767-ece7-8004da3ef832"
      },
      "execution_count": 81,
      "outputs": [
        {
          "output_type": "execute_result",
          "data": {
            "text/plain": [
              "['mango', 1, 2]"
            ]
          },
          "metadata": {},
          "execution_count": 81
        }
      ]
    },
    {
      "cell_type": "code",
      "source": [
        "b[2]=\"chalo\"\n",
        "print(a)\n",
        "print(b)"
      ],
      "metadata": {
        "colab": {
          "base_uri": "https://localhost:8080/"
        },
        "id": "oNJTnL02zRS3",
        "outputId": "91715565-d76a-4174-9678-8ee33b0cfa84"
      },
      "execution_count": 86,
      "outputs": [
        {
          "output_type": "stream",
          "name": "stdout",
          "text": [
            "['mango', 1, 2]\n",
            "['mango', 1, 'chalo']\n"
          ]
        }
      ]
    },
    {
      "cell_type": "code",
      "source": [
        "a"
      ],
      "metadata": {
        "colab": {
          "base_uri": "https://localhost:8080/"
        },
        "id": "puSeMUKKzXYM",
        "outputId": "7a1a88fd-fb7a-4c55-9d64-07577a45e0b8"
      },
      "execution_count": 85,
      "outputs": [
        {
          "output_type": "execute_result",
          "data": {
            "text/plain": [
              "['mango', 1, 2]"
            ]
          },
          "metadata": {},
          "execution_count": 85
        }
      ]
    },
    {
      "cell_type": "code",
      "source": [
        "a=[1,2,3,[4,5,6]]\n",
        "b=a.copy()\n",
        "print(a)\n",
        "print(b)"
      ],
      "metadata": {
        "colab": {
          "base_uri": "https://localhost:8080/"
        },
        "id": "NmMLIir1z1VK",
        "outputId": "a2ed6e40-da6d-4632-d3ba-850be7a5ac65"
      },
      "execution_count": 90,
      "outputs": [
        {
          "output_type": "stream",
          "name": "stdout",
          "text": [
            "[1, 2, 3, [4, 5, 6]]\n",
            "[1, 2, 3, [4, 5, 6]]\n"
          ]
        }
      ]
    },
    {
      "cell_type": "code",
      "source": [
        "a[3]=\"hii\"\n",
        "a"
      ],
      "metadata": {
        "colab": {
          "base_uri": "https://localhost:8080/"
        },
        "id": "rBUyzDya0HzK",
        "outputId": "cb25a0d1-4111-4a47-d275-aa0c815e8c76"
      },
      "execution_count": 96,
      "outputs": [
        {
          "output_type": "execute_result",
          "data": {
            "text/plain": [
              "[1, 2, 'hii', 'hii']"
            ]
          },
          "metadata": {},
          "execution_count": 96
        }
      ]
    },
    {
      "cell_type": "code",
      "source": [
        "b"
      ],
      "metadata": {
        "colab": {
          "base_uri": "https://localhost:8080/"
        },
        "id": "Vq3FAaP60Mu3",
        "outputId": "9b20dab9-1d8f-4f65-c423-9948c65e23b1"
      },
      "execution_count": 98,
      "outputs": [
        {
          "output_type": "execute_result",
          "data": {
            "text/plain": [
              "[1, 2, 3, [4, 5, 'hii']]"
            ]
          },
          "metadata": {},
          "execution_count": 98
        }
      ]
    },
    {
      "cell_type": "markdown",
      "source": [
        "count() it returns number of occurances of value"
      ],
      "metadata": {
        "id": "87yutC7W5rYr"
      }
    },
    {
      "cell_type": "code",
      "source": [
        "a=[1,2,3,4,5,6,1,2,3]\n",
        "a.count(1)"
      ],
      "metadata": {
        "colab": {
          "base_uri": "https://localhost:8080/"
        },
        "id": "0yJFRqp755Wl",
        "outputId": "d1af0b35-c3e3-4d24-93dd-eb0d93f1ff71"
      },
      "execution_count": 1,
      "outputs": [
        {
          "output_type": "execute_result",
          "data": {
            "text/plain": [
              "2"
            ]
          },
          "metadata": {},
          "execution_count": 1
        }
      ]
    },
    {
      "cell_type": "markdown",
      "source": [
        "index() returns the first occurance of specified value.a valueerror is raised if the value is not present\n",
        "if more than one occurance is present then the first occurance is printed"
      ],
      "metadata": {
        "id": "YqNmlCTk6Eie"
      }
    },
    {
      "cell_type": "code",
      "source": [
        "a=[1,2,3,4,5,6,1,2,3]\n",
        "a.index(1)"
      ],
      "metadata": {
        "colab": {
          "base_uri": "https://localhost:8080/"
        },
        "id": "hqcsMzAd6Sqz",
        "outputId": "6175c882-fd17-416f-d151-9d4883fa4b0e"
      },
      "execution_count": 3,
      "outputs": [
        {
          "output_type": "execute_result",
          "data": {
            "text/plain": [
              "0"
            ]
          },
          "metadata": {},
          "execution_count": 3
        }
      ]
    },
    {
      "cell_type": "code",
      "source": [
        "a.index(5)"
      ],
      "metadata": {
        "colab": {
          "base_uri": "https://localhost:8080/"
        },
        "id": "OnKz0TCM6obB",
        "outputId": "4c934a31-764e-4b1f-8935-53573dda50a2"
      },
      "execution_count": 4,
      "outputs": [
        {
          "output_type": "execute_result",
          "data": {
            "text/plain": [
              "4"
            ]
          },
          "metadata": {},
          "execution_count": 4
        }
      ]
    },
    {
      "cell_type": "markdown",
      "source": [
        "reverse() it is used to reverse the list"
      ],
      "metadata": {
        "id": "knsy5mmz6sIs"
      }
    },
    {
      "cell_type": "code",
      "source": [
        "a.reverse()\n",
        "a"
      ],
      "metadata": {
        "colab": {
          "base_uri": "https://localhost:8080/"
        },
        "id": "9UhQGwk16wpy",
        "outputId": "5004758d-2981-4ab9-afc3-a6cc7ae97eca"
      },
      "execution_count": 5,
      "outputs": [
        {
          "output_type": "execute_result",
          "data": {
            "text/plain": [
              "[3, 2, 1, 6, 5, 4, 3, 2, 1]"
            ]
          },
          "metadata": {},
          "execution_count": 5
        }
      ]
    },
    {
      "cell_type": "markdown",
      "source": [
        "sort()  a list is sorted using sort method the sort is in-place ie the list itself is modifed and stable that is the order of two equal elements is maintained"
      ],
      "metadata": {
        "id": "bjXvB3ty67QW"
      }
    },
    {
      "cell_type": "code",
      "source": [
        "a=[1,2,3,4,5,6,1,2,3]\n",
        "a.sort()\n",
        "a"
      ],
      "metadata": {
        "colab": {
          "base_uri": "https://localhost:8080/"
        },
        "id": "QOzJ2itT7Y-J",
        "outputId": "64f37233-5e30-43b1-eb2d-8d8345b185b4"
      },
      "execution_count": 6,
      "outputs": [
        {
          "output_type": "execute_result",
          "data": {
            "text/plain": [
              "[1, 1, 2, 2, 3, 3, 4, 5, 6]"
            ]
          },
          "metadata": {},
          "execution_count": 6
        }
      ]
    },
    {
      "cell_type": "code",
      "source": [
        "a.sort(reverse=True)\n",
        "a"
      ],
      "metadata": {
        "colab": {
          "base_uri": "https://localhost:8080/"
        },
        "id": "7OTb5KOV7h8m",
        "outputId": "0bb65ca9-6a4b-442d-de3f-0c4109cf9b81"
      },
      "execution_count": 9,
      "outputs": [
        {
          "output_type": "execute_result",
          "data": {
            "text/plain": [
              "[6, 5, 4, 3, 3, 2, 2, 1, 1]"
            ]
          },
          "metadata": {},
          "execution_count": 9
        }
      ]
    },
    {
      "cell_type": "markdown",
      "source": [
        "del():used to delete entire list or one or more items of a list"
      ],
      "metadata": {
        "id": "TS1uxo4F7vdK"
      }
    },
    {
      "cell_type": "code",
      "source": [
        "a=[1,2,3,4,5,6,1,2,3]\n",
        "del a[5]\n",
        "a"
      ],
      "metadata": {
        "colab": {
          "base_uri": "https://localhost:8080/"
        },
        "id": "JFDMYnnC74Ju",
        "outputId": "9286a9e7-387e-4caf-9b10-f1cd2b1213a4"
      },
      "execution_count": 14,
      "outputs": [
        {
          "output_type": "execute_result",
          "data": {
            "text/plain": [
              "[1, 2, 3, 4, 5, 1, 2, 3]"
            ]
          },
          "metadata": {},
          "execution_count": 14
        }
      ]
    },
    {
      "cell_type": "markdown",
      "source": [
        "other built in functions are len(),sum(),min(),max(),any(),all(),sorted(),map(),"
      ],
      "metadata": {
        "id": "eGKamzsEXo6a"
      }
    },
    {
      "cell_type": "code",
      "source": [
        "a=[1,2,3,4,5,6,1,2,3]\n",
        "len(a)"
      ],
      "metadata": {
        "colab": {
          "base_uri": "https://localhost:8080/"
        },
        "id": "VhzJ8zMgRkjv",
        "outputId": "d42e79ed-dd5e-488a-a255-3ce2c593aa01"
      },
      "execution_count": 17,
      "outputs": [
        {
          "output_type": "execute_result",
          "data": {
            "text/plain": [
              "9"
            ]
          },
          "metadata": {},
          "execution_count": 17
        }
      ]
    },
    {
      "cell_type": "code",
      "source": [
        "sum(a)"
      ],
      "metadata": {
        "colab": {
          "base_uri": "https://localhost:8080/"
        },
        "id": "HSgmVLM_X_zi",
        "outputId": "41bb4d01-8ceb-41c8-fc0f-8d6ae5668dd9"
      },
      "execution_count": 18,
      "outputs": [
        {
          "output_type": "execute_result",
          "data": {
            "text/plain": [
              "27"
            ]
          },
          "metadata": {},
          "execution_count": 18
        }
      ]
    },
    {
      "cell_type": "code",
      "source": [
        "min(a)"
      ],
      "metadata": {
        "colab": {
          "base_uri": "https://localhost:8080/"
        },
        "id": "Gns0Bd5AYCjy",
        "outputId": "a4ba1510-993c-443a-e61d-eb8a8f515d42"
      },
      "execution_count": 19,
      "outputs": [
        {
          "output_type": "execute_result",
          "data": {
            "text/plain": [
              "1"
            ]
          },
          "metadata": {},
          "execution_count": 19
        }
      ]
    },
    {
      "cell_type": "code",
      "source": [
        "max(a)"
      ],
      "metadata": {
        "colab": {
          "base_uri": "https://localhost:8080/"
        },
        "id": "2p3iP9tlYJsB",
        "outputId": "bffea7c7-5506-4303-cb86-4baf03524402"
      },
      "execution_count": 20,
      "outputs": [
        {
          "output_type": "execute_result",
          "data": {
            "text/plain": [
              "6"
            ]
          },
          "metadata": {},
          "execution_count": 20
        }
      ]
    },
    {
      "cell_type": "markdown",
      "source": [
        "any() function will return True if Bool(x) is True for any value of x in the list if the lsit is empty the function will return False"
      ],
      "metadata": {
        "id": "xgJf1-mjYOur"
      }
    },
    {
      "cell_type": "code",
      "source": [
        "num=[1,2,3,4,5]\n",
        "any(num)"
      ],
      "metadata": {
        "colab": {
          "base_uri": "https://localhost:8080/"
        },
        "id": "E8fR8fnDYrRm",
        "outputId": "7826fedd-887a-47b6-8f46-727f85a09438"
      },
      "execution_count": 21,
      "outputs": [
        {
          "output_type": "execute_result",
          "data": {
            "text/plain": [
              "True"
            ]
          },
          "metadata": {},
          "execution_count": 21
        }
      ]
    },
    {
      "cell_type": "markdown",
      "source": [
        "all() return sstrue if bool(x) is true"
      ],
      "metadata": {
        "id": "QqHLpB51Y6Wr"
      }
    },
    {
      "cell_type": "code",
      "source": [
        "all(num)"
      ],
      "metadata": {
        "colab": {
          "base_uri": "https://localhost:8080/"
        },
        "id": "J5pTD4lcYywj",
        "outputId": "f96b1a2f-f826-4ef4-c985-97b802cd5994"
      },
      "execution_count": 22,
      "outputs": [
        {
          "output_type": "execute_result",
          "data": {
            "text/plain": [
              "True"
            ]
          },
          "metadata": {},
          "execution_count": 22
        }
      ]
    },
    {
      "cell_type": "markdown",
      "source": [
        "sorted() returns a list sorted in the ascending order the original list remains unchanged."
      ],
      "metadata": {
        "id": "SBqs-qqzZBA_"
      }
    },
    {
      "cell_type": "code",
      "source": [
        "a=[1,2,3,4,5,6,1,2,3]\n",
        "sorted(a)"
      ],
      "metadata": {
        "colab": {
          "base_uri": "https://localhost:8080/"
        },
        "id": "vyCvm1MUZly_",
        "outputId": "fa831e9d-f5b3-40c9-831f-725daf24e2e4"
      },
      "execution_count": 23,
      "outputs": [
        {
          "output_type": "execute_result",
          "data": {
            "text/plain": [
              "[1, 1, 2, 2, 3, 3, 4, 5, 6]"
            ]
          },
          "metadata": {},
          "execution_count": 23
        }
      ]
    },
    {
      "cell_type": "markdown",
      "source": [],
      "metadata": {
        "id": "DytflRc0ZA9g"
      }
    }
  ]
}