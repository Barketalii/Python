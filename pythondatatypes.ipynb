{
  "nbformat": 4,
  "nbformat_minor": 0,
  "metadata": {
    "colab": {
      "provenance": [],
      "authorship_tag": "ABX9TyN/gVSkeSZ3vR+4AJktIe3J",
      "include_colab_link": true
    },
    "kernelspec": {
      "name": "python3",
      "display_name": "Python 3"
    },
    "language_info": {
      "name": "python"
    }
  },
  "cells": [
    {
      "cell_type": "markdown",
      "metadata": {
        "id": "view-in-github",
        "colab_type": "text"
      },
      "source": [
        "<a href=\"https://colab.research.google.com/github/Barketalii/Python/blob/main/pythondatatypes.ipynb\" target=\"_parent\"><img src=\"https://colab.research.google.com/assets/colab-badge.svg\" alt=\"Open In Colab\"/></a>"
      ]
    },
    {
      "cell_type": "markdown",
      "source": [
        "Python Data Types\n",
        "1:Integer:it is a scalar object to create a integer object with value 5 and assign it to variable x we can use this statement"
      ],
      "metadata": {
        "id": "601gbzeIWDrQ"
      }
    },
    {
      "cell_type": "code",
      "execution_count": 4,
      "metadata": {
        "colab": {
          "base_uri": "https://localhost:8080/"
        },
        "id": "XeczHIJcV4H0",
        "outputId": "845c5bc3-fc99-44d8-f06a-1372c903089c"
      },
      "outputs": [
        {
          "output_type": "execute_result",
          "data": {
            "text/plain": [
              "int"
            ]
          },
          "metadata": {},
          "execution_count": 4
        }
      ],
      "source": [
        "x=5\n",
        "x\n",
        "type(x)"
      ]
    },
    {
      "cell_type": "markdown",
      "source": [
        "since the type of above is not explicitly specified we can use another method to create object type expllicitly"
      ],
      "metadata": {
        "id": "HYS9EeMiW2Gu"
      }
    },
    {
      "cell_type": "markdown",
      "source": [
        "you can see in both examples the type is same that is int but 2nd example explicitly specifies the type of variable"
      ],
      "metadata": {
        "id": "1I1avQafXM5c"
      }
    },
    {
      "cell_type": "code",
      "source": [
        "x=int(6)\n",
        "print(x)\n",
        "type(x)"
      ],
      "metadata": {
        "colab": {
          "base_uri": "https://localhost:8080/"
        },
        "id": "gwtRwZ7-Wt4W",
        "outputId": "a51767b9-1823-46ec-e01f-8e80191ab8b6"
      },
      "execution_count": 3,
      "outputs": [
        {
          "output_type": "stream",
          "name": "stdout",
          "text": [
            "6\n"
          ]
        },
        {
          "output_type": "execute_result",
          "data": {
            "text/plain": [
              "int"
            ]
          },
          "metadata": {},
          "execution_count": 3
        }
      ]
    },
    {
      "cell_type": "markdown",
      "source": [
        "explicit type concversion can also be done by using constructor function. the function concerts the float type into integer"
      ],
      "metadata": {
        "id": "oMoVmx66Xmxa"
      }
    },
    {
      "cell_type": "code",
      "source": [
        "y=int(43)\n",
        "print(y)"
      ],
      "metadata": {
        "colab": {
          "base_uri": "https://localhost:8080/"
        },
        "id": "wlWLn1HqXhmx",
        "outputId": "b5ae1da3-eaa9-46fc-b2d1-bd1a5728335a"
      },
      "execution_count": 5,
      "outputs": [
        {
          "output_type": "stream",
          "name": "stdout",
          "text": [
            "43\n"
          ]
        }
      ]
    },
    {
      "cell_type": "code",
      "source": [
        "u=int(-4.5)\n",
        "print(u)"
      ],
      "metadata": {
        "colab": {
          "base_uri": "https://localhost:8080/"
        },
        "id": "xDN8HBuDX-eX",
        "outputId": "602007a0-2abb-4533-d4e7-f2e384a26ddd"
      },
      "execution_count": 6,
      "outputs": [
        {
          "output_type": "stream",
          "name": "stdout",
          "text": [
            "-4\n"
          ]
        }
      ]
    },
    {
      "cell_type": "markdown",
      "source": [
        "round:rounding up an integer the round function can be used\n"
      ],
      "metadata": {
        "id": "Bn5lyUVYYgqV"
      }
    },
    {
      "cell_type": "code",
      "source": [
        "round(7.9)\n",
        "\n"
      ],
      "metadata": {
        "colab": {
          "base_uri": "https://localhost:8080/"
        },
        "id": "NgehiTcOYEEv",
        "outputId": "240c8e6c-a51f-4447-8e0e-1ddae4775a17"
      },
      "execution_count": 11,
      "outputs": [
        {
          "output_type": "execute_result",
          "data": {
            "text/plain": [
              "8"
            ]
          },
          "metadata": {},
          "execution_count": 11
        }
      ]
    },
    {
      "cell_type": "code",
      "source": [
        "type(round(7.9))"
      ],
      "metadata": {
        "colab": {
          "base_uri": "https://localhost:8080/"
        },
        "id": "hVgSSmHlYwd5",
        "outputId": "a2964a23-1798-481f-8638-a23cd814f554"
      },
      "execution_count": 12,
      "outputs": [
        {
          "output_type": "execute_result",
          "data": {
            "text/plain": [
              "int"
            ]
          },
          "metadata": {},
          "execution_count": 12
        }
      ]
    },
    {
      "cell_type": "code",
      "source": [
        "round(4.366689)"
      ],
      "metadata": {
        "colab": {
          "base_uri": "https://localhost:8080/"
        },
        "id": "TZCIXh0hY3K8",
        "outputId": "0c2ab1b8-db75-43b4-bb09-5aaa9dee9203"
      },
      "execution_count": 13,
      "outputs": [
        {
          "output_type": "execute_result",
          "data": {
            "text/plain": [
              "4"
            ]
          },
          "metadata": {},
          "execution_count": 13
        }
      ]
    },
    {
      "cell_type": "markdown",
      "source": [
        "type conversion: the type conversion from string to integer type will work only if t makes sense(i.e., the string is a valid representation of integer type) otherwise the result is an error"
      ],
      "metadata": {
        "id": "8xj_UYyJY9ls"
      }
    },
    {
      "cell_type": "code",
      "source": [
        "x=int('1234')\n",
        "print(type(x))"
      ],
      "metadata": {
        "colab": {
          "base_uri": "https://localhost:8080/"
        },
        "id": "ZwqYwJCdY7e-",
        "outputId": "1dc2aa43-48af-4422-d95f-3f5765f453e8"
      },
      "execution_count": 16,
      "outputs": [
        {
          "output_type": "stream",
          "name": "stdout",
          "text": [
            "<class 'int'>\n"
          ]
        }
      ]
    },
    {
      "cell_type": "code",
      "source": [
        "x=int('hell')\n",
        "#not allowed since it does not make sense"
      ],
      "metadata": {
        "colab": {
          "base_uri": "https://localhost:8080/",
          "height": 141
        },
        "id": "AzWnKTF7Z1F5",
        "outputId": "b105669c-f04e-4887-b170-f53ebd27d9d4"
      },
      "execution_count": 17,
      "outputs": [
        {
          "output_type": "error",
          "ename": "ValueError",
          "evalue": "invalid literal for int() with base 10: 'hell'",
          "traceback": [
            "\u001b[0;31m---------------------------------------------------------------------------\u001b[0m",
            "\u001b[0;31mValueError\u001b[0m                                Traceback (most recent call last)",
            "\u001b[0;32m/tmp/ipython-input-1368499698.py\u001b[0m in \u001b[0;36m<cell line: 0>\u001b[0;34m()\u001b[0m\n\u001b[0;32m----> 1\u001b[0;31m \u001b[0mx\u001b[0m\u001b[0;34m=\u001b[0m\u001b[0mint\u001b[0m\u001b[0;34m(\u001b[0m\u001b[0;34m'hell'\u001b[0m\u001b[0;34m)\u001b[0m\u001b[0;34m\u001b[0m\u001b[0;34m\u001b[0m\u001b[0m\n\u001b[0m",
            "\u001b[0;31mValueError\u001b[0m: invalid literal for int() with base 10: 'hell'"
          ]
        }
      ]
    },
    {
      "cell_type": "markdown",
      "source": [
        "**Float**"
      ],
      "metadata": {
        "id": "YoRVbk2VaJLt"
      }
    },
    {
      "cell_type": "markdown",
      "source": [
        "float is a scalar value which represent the real numbers literals of the float type alwasy include a decimal point for example 7.0,4.177 etc"
      ],
      "metadata": {
        "id": "25LS7qZubXPp"
      }
    },
    {
      "cell_type": "code",
      "source": [
        "x=4.77\n",
        "x"
      ],
      "metadata": {
        "colab": {
          "base_uri": "https://localhost:8080/"
        },
        "id": "p9hNtfqBaLGV",
        "outputId": "5db488bd-5d99-463e-8aa6-1b0e1937037a"
      },
      "execution_count": 18,
      "outputs": [
        {
          "output_type": "execute_result",
          "data": {
            "text/plain": [
              "4.77"
            ]
          },
          "metadata": {},
          "execution_count": 18
        }
      ]
    },
    {
      "cell_type": "markdown",
      "source": [
        "the constructor function float() is used to explicitly used to create a floating point object"
      ],
      "metadata": {
        "id": "vYsZ5vnKb5FP"
      }
    },
    {
      "cell_type": "code",
      "source": [
        "x=float(4.55)\n",
        "x"
      ],
      "metadata": {
        "colab": {
          "base_uri": "https://localhost:8080/"
        },
        "id": "SPzTWw-pcd6W",
        "outputId": "23ae6ce4-4c4c-4945-a2c9-a91d6843945c"
      },
      "execution_count": 21,
      "outputs": [
        {
          "output_type": "execute_result",
          "data": {
            "text/plain": [
              "4.55"
            ]
          },
          "metadata": {},
          "execution_count": 21
        }
      ]
    },
    {
      "cell_type": "code",
      "source": [
        "#explicit conversion\n",
        "x=float(4)\n",
        "x"
      ],
      "metadata": {
        "colab": {
          "base_uri": "https://localhost:8080/"
        },
        "id": "lyZDG9B-b2uY",
        "outputId": "13ca5ee6-4c49-4116-c226-5ef94d72f079"
      },
      "execution_count": 19,
      "outputs": [
        {
          "output_type": "execute_result",
          "data": {
            "text/plain": [
              "4.0"
            ]
          },
          "metadata": {},
          "execution_count": 19
        }
      ]
    },
    {
      "cell_type": "code",
      "source": [
        "#default float\n",
        "x=float()\n",
        "x"
      ],
      "metadata": {
        "colab": {
          "base_uri": "https://localhost:8080/"
        },
        "id": "g8BdPyoccVPf",
        "outputId": "e1bbd415-a26f-4727-f3a0-1f90a534a679"
      },
      "execution_count": 20,
      "outputs": [
        {
          "output_type": "execute_result",
          "data": {
            "text/plain": [
              "0.0"
            ]
          },
          "metadata": {},
          "execution_count": 20
        }
      ]
    },
    {
      "cell_type": "code",
      "source": [
        "x=2.5/4\n",
        "x"
      ],
      "metadata": {
        "colab": {
          "base_uri": "https://localhost:8080/"
        },
        "id": "LoGpGiSWcqch",
        "outputId": "589ebadb-4d24-4b5f-ab6d-012f39438aa7"
      },
      "execution_count": 23,
      "outputs": [
        {
          "output_type": "execute_result",
          "data": {
            "text/plain": [
              "0.625"
            ]
          },
          "metadata": {},
          "execution_count": 23
        }
      ]
    },
    {
      "cell_type": "markdown",
      "source": [
        " **Complextype**\n",
        " it represents the aggregration of multiple source of information rather than a single value with real and imaginary parts a and bthe complex number is written as a+bj"
      ],
      "metadata": {
        "id": "P7MfEiRrhrRC"
      }
    },
    {
      "cell_type": "code",
      "source": [
        "x=7.5+4j\n",
        "y=complex(10,5)\n",
        "x"
      ],
      "metadata": {
        "colab": {
          "base_uri": "https://localhost:8080/"
        },
        "id": "Ky2aJm44cuc3",
        "outputId": "4783920f-3242-42da-b547-824af4a0b0be"
      },
      "execution_count": 2,
      "outputs": [
        {
          "output_type": "execute_result",
          "data": {
            "text/plain": [
              "(7.5+4j)"
            ]
          },
          "metadata": {},
          "execution_count": 2
        }
      ]
    },
    {
      "cell_type": "code",
      "source": [
        "x.imag"
      ],
      "metadata": {
        "colab": {
          "base_uri": "https://localhost:8080/"
        },
        "id": "JMpy22iZgt2d",
        "outputId": "0fd8353c-2eff-4f1f-8244-5285dd2fbff0"
      },
      "execution_count": 3,
      "outputs": [
        {
          "output_type": "execute_result",
          "data": {
            "text/plain": [
              "4.0"
            ]
          },
          "metadata": {},
          "execution_count": 3
        }
      ]
    },
    {
      "cell_type": "code",
      "source": [
        "x.real"
      ],
      "metadata": {
        "colab": {
          "base_uri": "https://localhost:8080/"
        },
        "id": "jYY-Tzarg2rs",
        "outputId": "95038cd9-0405-492a-dd54-3ca931ad5343"
      },
      "execution_count": 4,
      "outputs": [
        {
          "output_type": "execute_result",
          "data": {
            "text/plain": [
              "7.5"
            ]
          },
          "metadata": {},
          "execution_count": 4
        }
      ]
    },
    {
      "cell_type": "markdown",
      "source": [
        "**Boolean** it is a scalar object that is frequently used for control flow it is different from integers, floating poits and numbers and strings for which there are an infinite number of possible literals. the boolean type is used to represent the logical vlaues which there are only two truth values.\n",
        "\n",
        ">  **True** and **False**\n",
        "\n"
      ],
      "metadata": {
        "id": "WGAjeTNUg5Ro"
      }
    },
    {
      "cell_type": "code",
      "source": [
        "a=8\n",
        "b=9\n",
        "a>b"
      ],
      "metadata": {
        "colab": {
          "base_uri": "https://localhost:8080/"
        },
        "id": "oOvWvlOog7Tu",
        "outputId": "4a3db8db-9349-400b-b0ac-46da42c95ccf"
      },
      "execution_count": 5,
      "outputs": [
        {
          "output_type": "execute_result",
          "data": {
            "text/plain": [
              "False"
            ]
          },
          "metadata": {},
          "execution_count": 5
        }
      ]
    },
    {
      "cell_type": "code",
      "source": [
        "b>a"
      ],
      "metadata": {
        "colab": {
          "base_uri": "https://localhost:8080/"
        },
        "id": "orb8ISrnh3bX",
        "outputId": "b41d1e47-70f7-4677-834d-134543b7bff7"
      },
      "execution_count": 6,
      "outputs": [
        {
          "output_type": "execute_result",
          "data": {
            "text/plain": [
              "True"
            ]
          },
          "metadata": {},
          "execution_count": 6
        }
      ]
    },
    {
      "cell_type": "code",
      "source": [
        "a==b"
      ],
      "metadata": {
        "colab": {
          "base_uri": "https://localhost:8080/"
        },
        "id": "A5tVGCD5h9O4",
        "outputId": "3f0ca62b-ffb7-4375-94c9-4cca6a599561"
      },
      "execution_count": 7,
      "outputs": [
        {
          "output_type": "execute_result",
          "data": {
            "text/plain": [
              "False"
            ]
          },
          "metadata": {},
          "execution_count": 7
        }
      ]
    },
    {
      "cell_type": "code",
      "source": [],
      "metadata": {
        "id": "JKofXv6Wh-m5"
      },
      "execution_count": null,
      "outputs": []
    },
    {
      "cell_type": "markdown",
      "source": [
        " **special** literal:*NONE*\n",
        " the python has special literal NONE which means that object has not been created .None is used to represent that \"no valuse\", 'nothing', 'non-exixtance'\n",
        " etc."
      ],
      "metadata": {
        "id": "S407OZjZiFEL"
      }
    },
    {
      "cell_type": "code",
      "source": [
        "a=[1,2,3,None,True,False]\n",
        "count=0\n",
        "for i in a:\n",
        "  if i:\n",
        "    count += 1\n",
        "print(f'length of list:',len(a))"
      ],
      "metadata": {
        "colab": {
          "base_uri": "https://localhost:8080/"
        },
        "id": "a11nQuQLiRPl",
        "outputId": "541f2fcd-bad9-4a2c-c444-af43231743f7"
      },
      "execution_count": 8,
      "outputs": [
        {
          "output_type": "stream",
          "name": "stdout",
          "text": [
            "length of list: 6\n"
          ]
        }
      ]
    },
    {
      "cell_type": "code",
      "source": [
        "type(a[3])"
      ],
      "metadata": {
        "colab": {
          "base_uri": "https://localhost:8080/"
        },
        "id": "UiWnT_iqkF2Z",
        "outputId": "d98ae33a-1e43-41eb-c4c3-574075c0620b"
      },
      "execution_count": 9,
      "outputs": [
        {
          "output_type": "execute_result",
          "data": {
            "text/plain": [
              "NoneType"
            ]
          },
          "metadata": {},
          "execution_count": 9
        }
      ]
    }
  ]
}