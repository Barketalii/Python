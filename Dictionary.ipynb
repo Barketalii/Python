{
  "nbformat": 4,
  "nbformat_minor": 0,
  "metadata": {
    "colab": {
      "provenance": [],
      "authorship_tag": "ABX9TyOFUdeRqt2J42sUGs+K19A1",
      "include_colab_link": true
    },
    "kernelspec": {
      "name": "python3",
      "display_name": "Python 3"
    },
    "language_info": {
      "name": "python"
    }
  },
  "cells": [
    {
      "cell_type": "markdown",
      "metadata": {
        "id": "view-in-github",
        "colab_type": "text"
      },
      "source": [
        "<a href=\"https://colab.research.google.com/github/Barketalii/Python/blob/main/Dictionary.ipynb\" target=\"_parent\"><img src=\"https://colab.research.google.com/assets/colab-badge.svg\" alt=\"Open In Colab\"/></a>"
      ]
    },
    {
      "cell_type": "markdown",
      "source": [
        "The python dictionary type denoted ad Dict, is a container type like list and str which enables us to use user defines indexes. A dictionary contains (key,value) pairs the general format of expression that defines a dictionary object is  {key:value}\n",
        "the key difference between dictionary and list is that an item is accessed using a user-specified index rather than by the items position in the container.\n",
        "The key is the index that is used to access the value"
      ],
      "metadata": {
        "id": "cRC-MccKhYse"
      }
    },
    {
      "cell_type": "code",
      "execution_count": 4,
      "metadata": {
        "colab": {
          "base_uri": "https://localhost:8080/"
        },
        "id": "FiByMrevhOUy",
        "outputId": "2b2bb12e-288e-4179-8aa4-fd6e156b2a4c"
      },
      "outputs": [
        {
          "output_type": "execute_result",
          "data": {
            "text/plain": [
              "{'su': 'sundary', 'mo': 'monday', 'tw': 'twesday', 'th': 'thursday'}"
            ]
          },
          "metadata": {},
          "execution_count": 4
        }
      ],
      "source": [
        "weekdict={'su':'sundary','mo':'monday','tw':'twesday','th':'thursday'}\n",
        "weekdict"
      ]
    },
    {
      "cell_type": "code",
      "source": [
        "print(weekdict['tw'])"
      ],
      "metadata": {
        "colab": {
          "base_uri": "https://localhost:8080/"
        },
        "id": "dZfW-_wMkCoh",
        "outputId": "42d7d082-91b3-4d27-e87a-0060ae10d77a"
      },
      "execution_count": 6,
      "outputs": [
        {
          "output_type": "stream",
          "name": "stdout",
          "text": [
            "twesday\n"
          ]
        }
      ]
    },
    {
      "cell_type": "code",
      "source": [
        "print(weekdict.get('mo'))"
      ],
      "metadata": {
        "colab": {
          "base_uri": "https://localhost:8080/"
        },
        "id": "t1DDO5eGknGi",
        "outputId": "5f204b32-0589-483d-91ee-07f6296c8c7d"
      },
      "execution_count": 11,
      "outputs": [
        {
          "output_type": "stream",
          "name": "stdout",
          "text": [
            "monday\n"
          ]
        }
      ]
    },
    {
      "cell_type": "code",
      "source": [
        "my_dict={\n",
        "    'a':1,'b':2,'c':3,'d':4\n",
        "}\n",
        "print(my_dict['a'])"
      ],
      "metadata": {
        "colab": {
          "base_uri": "https://localhost:8080/"
        },
        "id": "MY9mzjPsnOo9",
        "outputId": "c10fa8cd-9f08-4d08-8104-d3c5a72f3aa5"
      },
      "execution_count": 12,
      "outputs": [
        {
          "output_type": "stream",
          "name": "stdout",
          "text": [
            "1\n"
          ]
        }
      ]
    },
    {
      "cell_type": "code",
      "source": [
        "for key,value in my_dict.items():\n",
        "  if value%2==0:\n",
        "    print(key)"
      ],
      "metadata": {
        "colab": {
          "base_uri": "https://localhost:8080/"
        },
        "id": "1jRqHTxvng_F",
        "outputId": "c4a7fcd6-4eec-4321-aa72-fe3409ac645f"
      },
      "execution_count": 14,
      "outputs": [
        {
          "output_type": "stream",
          "name": "stdout",
          "text": [
            "b\n",
            "d\n"
          ]
        }
      ]
    },
    {
      "cell_type": "code",
      "source": [
        "my_dict = {\"a\": 1, \"b\": 2, \"c\": 2}\n",
        "\n",
        "keys = [k for k, v in my_dict.items() if v == 2]\n",
        "print(keys)   # ['b', 'c']\n"
      ],
      "metadata": {
        "colab": {
          "base_uri": "https://localhost:8080/"
        },
        "id": "nMIa0TxUoMvT",
        "outputId": "ebe44a9a-b068-4efa-d98d-ff1aebdce893"
      },
      "execution_count": 17,
      "outputs": [
        {
          "output_type": "stream",
          "name": "stdout",
          "text": [
            "['b', 'c']\n"
          ]
        }
      ]
    },
    {
      "cell_type": "markdown",
      "source": [
        "dictionary Constructor Function\n",
        "an empty dicitonary can be created using the default dict() or simply a = {}"
      ],
      "metadata": {
        "id": "mRaYamEuo7JS"
      }
    },
    {
      "cell_type": "code",
      "source": [
        "dict()"
      ],
      "metadata": {
        "colab": {
          "base_uri": "https://localhost:8080/"
        },
        "id": "-X3LoupIpJC7",
        "outputId": "0c19ab21-ec27-4dac-a729-984eb823483e"
      },
      "execution_count": 18,
      "outputs": [
        {
          "output_type": "execute_result",
          "data": {
            "text/plain": [
              "{}"
            ]
          },
          "metadata": {},
          "execution_count": 18
        }
      ]
    },
    {
      "cell_type": "code",
      "source": [
        "a={}\n",
        "type(a)"
      ],
      "metadata": {
        "colab": {
          "base_uri": "https://localhost:8080/"
        },
        "id": "-QFQY9RjpMYw",
        "outputId": "f8e60d1c-1a30-4b0a-bd75-acaf38121fde"
      },
      "execution_count": 23,
      "outputs": [
        {
          "output_type": "execute_result",
          "data": {
            "text/plain": [
              "dict"
            ]
          },
          "metadata": {},
          "execution_count": 23
        }
      ]
    },
    {
      "cell_type": "code",
      "source": [
        "week={\n",
        "    'Monday': 'Moon\\'s Day',\n",
        "  'Tuesday': 'Tiw\\'s Day',\n",
        "  'Wednesday': 'Woden\\'s Day (Odin)',\n",
        "  'Thursday': 'Thor\\'s Day',\n",
        "  'Friday': 'Frigg\\'s Day',\n",
        "  'Saturday': 'Saturn\\'s Day',\n",
        "  'Sunday': 'Sun\\'s Day'\n",
        "}\n",
        "week['Monday']\n"
      ],
      "metadata": {
        "colab": {
          "base_uri": "https://localhost:8080/",
          "height": 35
        },
        "id": "9UiF5Vnapi1b",
        "outputId": "bb8e40de-78da-4e84-8522-a6446d73bc25"
      },
      "execution_count": 25,
      "outputs": [
        {
          "output_type": "execute_result",
          "data": {
            "text/plain": [
              "\"Moon's Day\""
            ],
            "application/vnd.google.colaboratory.intrinsic+json": {
              "type": "string"
            }
          },
          "metadata": {},
          "execution_count": 25
        }
      ]
    },
    {
      "cell_type": "code",
      "source": [
        "print(week.get('Monday'))"
      ],
      "metadata": {
        "colab": {
          "base_uri": "https://localhost:8080/"
        },
        "id": "J2wddjsmp6EB",
        "outputId": "7ea138c9-2ed3-4eb8-b261-3f230ee3fb5b"
      },
      "execution_count": 28,
      "outputs": [
        {
          "output_type": "stream",
          "name": "stdout",
          "text": [
            "Moon's Day\n"
          ]
        }
      ]
    },
    {
      "cell_type": "markdown",
      "source": [
        "len() returns the length of dictionry that is number of elements in it"
      ],
      "metadata": {
        "id": "jpoiMK9WqFlg"
      }
    },
    {
      "cell_type": "code",
      "source": [
        "len(week)"
      ],
      "metadata": {
        "colab": {
          "base_uri": "https://localhost:8080/"
        },
        "id": "JReKgJmBqEua",
        "outputId": "1f9f8a89-91b6-4429-98f7-2f8159cba8b5"
      },
      "execution_count": 29,
      "outputs": [
        {
          "output_type": "execute_result",
          "data": {
            "text/plain": [
              "7"
            ]
          },
          "metadata": {},
          "execution_count": 29
        }
      ]
    },
    {
      "cell_type": "markdown",
      "source": [
        "Indexing of Dictionary\n",
        "the values of dictionary are accessed by key to access the value 'Moon's Day' in dictionary we use key 'Monday'"
      ],
      "metadata": {
        "id": "wdQUm77ZqVED"
      }
    },
    {
      "cell_type": "code",
      "source": [
        "week['Monday']\n"
      ],
      "metadata": {
        "colab": {
          "base_uri": "https://localhost:8080/",
          "height": 35
        },
        "id": "DD9wcbsXqXLL",
        "outputId": "e1a3f336-7a5f-48e3-ac87-8ef58a506cbd"
      },
      "execution_count": 33,
      "outputs": [
        {
          "output_type": "execute_result",
          "data": {
            "text/plain": [
              "\"Moon's Day\""
            ],
            "application/vnd.google.colaboratory.intrinsic+json": {
              "type": "string"
            }
          },
          "metadata": {},
          "execution_count": 33
        }
      ]
    },
    {
      "cell_type": "code",
      "source": [
        "print(week.get('Monday'))"
      ],
      "metadata": {
        "colab": {
          "base_uri": "https://localhost:8080/"
        },
        "id": "cva4U5WVrFLp",
        "outputId": "ac0f4767-3f12-44f7-9189-0928e09169a8"
      },
      "execution_count": 34,
      "outputs": [
        {
          "output_type": "stream",
          "name": "stdout",
          "text": [
            "Moon's Day\n"
          ]
        }
      ]
    },
    {
      "cell_type": "code",
      "source": [
        "#week['xyz']\n",
        "#this code will throw error as no key in the code is of such\n",
        "#there is a safe way also that is\n",
        "print(week.get('xyz'))"
      ],
      "metadata": {
        "colab": {
          "base_uri": "https://localhost:8080/"
        },
        "id": "EtAMVWG0rLAb",
        "outputId": "e5a7e729-549d-46dc-b429-5f785993548e"
      },
      "execution_count": 37,
      "outputs": [
        {
          "output_type": "stream",
          "name": "stdout",
          "text": [
            "None\n"
          ]
        }
      ]
    },
    {
      "cell_type": "markdown",
      "source": [
        "Adding and editting:like lists dictionaries are also mutable the indexing operator can be used to change the value corresponding  to a key or add a new (key,value) pair to the dictionary"
      ],
      "metadata": {
        "id": "YuMXbjE6roW5"
      }
    },
    {
      "cell_type": "code",
      "source": [
        "week['Friday']='Worship day'\n",
        "week"
      ],
      "metadata": {
        "colab": {
          "base_uri": "https://localhost:8080/"
        },
        "id": "tRs7v3X7uUqC",
        "outputId": "0e887e26-129a-47bf-bdc0-5c26842e8393"
      },
      "execution_count": 40,
      "outputs": [
        {
          "output_type": "execute_result",
          "data": {
            "text/plain": [
              "{'Monday': \"Moon's Day\",\n",
              " 'Tuesday': \"Tiw's Day\",\n",
              " 'Wednesday': \"Woden's Day (Odin)\",\n",
              " 'Thursday': \"Thor's Day\",\n",
              " 'Friday': 'worship day',\n",
              " 'Saturday': \"Saturn's Day\",\n",
              " 'Sunday': \"Sun's Day\"}"
            ]
          },
          "metadata": {},
          "execution_count": 40
        }
      ]
    },
    {
      "cell_type": "code",
      "source": [
        "week['Holiday']='Relax day'\n",
        "week"
      ],
      "metadata": {
        "colab": {
          "base_uri": "https://localhost:8080/"
        },
        "id": "y0OsfBUCudJN",
        "outputId": "b411e251-667d-4842-f602-4e54af9dae94"
      },
      "execution_count": 42,
      "outputs": [
        {
          "output_type": "execute_result",
          "data": {
            "text/plain": [
              "{'Monday': \"Moon's Day\",\n",
              " 'Tuesday': \"Tiw's Day\",\n",
              " 'Wednesday': \"Woden's Day (Odin)\",\n",
              " 'Thursday': \"Thor's Day\",\n",
              " 'Friday': 'worship day',\n",
              " 'Saturday': \"Saturn's Day\",\n",
              " 'Sunday': \"Sun's Day\",\n",
              " 'Holiday': 'Relax day'}"
            ]
          },
          "metadata": {},
          "execution_count": 42
        }
      ]
    },
    {
      "cell_type": "code",
      "source": [
        "for key,value in week.items():\n",
        "  if key == 'Holiday':\n",
        "    print('it is in Dict')\n",
        "  else:\n",
        "    print('it is not')"
      ],
      "metadata": {
        "colab": {
          "base_uri": "https://localhost:8080/"
        },
        "id": "PxLFY6GMvBiw",
        "outputId": "cbc988a6-bad7-4a73-bbf6-606d4bdf2c1a"
      },
      "execution_count": 44,
      "outputs": [
        {
          "output_type": "stream",
          "name": "stdout",
          "text": [
            "it is not\n",
            "it is not\n",
            "it is not\n",
            "it is not\n",
            "it is not\n",
            "it is not\n",
            "it is not\n",
            "it is in Dict\n"
          ]
        }
      ]
    },
    {
      "cell_type": "markdown",
      "source": [
        "Membership of Dictionary: the 'in' and 'not in ' operators are used to check whether a object is key in the dictionary"
      ],
      "metadata": {
        "id": "N1913J6EvXqh"
      }
    },
    {
      "cell_type": "code",
      "source": [
        "'Monday' in week"
      ],
      "metadata": {
        "colab": {
          "base_uri": "https://localhost:8080/"
        },
        "id": "xTGnadFpvtkT",
        "outputId": "93bcb41b-441c-4b60-c7b8-fd554108f6c3"
      },
      "execution_count": 46,
      "outputs": [
        {
          "output_type": "execute_result",
          "data": {
            "text/plain": [
              "True"
            ]
          },
          "metadata": {},
          "execution_count": 46
        }
      ]
    },
    {
      "cell_type": "code",
      "source": [
        "'Monday' not in week"
      ],
      "metadata": {
        "colab": {
          "base_uri": "https://localhost:8080/"
        },
        "id": "V3w8su6gv21s",
        "outputId": "50fbc04f-8329-4851-c751-7fa304251847"
      },
      "execution_count": 47,
      "outputs": [
        {
          "output_type": "execute_result",
          "data": {
            "text/plain": [
              "False"
            ]
          },
          "metadata": {},
          "execution_count": 47
        }
      ]
    },
    {
      "cell_type": "markdown",
      "source": [
        "Dictionary Methods\n",
        "1: get() returna the value of key k in dictionary,d,equivalent to d[k]"
      ],
      "metadata": {
        "id": "icCq0tkBv8Zv"
      }
    },
    {
      "cell_type": "code",
      "source": [
        "week"
      ],
      "metadata": {
        "colab": {
          "base_uri": "https://localhost:8080/"
        },
        "id": "lthpuQ1UwQ_0",
        "outputId": "5caf7f27-dc2d-4371-a9aa-68c8bdd96e22"
      },
      "execution_count": 48,
      "outputs": [
        {
          "output_type": "execute_result",
          "data": {
            "text/plain": [
              "{'Monday': \"Moon's Day\",\n",
              " 'Tuesday': \"Tiw's Day\",\n",
              " 'Wednesday': \"Woden's Day (Odin)\",\n",
              " 'Thursday': \"Thor's Day\",\n",
              " 'Friday': 'worship day',\n",
              " 'Saturday': \"Saturn's Day\",\n",
              " 'Sunday': \"Sun's Day\",\n",
              " 'Holiday': 'Relax day'}"
            ]
          },
          "metadata": {},
          "execution_count": 48
        }
      ]
    },
    {
      "cell_type": "code",
      "source": [
        "week.get('Monday')"
      ],
      "metadata": {
        "colab": {
          "base_uri": "https://localhost:8080/",
          "height": 35
        },
        "id": "SMuHwvUrwSgd",
        "outputId": "e3d9ba36-9593-41c1-9837-eb7b1e08063b"
      },
      "execution_count": 49,
      "outputs": [
        {
          "output_type": "execute_result",
          "data": {
            "text/plain": [
              "\"Moon's Day\""
            ],
            "application/vnd.google.colaboratory.intrinsic+json": {
              "type": "string"
            }
          },
          "metadata": {},
          "execution_count": 49
        }
      ]
    },
    {
      "cell_type": "code",
      "source": [
        "week['Holiday']"
      ],
      "metadata": {
        "colab": {
          "base_uri": "https://localhost:8080/",
          "height": 35
        },
        "id": "6hgxQmVQwgoP",
        "outputId": "71e58dc6-faf6-4830-9ef7-29110ee3fc46"
      },
      "execution_count": 50,
      "outputs": [
        {
          "output_type": "execute_result",
          "data": {
            "text/plain": [
              "'Relax day'"
            ],
            "application/vnd.google.colaboratory.intrinsic+json": {
              "type": "string"
            }
          },
          "metadata": {},
          "execution_count": 50
        }
      ]
    },
    {
      "cell_type": "markdown",
      "source": [
        "update(): the update method when called on dictionary d1 with input argument dictionary d2 all the (key,value)pairs of d2 are added to d1"
      ],
      "metadata": {
        "id": "0p8s7Wpowjxz"
      }
    },
    {
      "cell_type": "code",
      "source": [
        "week"
      ],
      "metadata": {
        "colab": {
          "base_uri": "https://localhost:8080/"
        },
        "id": "__ik8YxNwip1",
        "outputId": "0c58567b-2ee9-4c49-c773-ab2eb8d072b4"
      },
      "execution_count": 51,
      "outputs": [
        {
          "output_type": "execute_result",
          "data": {
            "text/plain": [
              "{'Monday': \"Moon's Day\",\n",
              " 'Tuesday': \"Tiw's Day\",\n",
              " 'Wednesday': \"Woden's Day (Odin)\",\n",
              " 'Thursday': \"Thor's Day\",\n",
              " 'Friday': 'worship day',\n",
              " 'Saturday': \"Saturn's Day\",\n",
              " 'Sunday': \"Sun's Day\",\n",
              " 'Holiday': 'Relax day'}"
            ]
          },
          "metadata": {},
          "execution_count": 51
        }
      ]
    },
    {
      "cell_type": "code",
      "source": [
        "week={'Monday': \"Moon's Day\",\n",
        " 'Tuesday': \"Tiw's Day\",\n",
        " 'Wednesday': \"Woden's Day (Odin)\",\n",
        " 'Thursday': \"Thor's Day\",\n",
        " 'Friday': 'worship day',\n",
        " 'Saturday': \"Saturn's Day\"}\n",
        "week"
      ],
      "metadata": {
        "colab": {
          "base_uri": "https://localhost:8080/"
        },
        "id": "VwZfQ22WxCgn",
        "outputId": "4133610d-2366-4195-f564-d6fa911253af"
      },
      "execution_count": 80,
      "outputs": [
        {
          "output_type": "execute_result",
          "data": {
            "text/plain": [
              "{'Monday': \"Moon's Day\",\n",
              " 'Tuesday': \"Tiw's Day\",\n",
              " 'Wednesday': \"Woden's Day (Odin)\",\n",
              " 'Thursday': \"Thor's Day\",\n",
              " 'Friday': 'worship day',\n",
              " 'Saturday': \"Saturn's Day\"}"
            ]
          },
          "metadata": {},
          "execution_count": 80
        }
      ]
    },
    {
      "cell_type": "code",
      "source": [
        "oneday={'Sunday':\"Sun's Day\"}\n",
        "week.update(oneday)\n",
        "week"
      ],
      "metadata": {
        "colab": {
          "base_uri": "https://localhost:8080/"
        },
        "id": "UBgjS3OHx8NT",
        "outputId": "61501a05-2495-4aa5-e658-2905efd05893"
      },
      "execution_count": 92,
      "outputs": [
        {
          "output_type": "execute_result",
          "data": {
            "text/plain": [
              "{'Tuesday': \"Tiw's Day\",\n",
              " 'Wednesday': \"Woden's Day (Odin)\",\n",
              " 'Thursday': \"Thor's Day\",\n",
              " 'Friday': 'worship day',\n",
              " 'Saturday': \"Saturn's Day\",\n",
              " 'Sunday': \"Sun's Day\"}"
            ]
          },
          "metadata": {},
          "execution_count": 92
        }
      ]
    },
    {
      "cell_type": "markdown",
      "source": [
        "copy():returns the shallow copy of dictionary"
      ],
      "metadata": {
        "id": "gYI1Tlh43J1i"
      }
    },
    {
      "cell_type": "code",
      "source": [
        "dic={'a':1,'b':2}\n",
        "b=dic.copy()\n",
        "b\n"
      ],
      "metadata": {
        "colab": {
          "base_uri": "https://localhost:8080/"
        },
        "id": "2NZkv3r93Ps9",
        "outputId": "e7d70e81-279a-4d93-e173-d1b6909e40cf"
      },
      "execution_count": 64,
      "outputs": [
        {
          "output_type": "execute_result",
          "data": {
            "text/plain": [
              "{'a': 1, 'b': 2}"
            ]
          },
          "metadata": {},
          "execution_count": 64
        }
      ]
    },
    {
      "cell_type": "code",
      "source": [
        "b.update({'a':10})\n",
        "print(dic)\n",
        "print(b)\n",
        "#since in dictionary (only immutable values like int, str, float, bool, tuple) making change in them create a new one becaue they act as deep copies not shallow copies"
      ],
      "metadata": {
        "colab": {
          "base_uri": "https://localhost:8080/"
        },
        "id": "o-YOTAW93kwK",
        "outputId": "ba575203-777f-4742-dce1-3401550f5424"
      },
      "execution_count": 66,
      "outputs": [
        {
          "output_type": "stream",
          "name": "stdout",
          "text": [
            "{'a': 1, 'b': 2}\n",
            "{'a': 10, 'b': 2}\n"
          ]
        }
      ]
    },
    {
      "cell_type": "markdown",
      "source": [
        "clear():removes all items in dictionary"
      ],
      "metadata": {
        "id": "S32hzJOD8SpB"
      }
    },
    {
      "cell_type": "code",
      "source": [
        "dictt={'a':1,'b':2}\n",
        "dictt.clear()\n",
        "dictt"
      ],
      "metadata": {
        "colab": {
          "base_uri": "https://localhost:8080/"
        },
        "id": "mJb8IRuJ8Ye7",
        "outputId": "5ee8aec9-4857-4757-8905-5a0059d25c97"
      },
      "execution_count": 67,
      "outputs": [
        {
          "output_type": "execute_result",
          "data": {
            "text/plain": [
              "{}"
            ]
          },
          "metadata": {},
          "execution_count": 67
        }
      ]
    },
    {
      "cell_type": "markdown",
      "source": [
        "pop(): takes a key and if key in dictionary it removes the associated key,value pair form the dictionary and return the value"
      ],
      "metadata": {
        "id": "SgbOjjtE8lkH"
      }
    },
    {
      "cell_type": "code",
      "source": [
        "week"
      ],
      "metadata": {
        "colab": {
          "base_uri": "https://localhost:8080/"
        },
        "id": "4hYpuXN082zF",
        "outputId": "45e49460-c6d5-4382-c030-ffb649b86623"
      },
      "execution_count": 93,
      "outputs": [
        {
          "output_type": "execute_result",
          "data": {
            "text/plain": [
              "{'Tuesday': \"Tiw's Day\",\n",
              " 'Wednesday': \"Woden's Day (Odin)\",\n",
              " 'Thursday': \"Thor's Day\",\n",
              " 'Friday': 'worship day',\n",
              " 'Saturday': \"Saturn's Day\",\n",
              " 'Sunday': \"Sun's Day\"}"
            ]
          },
          "metadata": {},
          "execution_count": 93
        }
      ]
    },
    {
      "cell_type": "code",
      "source": [
        "week.pop('Monday')\n",
        "print(week)\n"
      ],
      "metadata": {
        "colab": {
          "base_uri": "https://localhost:8080/"
        },
        "id": "BI_THeO-837k",
        "outputId": "b903f83b-c08a-499d-aa8e-3ede7e548b03"
      },
      "execution_count": 83,
      "outputs": [
        {
          "output_type": "stream",
          "name": "stdout",
          "text": [
            "{'Tuesday': \"Tiw's Day\", 'Wednesday': \"Woden's Day (Odin)\", 'Thursday': \"Thor's Day\", 'Friday': 'worship day', 'Saturday': \"Saturn's Day\", 'Sunday': \"Sun's Day\"}\n"
          ]
        }
      ]
    },
    {
      "cell_type": "markdown",
      "source": [
        "del():deletes the key,value pair from the dictionary"
      ],
      "metadata": {
        "id": "V05rVvnB9i6o"
      }
    },
    {
      "cell_type": "code",
      "source": [
        "week"
      ],
      "metadata": {
        "colab": {
          "base_uri": "https://localhost:8080/"
        },
        "id": "wSAGg8Bb9syr",
        "outputId": "9564c1ef-cdbb-426e-f82a-f1225c3b6aff"
      },
      "execution_count": 94,
      "outputs": [
        {
          "output_type": "execute_result",
          "data": {
            "text/plain": [
              "{'Tuesday': \"Tiw's Day\",\n",
              " 'Wednesday': \"Woden's Day (Odin)\",\n",
              " 'Thursday': \"Thor's Day\",\n",
              " 'Friday': 'worship day',\n",
              " 'Saturday': \"Saturn's Day\",\n",
              " 'Sunday': \"Sun's Day\"}"
            ]
          },
          "metadata": {},
          "execution_count": 94
        }
      ]
    },
    {
      "cell_type": "code",
      "source": [
        "del week['Sunday']\n",
        "week"
      ],
      "metadata": {
        "colab": {
          "base_uri": "https://localhost:8080/"
        },
        "id": "U8TZtPce9trw",
        "outputId": "e66dcbc2-57a4-4506-9af5-811c55356e51"
      },
      "execution_count": 95,
      "outputs": [
        {
          "output_type": "execute_result",
          "data": {
            "text/plain": [
              "{'Tuesday': \"Tiw's Day\",\n",
              " 'Wednesday': \"Woden's Day (Odin)\",\n",
              " 'Thursday': \"Thor's Day\",\n",
              " 'Friday': 'worship day',\n",
              " 'Saturday': \"Saturn's Day\"}"
            ]
          },
          "metadata": {},
          "execution_count": 95
        }
      ]
    },
    {
      "cell_type": "markdown",
      "source": [
        "keys():returns the keys in dictionary"
      ],
      "metadata": {
        "id": "sUbMutZK-Lwe"
      }
    },
    {
      "cell_type": "code",
      "source": [
        "week.keys()"
      ],
      "metadata": {
        "colab": {
          "base_uri": "https://localhost:8080/"
        },
        "id": "PilQZEgD-QHk",
        "outputId": "d8f24d22-11ad-4721-c3fc-9b28ae5551cf"
      },
      "execution_count": 96,
      "outputs": [
        {
          "output_type": "execute_result",
          "data": {
            "text/plain": [
              "dict_keys(['Tuesday', 'Wednesday', 'Thursday', 'Friday', 'Saturday'])"
            ]
          },
          "metadata": {},
          "execution_count": 96
        }
      ]
    },
    {
      "cell_type": "markdown",
      "source": [
        "values(): returns values in dictionary"
      ],
      "metadata": {
        "id": "Fcq1woOl-aa8"
      }
    },
    {
      "cell_type": "code",
      "source": [
        "week.values()"
      ],
      "metadata": {
        "colab": {
          "base_uri": "https://localhost:8080/"
        },
        "id": "Ci0Chgsb-Vby",
        "outputId": "1a72c9d5-e2f6-43b1-b3a9-4f58785e56a2"
      },
      "execution_count": 97,
      "outputs": [
        {
          "output_type": "execute_result",
          "data": {
            "text/plain": [
              "dict_values([\"Tiw's Day\", \"Woden's Day (Odin)\", \"Thor's Day\", 'worship day', \"Saturn's Day\"])"
            ]
          },
          "metadata": {},
          "execution_count": 97
        }
      ]
    },
    {
      "cell_type": "markdown",
      "source": [
        "items():items method is very useful it returns a container that contains tuple objects one for each (key,value)pair this illustrates how to use these methods."
      ],
      "metadata": {
        "id": "p6geLtbw-io0"
      }
    },
    {
      "cell_type": "code",
      "source": [
        "week.items()"
      ],
      "metadata": {
        "colab": {
          "base_uri": "https://localhost:8080/"
        },
        "id": "lcVqg9Hj-8OZ",
        "outputId": "e29bfe38-8655-4d39-e42d-301ea2dad062"
      },
      "execution_count": 99,
      "outputs": [
        {
          "output_type": "execute_result",
          "data": {
            "text/plain": [
              "dict_items([('Tuesday', \"Tiw's Day\"), ('Wednesday', \"Woden's Day (Odin)\"), ('Thursday', \"Thor's Day\"), ('Friday', 'worship day'), ('Saturday', \"Saturn's Day\")])"
            ]
          },
          "metadata": {},
          "execution_count": 99
        }
      ]
    },
    {
      "cell_type": "markdown",
      "source": [
        "the method is usually used to iterate over the key value pair of dictionary"
      ],
      "metadata": {
        "id": "z0GYUY8P_I5m"
      }
    },
    {
      "cell_type": "code",
      "source": [
        "for item in week.items():print(item,end=\"\")"
      ],
      "metadata": {
        "colab": {
          "base_uri": "https://localhost:8080/"
        },
        "id": "Jbw0G47A_VFL",
        "outputId": "cf3d6473-e57c-42f5-fdbe-116c86ed3b0f"
      },
      "execution_count": 100,
      "outputs": [
        {
          "output_type": "stream",
          "name": "stdout",
          "text": [
            "('Tuesday', \"Tiw's Day\")('Wednesday', \"Woden's Day (Odin)\")('Thursday', \"Thor's Day\")('Friday', 'worship day')('Saturday', \"Saturn's Day\")"
          ]
        }
      ]
    },
    {
      "cell_type": "markdown",
      "source": [
        "**Note**:concatination,repeating operators(+,+) ,slicing,indexing[](slicing implies on order and there is no order in dictionary) are not supported in dictionary"
      ],
      "metadata": {
        "id": "pqlch2Ar_8PU"
      }
    }
  ]
}