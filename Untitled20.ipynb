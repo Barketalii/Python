{
  "nbformat": 4,
  "nbformat_minor": 0,
  "metadata": {
    "colab": {
      "provenance": [],
      "authorship_tag": "ABX9TyNJBHZGn/InHar+Z3UESIEG",
      "include_colab_link": true
    },
    "kernelspec": {
      "name": "python3",
      "display_name": "Python 3"
    },
    "language_info": {
      "name": "python"
    }
  },
  "cells": [
    {
      "cell_type": "markdown",
      "metadata": {
        "id": "view-in-github",
        "colab_type": "text"
      },
      "source": [
        "<a href=\"https://colab.research.google.com/github/Barketalii/Python/blob/main/Untitled20.ipynb\" target=\"_parent\"><img src=\"https://colab.research.google.com/assets/colab-badge.svg\" alt=\"Open In Colab\"/></a>"
      ]
    },
    {
      "cell_type": "code",
      "execution_count": 1,
      "metadata": {
        "colab": {
          "base_uri": "https://localhost:8080/"
        },
        "id": "jRMkW2DnovzL",
        "outputId": "b2dbd784-6d14-479d-f77b-4dd7f90b0ca1"
      },
      "outputs": [
        {
          "output_type": "execute_result",
          "data": {
            "text/plain": [
              "{'mame': ['Alice', 'Bob', 'Charlie'],\n",
              " 'cit': ['Germany', 'Melburn', 'Frankfort'],\n",
              " 'Number': ['8889994441', '8888999977', '8888777799']}"
            ]
          },
          "metadata": {},
          "execution_count": 1
        }
      ],
      "source": [
        "phonebook={\n",
        "    'mame':['Alice','Bob','Charlie'],\n",
        "    'cit':['Germany','Melburn','Frankfort'],\n",
        "    'Number':['8889994441','8888999977','8888777799']\n",
        "}\n",
        "phonebook"
      ]
    },
    {
      "cell_type": "code",
      "source": [
        "name=input('enter name to search:')\n",
        "print('number',phonebook.get(name,'not found'))\n",
        "new_name=input('enter new contact name:')\n",
        "new_number=input('enter new contact number:')\n",
        "phonebook[new_name]='new_number'\n",
        "print('updated phonebook',phonebook)\n",
        "del_name=input('enter the name to delete:')\n",
        "if name in phonebook:\n",
        "  del phonebook[del_name]\n",
        "print('final phone book',phonebook)\n"
      ],
      "metadata": {
        "colab": {
          "base_uri": "https://localhost:8080/"
        },
        "id": "rScyOgcspdAv",
        "outputId": "3c684d58-1ba3-4b8d-bc39-f7b4c0fdec79"
      },
      "execution_count": 4,
      "outputs": [
        {
          "output_type": "stream",
          "name": "stdout",
          "text": [
            "enter name to search:Bob\n",
            "number not found\n",
            "enter new contact name:455\n",
            "enter new contact number:84\n",
            "updated phonebook {'mame': ['Alice', 'Bob', 'Charlie'], 'cit': ['Germany', 'Melburn', 'Frankfort'], 'Number': ['8889994441', '8888999977', '8888777799'], 'barket': 'new_number', 'boby': 'new_number', '455': 'new_number'}\n",
            "enter the name to delete:84\n",
            "final phone book {'mame': ['Alice', 'Bob', 'Charlie'], 'cit': ['Germany', 'Melburn', 'Frankfort'], 'Number': ['8889994441', '8888999977', '8888777799'], 'barket': 'new_number', 'boby': 'new_number', '455': 'new_number'}\n"
          ]
        }
      ]
    },
    {
      "cell_type": "code",
      "source": [
        "from collections import deque\n",
        "admission_queue = deque()\n",
        "\n",
        "while True:\n",
        "    print(\"Student Admission Queue \")\n",
        "    print(\"1. Add student to queue (Enqueue)\")\n",
        "    print(\"2. Admit student (Dequeue)\")\n",
        "    print(\"3. View next student in queue (Peek)\")\n",
        "    print(\"4. Display all students in queue\")\n",
        "    print(\"5. Exit\")\n",
        "\n",
        "    choice = input(\"Enter your choice (1-5): \")\n",
        "\n",
        "    if choice == '1':\n",
        "        name = input(\"Enter student name: \")\n",
        "        admission_queue.append(name)\n",
        "        print(f\"{name} added to the admission queue.\")\n",
        "\n",
        "    elif choice == '2':\n",
        "        if admission_queue:\n",
        "            admitted = admission_queue.popleft()\n",
        "            print(f\"{admitted} has been admitted.\")\n",
        "        else:\n",
        "            print(\"No students in queue!\")\n",
        "\n",
        "    elif choice == '3':\n",
        "        if admission_queue:\n",
        "            print(f\"Next student in queue: {admission_queue[0]}\")\n",
        "        else:\n",
        "            print(\"Queue is empty.\")\n",
        "\n",
        "    elif choice == '4':\n",
        "        if admission_queue:\n",
        "            print(\"Students waiting for admission:\", list(admission_queue))\n",
        "        else:\n",
        "            print(\"No students in queue.\")\n",
        "\n",
        "    elif choice == '5':\n",
        "        print(\"Exiting Admission Queue System.\")\n",
        "        break\n",
        "\n",
        "    else:\n",
        "        print(\"Invalid choice! Please enter 1-5.\")\n"
      ],
      "metadata": {
        "colab": {
          "base_uri": "https://localhost:8080/"
        },
        "id": "SVCTOOLYWfdx",
        "outputId": "2e1606e6-329a-4b46-ac6b-828781846af3"
      },
      "execution_count": 2,
      "outputs": [
        {
          "output_type": "stream",
          "name": "stdout",
          "text": [
            "Student Admission Queue \n",
            "1. Add student to queue (Enqueue)\n",
            "2. Admit student (Dequeue)\n",
            "3. View next student in queue (Peek)\n",
            "4. Display all students in queue\n",
            "5. Exit\n",
            "Enter your choice (1-5): 5\n",
            "Exiting Admission Queue System.\n"
          ]
        }
      ]
    },
    {
      "cell_type": "code",
      "source": [
        "from collections import  deque"
      ],
      "metadata": {
        "id": "N-GrZMm4VPRv"
      },
      "execution_count": 1,
      "outputs": []
    },
    {
      "cell_type": "code",
      "source": [
        "queue=deque()#create and empty queue\n",
        "#enqueue (add elements)\n",
        "queue.append('A')\n",
        "queue.append('b')\n",
        "queue.append('c')\n",
        "print('Queue after enqueue:',queue)"
      ],
      "metadata": {
        "colab": {
          "base_uri": "https://localhost:8080/"
        },
        "id": "ohuhnRCQVUxd",
        "outputId": "44894433-dd8f-4fca-9615-553c01016505"
      },
      "execution_count": 5,
      "outputs": [
        {
          "output_type": "stream",
          "name": "stdout",
          "text": [
            "Queue after enqueue: deque(['A', 'b', 'c'])\n"
          ]
        }
      ]
    },
    {
      "cell_type": "code",
      "source": [
        "#dequeue (remove elements in fifo order)\n",
        "first=queue.popleft()\n",
        "print('Dequeued element:',first)\n",
        "print('Queue now',queue)"
      ],
      "metadata": {
        "colab": {
          "base_uri": "https://localhost:8080/"
        },
        "id": "KJWAqrKlWKbz",
        "outputId": "bc63da97-9d05-40b6-b322-96f3ae5c934e"
      },
      "execution_count": 6,
      "outputs": [
        {
          "output_type": "stream",
          "name": "stdout",
          "text": [
            "Dequeued element: A\n",
            "Queue now deque(['b', 'c'])\n"
          ]
        }
      ]
    },
    {
      "cell_type": "code",
      "source": [
        "queue.append('D')\n",
        "print('queue after adding D:',queue)"
      ],
      "metadata": {
        "colab": {
          "base_uri": "https://localhost:8080/"
        },
        "id": "knm-Mi8cXFdz",
        "outputId": "37be61e4-4bce-4ac6-9296-988127d0665e"
      },
      "execution_count": 7,
      "outputs": [
        {
          "output_type": "stream",
          "name": "stdout",
          "text": [
            "queue after adding D: deque(['b', 'c', 'D'])\n"
          ]
        }
      ]
    },
    {
      "cell_type": "code",
      "source": [
        "print('front element is:',queue[0])"
      ],
      "metadata": {
        "colab": {
          "base_uri": "https://localhost:8080/"
        },
        "id": "VAnHXdAkXisB",
        "outputId": "a96bb0de-b2ab-4f57-fada-4109302e3188"
      },
      "execution_count": 9,
      "outputs": [
        {
          "output_type": "stream",
          "name": "stdout",
          "text": [
            "front element is: b\n"
          ]
        }
      ]
    },
    {
      "cell_type": "code",
      "source": [
        "if not queue:\n",
        "  print('queue is empty')\n",
        "else:\n",
        "  print('queue is not empty')"
      ],
      "metadata": {
        "colab": {
          "base_uri": "https://localhost:8080/"
        },
        "id": "D7VQ-amXXtA0",
        "outputId": "b1628fb4-9626-49d4-e741-b81d3db630e0"
      },
      "execution_count": 10,
      "outputs": [
        {
          "output_type": "stream",
          "name": "stdout",
          "text": [
            "queue is not empty\n"
          ]
        }
      ]
    },
    {
      "cell_type": "code",
      "source": [
        "from collections import deque"
      ],
      "metadata": {
        "id": "i7yfdfGPYET6"
      },
      "execution_count": 3,
      "outputs": []
    },
    {
      "cell_type": "code",
      "source": [
        "stack = []\n",
        "\n",
        "print(\"Enter 5 actions (like: open file, edit, save, etc.)\")\n",
        "\n",
        "\n",
        "for i in range(5):\n",
        "    action = input(f\"Enter action {i+1}: \")\n",
        "    stack.append(action)\n",
        "\n",
        "print(\"Actions recorded:\", stack)\n",
        "\n",
        "if stack:\n",
        "    last_action = stack.pop()\n",
        "    print(f\"Undo performed: '{last_action}' removed.\")\n",
        "else:\n",
        "    print(\"No actions to undo!\")\n",
        "\n",
        "print(\"Actions left after undo:\", stack)\n"
      ],
      "metadata": {
        "colab": {
          "base_uri": "https://localhost:8080/"
        },
        "id": "bMffapslpnrb",
        "outputId": "23f94cd2-1ea6-4857-af22-dd4db7745a49"
      },
      "execution_count": 3,
      "outputs": [
        {
          "output_type": "stream",
          "name": "stdout",
          "text": [
            "Enter 5 actions (like: open file, edit, save, etc.)\n",
            "Enter action 1: 1\n",
            "Enter action 2: 2\n",
            "Enter action 3: 3\n",
            "Enter action 4: 4\n",
            "Enter action 5: 5\n",
            "Actions recorded: ['1', '2', '3', '4', '5']\n",
            "Undo performed: '5' removed.\n",
            "Actions left after undo: ['1', '2', '3', '4']\n"
          ]
        }
      ]
    },
    {
      "cell_type": "code",
      "source": [
        "while True:\n",
        "    print(\"File Operations Menu\")\n",
        "    print(\"1. Open File\")\n",
        "    print(\"2. Edit File\")\n",
        "    print(\"3. Save File\")\n",
        "    print(\"4. Delete File\")\n",
        "    print(\"5. Exit\")\n",
        "\n",
        "    choice = input(\"Enter your choice (1-5): \").strip()\n",
        "\n",
        "    if choice == '1':\n",
        "        print(\"File opened successfully.\")\n",
        "    elif choice == '2':\n",
        "        print(\"You are now editing the file...\")\n",
        "    elif choice == '3':\n",
        "        print(\"File saved successfully.\")\n",
        "    elif choice == '4':\n",
        "        print(\"File deleted.\")\n",
        "    elif choice == '5':\n",
        "        print(\"Exiting the program.\")\n",
        "        break\n",
        "    else:\n",
        "        print(\"Invalid choice! Please enter 1-5.\")\n",
        "        continue\n",
        "    again = input(\"\\nDo you want to perform another action? (yes/no): \").strip().lower()\n",
        "    if again != \"yes\":\n",
        "        print(\"Goodbye!\")\n",
        "        break\n"
      ],
      "metadata": {
        "colab": {
          "base_uri": "https://localhost:8080/"
        },
        "id": "4r-naSF0q3yC",
        "outputId": "b2820a0f-36af-4293-df01-8646fc0a693d"
      },
      "execution_count": 4,
      "outputs": [
        {
          "output_type": "stream",
          "name": "stdout",
          "text": [
            "File Operations Menu\n",
            "1. Open File\n",
            "2. Edit File\n",
            "3. Save File\n",
            "4. Delete File\n",
            "5. Exit\n",
            "Enter your choice (1-5): 1\n",
            "File opened successfully.\n",
            "\n",
            "Do you want to perform another action? (yes/no): no\n",
            "Goodbye!\n"
          ]
        }
      ]
    },
    {
      "cell_type": "code",
      "source": [
        "\n",
        "action_stack = []\n",
        "\n",
        "print(\"Enter 5 actions (e.g., open file, edit line, save file, delete line,delete file.)\")\n",
        "\n",
        "for i in range(5):\n",
        "    action = input(f\"Enter action {i+1}: \").strip()\n",
        "    action_stack.append(action)\n",
        "\n",
        "print(\"Actions recorded:\")\n",
        "for i, act in enumerate(action_stack, start=1):\n",
        "    print(f\"{i}. {act}\")\n",
        "\n",
        "if action_stack:\n",
        "    undone_action = action_stack.pop()\n",
        "    print(f\"Undo performed: '{undone_action}' has been removed.\")\n",
        "else:\n",
        "    print(\"No actions to undo!\")\n",
        "print(\"Actions left after undo:\")\n",
        "for i, act in enumerate(action_stack, start=1):\n",
        "    print(f\"{i}. {act}\")\n"
      ],
      "metadata": {
        "colab": {
          "base_uri": "https://localhost:8080/"
        },
        "id": "6DkRWh96rc6O",
        "outputId": "81987f88-d4ba-466d-e8a7-b44ac3689b47"
      },
      "execution_count": 5,
      "outputs": [
        {
          "output_type": "stream",
          "name": "stdout",
          "text": [
            "Enter 5 actions (e.g., open file, edit line, save file, delete line,delete file.)\n",
            "Enter action 1: 1\n",
            "Enter action 2: 2\n",
            "Enter action 3: 3\n",
            "Enter action 4: 4\n",
            "Enter action 5: 5\n",
            "Actions recorded:\n",
            "1. 1\n",
            "2. 2\n",
            "3. 3\n",
            "4. 4\n",
            "5. 5\n",
            "Undo performed: '5' has been removed.\n",
            "Actions left after undo:\n",
            "1. 1\n",
            "2. 2\n",
            "3. 3\n",
            "4. 4\n"
          ]
        }
      ]
    }
  ]
}