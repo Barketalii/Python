{
  "nbformat": 4,
  "nbformat_minor": 0,
  "metadata": {
    "colab": {
      "provenance": [],
      "authorship_tag": "ABX9TyMMxhbCvmaXfxImDw0z5fzv",
      "include_colab_link": true
    },
    "kernelspec": {
      "name": "python3",
      "display_name": "Python 3"
    },
    "language_info": {
      "name": "python"
    }
  },
  "cells": [
    {
      "cell_type": "markdown",
      "metadata": {
        "id": "view-in-github",
        "colab_type": "text"
      },
      "source": [
        "<a href=\"https://colab.research.google.com/github/Barketalii/Python/blob/main/Tuple.ipynb\" target=\"_parent\"><img src=\"https://colab.research.google.com/assets/colab-badge.svg\" alt=\"Open In Colab\"/></a>"
      ]
    },
    {
      "cell_type": "markdown",
      "source": [
        "**Tuple** a tuple is  sequence of immutable objects separated by the commas and whole sequence enclosed in parenthesis in many ways tuples behave like lists except that tuple are immutable therefore tuples do not have **insert(),pop(),remove(),copy(),delete(),reverse(),sort(),append() and extend()old. We will check them all and perform operations on a tuple\n",
        "**"
      ],
      "metadata": {
        "id": "aGAPKr71D6F9"
      }
    },
    {
      "cell_type": "code",
      "source": [
        "tuple1=(1,2,3,2,4,5,1,True,False,'Hello')\n",
        "tuple1"
      ],
      "metadata": {
        "colab": {
          "base_uri": "https://localhost:8080/"
        },
        "id": "42YCbGnVECcy",
        "outputId": "49c6291d-e521-4b76-f568-1c43ff73ef25"
      },
      "execution_count": null,
      "outputs": [
        {
          "output_type": "execute_result",
          "data": {
            "text/plain": [
              "(1, 2, 3, 2, 4, 5, 1, True, False, 'Hello')"
            ]
          },
          "metadata": {},
          "execution_count": 2
        }
      ]
    },
    {
      "cell_type": "markdown",
      "source": [
        "Count() : in tuple count counts the nuumber of times a particular item or object appears in tuple"
      ],
      "metadata": {
        "id": "ZPltajtsHwGz"
      }
    },
    {
      "cell_type": "code",
      "source": [
        "occurance_of_2=tuple1.count(2)\n",
        "print(f\"the number appears: {occurance_of_2} times\")"
      ],
      "metadata": {
        "colab": {
          "base_uri": "https://localhost:8080/"
        },
        "id": "NYpFenefFtkl",
        "outputId": "f51f940e-306a-46bd-b203-8cee37084364"
      },
      "execution_count": null,
      "outputs": [
        {
          "output_type": "stream",
          "name": "stdout",
          "text": [
            "the number appears: 2 times\n"
          ]
        }
      ]
    },
    {
      "cell_type": "markdown",
      "source": [
        "Index: the index of the element is found using .index() method"
      ],
      "metadata": {
        "id": "pyHAlWbwkLjr"
      }
    },
    {
      "cell_type": "code",
      "source": [
        "tt=tuple1.index('Hello')\n",
        "tt"
      ],
      "metadata": {
        "colab": {
          "base_uri": "https://localhost:8080/"
        },
        "id": "JITmaA3RH7en",
        "outputId": "f1587bc0-3c9d-4101-d79f-9b204b6e2d4d"
      },
      "execution_count": null,
      "outputs": [
        {
          "output_type": "execute_result",
          "data": {
            "text/plain": [
              "9"
            ]
          },
          "metadata": {},
          "execution_count": 5
        }
      ]
    },
    {
      "cell_type": "markdown",
      "source": [
        "Slicing\n",
        "tuple1[2:5:2] means start from index 2 and stop at 5 but does not include 5 and give step of 2"
      ],
      "metadata": {
        "id": "js7r228BGaXA"
      }
    },
    {
      "cell_type": "code",
      "source": [
        "tuple1[2:5:2]"
      ],
      "metadata": {
        "colab": {
          "base_uri": "https://localhost:8080/"
        },
        "id": "avueVQyHGNQf",
        "outputId": "07b0a460-349a-4eb4-f5d9-3820ae2cfd12"
      },
      "execution_count": null,
      "outputs": [
        {
          "output_type": "execute_result",
          "data": {
            "text/plain": [
              "(3, 5)"
            ]
          },
          "metadata": {},
          "execution_count": 28
        }
      ]
    },
    {
      "cell_type": "markdown",
      "source": [
        "\n",
        "\n",
        ">  Accessing Tuple elements\n",
        "\n"
      ],
      "metadata": {
        "id": "akEvYxEoFAuP"
      }
    },
    {
      "cell_type": "code",
      "source": [
        "tuple1[7]"
      ],
      "metadata": {
        "colab": {
          "base_uri": "https://localhost:8080/"
        },
        "id": "2Dpn0sU6EI9k",
        "outputId": "7f6e2c45-0f41-4d0c-96fb-2049f1ff0488"
      },
      "execution_count": null,
      "outputs": [
        {
          "output_type": "execute_result",
          "data": {
            "text/plain": [
              "True"
            ]
          },
          "metadata": {},
          "execution_count": 8
        }
      ]
    },
    {
      "cell_type": "code",
      "source": [
        "tuple1[-1]"
      ],
      "metadata": {
        "colab": {
          "base_uri": "https://localhost:8080/",
          "height": 35
        },
        "id": "GkbR-G1RlE2R",
        "outputId": "c7604ced-7926-466d-b25c-8847dd93266b"
      },
      "execution_count": null,
      "outputs": [
        {
          "output_type": "execute_result",
          "data": {
            "text/plain": [
              "'Hello'"
            ],
            "application/vnd.google.colaboratory.intrinsic+json": {
              "type": "string"
            }
          },
          "metadata": {},
          "execution_count": 12
        }
      ]
    },
    {
      "cell_type": "markdown",
      "source": [
        "Reverse"
      ],
      "metadata": {
        "id": "ciGtX5kyFpfs"
      }
    },
    {
      "cell_type": "code",
      "source": [
        "tuple1[::-1]"
      ],
      "metadata": {
        "colab": {
          "base_uri": "https://localhost:8080/"
        },
        "id": "s62K3uIFEVM7",
        "outputId": "e4169a3e-efef-44af-ff9b-446eb56891fb"
      },
      "execution_count": null,
      "outputs": [
        {
          "output_type": "execute_result",
          "data": {
            "text/plain": [
              "('Hello', False, True, 5, 4, 3, 2, 1)"
            ]
          },
          "metadata": {},
          "execution_count": 14
        }
      ]
    },
    {
      "cell_type": "markdown",
      "source": [
        "Range of index"
      ],
      "metadata": {
        "id": "pxq3zwaHlL9S"
      }
    },
    {
      "cell_type": "code",
      "source": [
        "print(tuple1)\n",
        "tuple1[1:6:2]"
      ],
      "metadata": {
        "colab": {
          "base_uri": "https://localhost:8080/"
        },
        "id": "CPDBSkI_lKKq",
        "outputId": "b87c707f-a146-4da7-dc1c-bb58e617752c"
      },
      "execution_count": null,
      "outputs": [
        {
          "output_type": "stream",
          "name": "stdout",
          "text": [
            "(1, 2, 3, 2, 4, 5, 1, True, False, 'Hello')\n"
          ]
        },
        {
          "output_type": "execute_result",
          "data": {
            "text/plain": [
              "(2, 2, 5)"
            ]
          },
          "metadata": {},
          "execution_count": 16
        }
      ]
    },
    {
      "cell_type": "code",
      "source": [
        "tuple1[:5]"
      ],
      "metadata": {
        "colab": {
          "base_uri": "https://localhost:8080/"
        },
        "id": "dJF7hq5vllYM",
        "outputId": "5a527af0-d100-412b-a80a-af4c5ab9dbac"
      },
      "execution_count": null,
      "outputs": [
        {
          "output_type": "execute_result",
          "data": {
            "text/plain": [
              "(1, 2, 3, 2, 4)"
            ]
          },
          "metadata": {},
          "execution_count": 17
        }
      ]
    },
    {
      "cell_type": "markdown",
      "source": [
        "tuples are immutable so can not be changed\n",
        "\n",
        "> but can be cahnged to list forst then changed\n",
        "\n",
        "\n"
      ],
      "metadata": {
        "id": "E2FvQc5Blrnu"
      }
    },
    {
      "cell_type": "code",
      "source": [
        "x=('apple',1,2,3,'cherry')\n",
        "tup=list(x)\n",
        "tup"
      ],
      "metadata": {
        "colab": {
          "base_uri": "https://localhost:8080/"
        },
        "id": "gIHnUHD7lwLc",
        "outputId": "63f63ee8-89db-4617-f8c7-c5af554294c1"
      },
      "execution_count": null,
      "outputs": [
        {
          "output_type": "execute_result",
          "data": {
            "text/plain": [
              "['apple', 1, 2, 3, 'cherry']"
            ]
          },
          "metadata": {},
          "execution_count": 19
        }
      ]
    },
    {
      "cell_type": "code",
      "source": [
        "tup[1]='kiwi'\n",
        "tup"
      ],
      "metadata": {
        "colab": {
          "base_uri": "https://localhost:8080/"
        },
        "id": "wk9oP97CmLiR",
        "outputId": "ed2a0313-1de5-4faa-d64d-12827da6be63"
      },
      "execution_count": null,
      "outputs": [
        {
          "output_type": "execute_result",
          "data": {
            "text/plain": [
              "['apple', 'kiwi', 2, 3, 'cherry']"
            ]
          },
          "metadata": {},
          "execution_count": 21
        }
      ]
    },
    {
      "cell_type": "code",
      "source": [
        "tupl=tuple(tup)\n",
        "tupl"
      ],
      "metadata": {
        "colab": {
          "base_uri": "https://localhost:8080/"
        },
        "id": "P51NlDVQmbzf",
        "outputId": "81e59bc2-7625-4d59-906b-91caa835f202"
      },
      "execution_count": null,
      "outputs": [
        {
          "output_type": "execute_result",
          "data": {
            "text/plain": [
              "('apple', 'kiwi', 2, 3, 'cherry')"
            ]
          },
          "metadata": {},
          "execution_count": 23
        }
      ]
    },
    {
      "cell_type": "markdown",
      "source": [
        "unpacking of tuple"
      ],
      "metadata": {
        "id": "PviY_bJBqSzS"
      }
    },
    {
      "cell_type": "code",
      "source": [
        "tup=('apple','cherry','kiwi')\n",
        "tup"
      ],
      "metadata": {
        "colab": {
          "base_uri": "https://localhost:8080/"
        },
        "id": "Kwlj6SPPqWQU",
        "outputId": "7f9c1913-5c67-4fa3-b29e-e607f2e02fca"
      },
      "execution_count": null,
      "outputs": [
        {
          "output_type": "execute_result",
          "data": {
            "text/plain": [
              "('apple', 'cherry', 'kiwi')"
            ]
          },
          "metadata": {},
          "execution_count": 24
        }
      ]
    },
    {
      "cell_type": "code",
      "source": [
        "(green,yellow,red)=tup\n",
        "print(green)"
      ],
      "metadata": {
        "colab": {
          "base_uri": "https://localhost:8080/"
        },
        "id": "Fe5cSisZqnrt",
        "outputId": "113e01de-3d92-4fc7-f41f-cdae09a1ebe1"
      },
      "execution_count": null,
      "outputs": [
        {
          "output_type": "stream",
          "name": "stdout",
          "text": [
            "apple\n"
          ]
        }
      ]
    },
    {
      "cell_type": "code",
      "source": [
        "tup2=(1,2,3)\n",
        "tup2"
      ],
      "metadata": {
        "colab": {
          "base_uri": "https://localhost:8080/"
        },
        "id": "9F-cKH3lrJFF",
        "outputId": "9c1afe4b-f813-46ae-e4e9-fcf23456b59e"
      },
      "execution_count": null,
      "outputs": [
        {
          "output_type": "execute_result",
          "data": {
            "text/plain": [
              "(1, 2, 3)"
            ]
          },
          "metadata": {},
          "execution_count": 28
        }
      ]
    },
    {
      "cell_type": "code",
      "source": [
        "(hello,yello,jellow)=tup2\n",
        "print(hello)"
      ],
      "metadata": {
        "colab": {
          "base_uri": "https://localhost:8080/"
        },
        "id": "IQC9FKI3rOew",
        "outputId": "1ba96597-e869-438a-80ac-c6737174bd21"
      },
      "execution_count": null,
      "outputs": [
        {
          "output_type": "stream",
          "name": "stdout",
          "text": [
            "1\n"
          ]
        }
      ]
    },
    {
      "cell_type": "code",
      "source": [
        "fruits=('apple','cherry','kiwi','banana')\n"
      ],
      "metadata": {
        "id": "81RMDp5SrfkO"
      },
      "execution_count": null,
      "outputs": []
    },
    {
      "cell_type": "code",
      "source": [
        "(yellow,green,*red)=fruits\n",
        "print(red)"
      ],
      "metadata": {
        "colab": {
          "base_uri": "https://localhost:8080/"
        },
        "id": "dngwckZ0rrig",
        "outputId": "4da5af44-3a72-477b-e85b-95bfe98fc48e"
      },
      "execution_count": null,
      "outputs": [
        {
          "output_type": "stream",
          "name": "stdout",
          "text": [
            "['kiwi', 'banana']\n"
          ]
        }
      ]
    },
    {
      "cell_type": "markdown",
      "source": [
        "Loop in tuple"
      ],
      "metadata": {
        "id": "KI8MeiTtsIvS"
      }
    },
    {
      "cell_type": "code",
      "source": [
        "tup=[1,2,3,4,5,6,7,8]\n",
        "for x in tup:\n",
        "  print(x)"
      ],
      "metadata": {
        "colab": {
          "base_uri": "https://localhost:8080/"
        },
        "id": "wmPV5AXtsL7o",
        "outputId": "c1d67edc-5034-4074-85c9-c3538d604702"
      },
      "execution_count": null,
      "outputs": [
        {
          "output_type": "stream",
          "name": "stdout",
          "text": [
            "1\n",
            "2\n",
            "3\n",
            "4\n",
            "5\n",
            "6\n",
            "7\n",
            "8\n"
          ]
        }
      ]
    },
    {
      "cell_type": "code",
      "source": [
        "tupl=('apl','banana','kwi','cherry')\n",
        "for i in range(len(tupl)):\n",
        "  print(tupl[i])\n"
      ],
      "metadata": {
        "colab": {
          "base_uri": "https://localhost:8080/"
        },
        "id": "fdnvKLu1sbOv",
        "outputId": "306963c7-249c-4490-db59-453da5b509f3"
      },
      "execution_count": null,
      "outputs": [
        {
          "output_type": "stream",
          "name": "stdout",
          "text": [
            "apl\n",
            "banana\n",
            "kwi\n",
            "cherry\n"
          ]
        }
      ]
    },
    {
      "cell_type": "code",
      "source": [
        "for i in range(len(tupl)):\n",
        " print(i)"
      ],
      "metadata": {
        "colab": {
          "base_uri": "https://localhost:8080/"
        },
        "id": "x9F5jpsutpsz",
        "outputId": "c9155996-b9df-4cb7-a721-ac738d483677"
      },
      "execution_count": null,
      "outputs": [
        {
          "output_type": "stream",
          "name": "stdout",
          "text": [
            "0\n",
            "1\n",
            "2\n",
            "3\n"
          ]
        }
      ]
    },
    {
      "cell_type": "markdown",
      "source": [
        "Using while loop"
      ],
      "metadata": {
        "id": "aOM5q0mi8OE-"
      }
    },
    {
      "cell_type": "code",
      "source": [
        "i=0\n",
        "while i < len(tupl):\n",
        "  print(tupl[i])\n",
        "  i +=1"
      ],
      "metadata": {
        "id": "sbUD3fZetyEt",
        "colab": {
          "base_uri": "https://localhost:8080/"
        },
        "outputId": "26d7ac48-1a25-4846-dbf0-8bab00a72e77"
      },
      "execution_count": null,
      "outputs": [
        {
          "output_type": "stream",
          "name": "stdout",
          "text": [
            "apl\n",
            "banana\n",
            "kwi\n",
            "cherry\n"
          ]
        }
      ]
    },
    {
      "cell_type": "markdown",
      "source": [
        "joining tuples\n"
      ],
      "metadata": {
        "id": "1mBzv8Ik5wrz"
      }
    },
    {
      "cell_type": "code",
      "source": [
        "tupl1=(1,2,3,'hello')\n",
        "tuple2=(1,23,4,7)\n",
        "result=tupl1+tuple2\n",
        "print(result)"
      ],
      "metadata": {
        "id": "p_Rct8_H5lv5",
        "colab": {
          "base_uri": "https://localhost:8080/"
        },
        "outputId": "7ddd5664-603f-4175-af2d-9c5b89d5835b"
      },
      "execution_count": null,
      "outputs": [
        {
          "output_type": "stream",
          "name": "stdout",
          "text": [
            "(1, 2, 3, 'hello', 1, 23, 4, 7)\n"
          ]
        }
      ]
    },
    {
      "cell_type": "markdown",
      "source": [],
      "metadata": {
        "id": "rstL2M6l88SP"
      }
    }
  ]
}