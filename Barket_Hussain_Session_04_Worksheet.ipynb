{
  "nbformat": 4,
  "nbformat_minor": 0,
  "metadata": {
    "colab": {
      "provenance": [],
      "include_colab_link": true
    },
    "kernelspec": {
      "name": "python3",
      "display_name": "Python 3"
    },
    "language_info": {
      "name": "python"
    }
  },
  "cells": [
    {
      "cell_type": "markdown",
      "metadata": {
        "id": "view-in-github",
        "colab_type": "text"
      },
      "source": [
        "<a href=\"https://colab.research.google.com/github/Barketalii/Python/blob/main/Barket_Hussain_Session_04_Worksheet.ipynb\" target=\"_parent\"><img src=\"https://colab.research.google.com/assets/colab-badge.svg\" alt=\"Open In Colab\"/></a>"
      ]
    },
    {
      "cell_type": "markdown",
      "source": [
        "**Q1)** Predict the output of following code snippets:-\n",
        "\n",
        "* (24-3)//3 == 7\n",
        "\n",
        "* ((9**2)+10)/13 == 7\n",
        "\n",
        "* ((4%2)+9**2) == 81"
      ],
      "metadata": {
        "id": "0YlXkGMZ7ljQ"
      }
    },
    {
      "cell_type": "code",
      "source": [
        "# Your predictions go here:-\n",
        "\n",
        "x=(24-3)//3 == 7\n",
        "\n",
        "x=((9**2)+10)/13 == 7\n",
        "\n",
        "x=((4%2)+9**2) == 81\n",
        "x"
      ],
      "metadata": {
        "id": "tiywUPlW7_zs",
        "colab": {
          "base_uri": "https://localhost:8080/"
        },
        "outputId": "d4e6e4df-3644-499f-dc98-5f84dd95e4f2"
      },
      "execution_count": null,
      "outputs": [
        {
          "output_type": "execute_result",
          "data": {
            "text/plain": [
              "True"
            ]
          },
          "metadata": {},
          "execution_count": 2
        }
      ]
    },
    {
      "cell_type": "markdown",
      "source": [
        "**Q2)** Initialize a list named my_list and store all the data types you studied till now in it. At last add your name to my_list."
      ],
      "metadata": {
        "id": "3SeUJzlR8md9"
      }
    },
    {
      "cell_type": "code",
      "source": [
        "# Your code goes here\n",
        "my_list=[1,2,3,4,7]\n",
        "#my_list\n",
        "#my_list[1]\n",
        "#my_list.append(8)\n",
        "#my_list.pop(4)\n",
        "my_list.index(3)\n",
        "my_list\n",
        "#print(my_list,type(my_list))"
      ],
      "metadata": {
        "id": "yLC1z_pU8kca",
        "colab": {
          "base_uri": "https://localhost:8080/"
        },
        "outputId": "3f489a92-d2d7-427a-a21d-d5d81fd26bdd"
      },
      "execution_count": null,
      "outputs": [
        {
          "output_type": "execute_result",
          "data": {
            "text/plain": [
              "[1, 2, 3, 4, 7]"
            ]
          },
          "metadata": {},
          "execution_count": 19
        }
      ]
    },
    {
      "cell_type": "code",
      "source": [
        "list2=[5,4,4,4,4]\n",
        "list2+my_list"
      ],
      "metadata": {
        "colab": {
          "base_uri": "https://localhost:8080/"
        },
        "id": "6AmkRBw2jlJ5",
        "outputId": "17ce8115-6825-4835-e255-faed7a0fd43f"
      },
      "execution_count": null,
      "outputs": [
        {
          "output_type": "execute_result",
          "data": {
            "text/plain": [
              "[5, 4, 4, 4, 4, 1, 2, 3, 4, 7]"
            ]
          },
          "metadata": {},
          "execution_count": 20
        }
      ]
    },
    {
      "cell_type": "markdown",
      "source": [
        "**Q3)** Create a dictionary containing your name, age and qualification in the form of key value pairs."
      ],
      "metadata": {
        "id": "sC1lIOYA9AOt"
      }
    },
    {
      "cell_type": "code",
      "source": [
        "# Your code goes here\n",
        "my_dict={\"name\":\"barket\",\"age\":21,\"qualification\":\"b.tech\"}\n",
        "my_dict"
      ],
      "metadata": {
        "id": "XfpxYKLf89Ev",
        "colab": {
          "base_uri": "https://localhost:8080/"
        },
        "outputId": "c312f8f0-8ce8-42ba-9199-207253e0b45a"
      },
      "execution_count": null,
      "outputs": [
        {
          "output_type": "execute_result",
          "data": {
            "text/plain": [
              "{'name': 'barket', 'age': 21, 'qualification': 'b.tech'}"
            ]
          },
          "metadata": {},
          "execution_count": 21
        }
      ]
    },
    {
      "cell_type": "markdown",
      "source": [
        "**Q4)** Initialize two sets in such a way that their intersection is a null set. Find the union, intersection and difference of the seets."
      ],
      "metadata": {
        "id": "vjr1Ck9M9MBy"
      }
    },
    {
      "cell_type": "code",
      "source": [
        "# Your code goes here\n",
        "set1={1,2,3,4,5,7}\n",
        "set2={3,2,4,6,7,6}\n",
        "set3=set1.union(set2)\n",
        "set3"
      ],
      "metadata": {
        "id": "5e135Xw_9cn4",
        "colab": {
          "base_uri": "https://localhost:8080/"
        },
        "outputId": "df8313a9-487d-4d96-c042-204071aee9a3"
      },
      "execution_count": null,
      "outputs": [
        {
          "output_type": "execute_result",
          "data": {
            "text/plain": [
              "{1, 2, 3, 4, 5, 6, 7}"
            ]
          },
          "metadata": {},
          "execution_count": 55
        }
      ]
    },
    {
      "cell_type": "code",
      "source": [
        "set1={2,3,4,7}\n",
        "set2={1,8,5,6}\n",
        "set3=set1.intersection(set2)\n",
        "set3\n"
      ],
      "metadata": {
        "colab": {
          "base_uri": "https://localhost:8080/"
        },
        "id": "B1snroAk4SrN",
        "outputId": "33eeca48-0595-461a-8ff4-bb1a90fd988c"
      },
      "execution_count": null,
      "outputs": [
        {
          "output_type": "execute_result",
          "data": {
            "text/plain": [
              "set()"
            ]
          },
          "metadata": {},
          "execution_count": 62
        }
      ]
    },
    {
      "cell_type": "code",
      "source": [
        "set1={1,2,3,4,5,7}\n",
        "set2={3,2,4,6,7,6}\n",
        "set3=set1.difference(set2)\n",
        "set3"
      ],
      "metadata": {
        "colab": {
          "base_uri": "https://localhost:8080/"
        },
        "id": "yZw5Dw124kXb",
        "outputId": "1b5eeb77-51f2-49d8-ec89-5fa8a475fbe3"
      },
      "execution_count": null,
      "outputs": [
        {
          "output_type": "execute_result",
          "data": {
            "text/plain": [
              "{1, 5}"
            ]
          },
          "metadata": {},
          "execution_count": 57
        }
      ]
    },
    {
      "cell_type": "markdown",
      "source": [
        "**Q5)** Create a variable named \"password\" and store a password in it in the form of string. Using if else statements output to the console following:\n",
        "\n",
        "* \"Your Password Is Secure\" if the length of your password is greater than 10\n",
        "\n",
        "* \"Your Password Needs Modification\" if the length of of your password is greater than equal to 8 and less than equal to 10\n",
        "\n",
        "* \"Your Password Is Insecure\" if the length of your password is less than 8"
      ],
      "metadata": {
        "id": "U-mql_SZ9djF"
      }
    },
    {
      "cell_type": "code",
      "source": [
        "# Your code goes here\n",
        "password=(\"barket\")\n",
        "if len(password)>6:\n",
        "  print(\"password is secure\")\n",
        "else:\n",
        "  print(\"the password needs modification\")\n",
        "  if len(password)==6:\n",
        "    print(\"the password is insecure\")\n",
        "\n"
      ],
      "metadata": {
        "id": "LobNmF1y-VWV",
        "colab": {
          "base_uri": "https://localhost:8080/"
        },
        "outputId": "41ac2782-06eb-4926-cb7f-e8567adce483"
      },
      "execution_count": null,
      "outputs": [
        {
          "output_type": "stream",
          "name": "stdout",
          "text": [
            "the password needs modification\n",
            "the password is insecure\n"
          ]
        }
      ]
    },
    {
      "cell_type": "markdown",
      "source": [
        "**Q6)** Initialize a list containing 10 fruits. Output to the console a new list containing alternate fruits from the list."
      ],
      "metadata": {
        "id": "jIbnjk4j-Vzw"
      }
    },
    {
      "cell_type": "code",
      "source": [
        "# Your code goes here\n",
        "my_list=[\"apple\",\"mango\",\"banana\",\"custerd\",'kivi',\"pomogrenate\",\"pear\",\"orange\"]\n",
        "my_list[::2]"
      ],
      "metadata": {
        "id": "XrUle_Nd-t71",
        "colab": {
          "base_uri": "https://localhost:8080/"
        },
        "outputId": "72b8c486-89fa-44a5-c86f-fc4e8f143e9d"
      },
      "execution_count": null,
      "outputs": [
        {
          "output_type": "execute_result",
          "data": {
            "text/plain": [
              "['apple', 'banana', 'kivi', 'pear']"
            ]
          },
          "metadata": {},
          "execution_count": 49
        }
      ]
    },
    {
      "cell_type": "markdown",
      "source": [
        "**Q7)** my_homework=[\"I am sorry\"]\n",
        "\n",
        "Initialize the above list. Repeat the element in it 20 times."
      ],
      "metadata": {
        "id": "itP4cEa5-6ZG"
      }
    },
    {
      "cell_type": "code",
      "source": [
        "# Your code goes here\n",
        "my_homework=[\"I am sorry\"]\n",
        "for my_homework in range(20):\n",
        "  print(my_list)"
      ],
      "metadata": {
        "id": "vNbUjbRV_W26",
        "colab": {
          "base_uri": "https://localhost:8080/"
        },
        "outputId": "16994554-733f-45f0-8e85-5c2a7f2d67ec"
      },
      "execution_count": null,
      "outputs": [
        {
          "output_type": "stream",
          "name": "stdout",
          "text": [
            "[1, 2, 3, 4, 7]\n",
            "[1, 2, 3, 4, 7]\n",
            "[1, 2, 3, 4, 7]\n",
            "[1, 2, 3, 4, 7]\n",
            "[1, 2, 3, 4, 7]\n",
            "[1, 2, 3, 4, 7]\n",
            "[1, 2, 3, 4, 7]\n",
            "[1, 2, 3, 4, 7]\n",
            "[1, 2, 3, 4, 7]\n",
            "[1, 2, 3, 4, 7]\n",
            "[1, 2, 3, 4, 7]\n",
            "[1, 2, 3, 4, 7]\n",
            "[1, 2, 3, 4, 7]\n",
            "[1, 2, 3, 4, 7]\n",
            "[1, 2, 3, 4, 7]\n",
            "[1, 2, 3, 4, 7]\n",
            "[1, 2, 3, 4, 7]\n",
            "[1, 2, 3, 4, 7]\n",
            "[1, 2, 3, 4, 7]\n",
            "[1, 2, 3, 4, 7]\n"
          ]
        }
      ]
    },
    {
      "cell_type": "markdown",
      "source": [
        "**Q8)** Create a tuple containing name of few students. Now add a student \"John\" to it.\n",
        "\n",
        "Are you able to do so ? If No, Why ?"
      ],
      "metadata": {
        "id": "yhRcOiOxAP6h"
      }
    },
    {
      "cell_type": "code",
      "source": [
        "# Your answer goes here\n",
        "names=(\"barket\",\"ali\",\"teli\")\n",
        "names\n",
        "#no we can't as tuple is not mutable"
      ],
      "metadata": {
        "id": "ROipMfWFAXJV",
        "colab": {
          "base_uri": "https://localhost:8080/"
        },
        "outputId": "0e299d7d-eb0a-41fa-97d4-2acb94e039cd"
      },
      "execution_count": null,
      "outputs": [
        {
          "output_type": "execute_result",
          "data": {
            "text/plain": [
              "('barket', 'ali', 'teli')"
            ]
          },
          "metadata": {},
          "execution_count": 45
        }
      ]
    },
    {
      "cell_type": "markdown",
      "source": [
        "**Q9)** Create a dictionary my_dict={\"John\":\"Graduate\",\"Charlie\":\"Graduate\",\"Harry\":\"Post-Graduate\",\"Bob\":\"Doctrate\"}.\n",
        "\n",
        "Check using boolean operators if \"Bob\",\"Dolly\",\"Robin\" are in my_dict or not."
      ],
      "metadata": {
        "id": "sjG2E72T_XYj"
      }
    },
    {
      "cell_type": "code",
      "source": [
        "from ast import Is\n",
        "# Your code goes here\n",
        "my_dict={\"jhon\":\"graduate\",\"charlie\":\"graduate\",\"harry\":\"post-graduate\",\"bob\":\"docter\"}\n",
        "#print(Is 'bob' present in my_dict? )\n",
        "is_bob_present = \"Bob\" in my_dict\n",
        "is_dolly_present = \"Dolly\" in my_dict\n",
        "is_robin_present = \"Robin\" in my_dict\n",
        "print(f\"Is 'Bob' in my_dict? {is_bob_present}\")\n",
        "print(f\"Is 'Dolly' in my_dict? {is_dolly_present}\")\n",
        "print(f\"Is 'Robin' in my_dict? {is_robin_present}\")\n"
      ],
      "metadata": {
        "id": "pZ2N40AVBCG2",
        "colab": {
          "base_uri": "https://localhost:8080/"
        },
        "outputId": "74be6949-8b27-4648-8853-47afb621481c"
      },
      "execution_count": null,
      "outputs": [
        {
          "output_type": "stream",
          "name": "stdout",
          "text": [
            "Is 'Bob' in my_dict? False\n",
            "Is 'Dolly' in my_dict? False\n",
            "Is 'Robin' in my_dict? False\n"
          ]
        }
      ]
    },
    {
      "cell_type": "markdown",
      "source": [
        "**Q10)** Using if-else statements write a mini-program to check if a number is even or odd"
      ],
      "metadata": {
        "id": "X3hEVFSfBCl8"
      }
    },
    {
      "cell_type": "code",
      "source": [
        "number = int(input(\"Enter a number: \"))\n",
        "\n",
        "# Check if the number is even or odd\n",
        "if number % 2 == 0:\n",
        "    print(f\"{number} is an even number.\")\n",
        "else:\n",
        "    print(f\"{number} is an odd number.\")\n"
      ],
      "metadata": {
        "id": "oXoBGT6_BCWg",
        "colab": {
          "base_uri": "https://localhost:8080/"
        },
        "outputId": "ea354f8c-8e36-4fdd-9469-0ebcafb385b7"
      },
      "execution_count": 32,
      "outputs": [
        {
          "output_type": "stream",
          "name": "stdout",
          "text": [
            "Enter a number: 5\n",
            "5 is an odd number.\n"
          ]
        }
      ]
    },
    {
      "cell_type": "code",
      "source": [
        "num=int(input(\"enter the number\"))\n",
        "if num % 2 == 0:\n",
        "  print(\"it is even\")\n",
        "else:\n",
        "  print(\"it is odd\")"
      ],
      "metadata": {
        "colab": {
          "base_uri": "https://localhost:8080/"
        },
        "id": "C-59dQ8md4XD",
        "outputId": "df6b3349-6c06-460f-ca20-809049f0b9f6"
      },
      "execution_count": 7,
      "outputs": [
        {
          "output_type": "stream",
          "name": "stdout",
          "text": [
            "enter the number5\n",
            "it is odd\n"
          ]
        }
      ]
    },
    {
      "cell_type": "code",
      "source": [
        "num=int(input(\"enter the input\"))\n",
        "match num % 2:\n",
        "    case 0:\n",
        "      print(\"Even\")\n",
        "    case 1:\n",
        "        print(\"odd\")"
      ],
      "metadata": {
        "colab": {
          "base_uri": "https://localhost:8080/"
        },
        "id": "1sc3UvBmgSQu",
        "outputId": "6c39be0e-3823-485d-f435-05d3929550d1"
      },
      "execution_count": 9,
      "outputs": [
        {
          "output_type": "stream",
          "name": "stdout",
          "text": [
            "enter the input5\n",
            "odd\n"
          ]
        }
      ]
    },
    {
      "cell_type": "code",
      "source": [
        "lst=[1,2,3,4,5]"
      ],
      "metadata": {
        "id": "ARki0XH2r2e3"
      },
      "execution_count": 26,
      "outputs": []
    },
    {
      "cell_type": "code",
      "source": [
        "lst.append(6)\n",
        "print(lst)"
      ],
      "metadata": {
        "colab": {
          "base_uri": "https://localhost:8080/"
        },
        "id": "uIoEk2Fhr2S0",
        "outputId": "d7e6298f-0c9a-474e-d79c-609abe57816b"
      },
      "execution_count": 27,
      "outputs": [
        {
          "output_type": "stream",
          "name": "stdout",
          "text": [
            "[1, 2, 3, 4, 5, 6]\n"
          ]
        }
      ]
    },
    {
      "cell_type": "code",
      "source": [
        "lst.insert(3,30)\n",
        "print(lst)"
      ],
      "metadata": {
        "colab": {
          "base_uri": "https://localhost:8080/"
        },
        "id": "GwBIWZMZta_o",
        "outputId": "93e21fde-e58d-40df-90a3-e6dba6ae662b"
      },
      "execution_count": 28,
      "outputs": [
        {
          "output_type": "stream",
          "name": "stdout",
          "text": [
            "[1, 2, 3, 30, 4, 5, 6]\n"
          ]
        }
      ]
    },
    {
      "cell_type": "code",
      "source": [
        "lst[0:3]"
      ],
      "metadata": {
        "colab": {
          "base_uri": "https://localhost:8080/"
        },
        "id": "Z0PHThF4uU6B",
        "outputId": "265e6ff0-03c2-4d37-f6ff-78c188c6ea44"
      },
      "execution_count": 31,
      "outputs": [
        {
          "output_type": "execute_result",
          "data": {
            "text/plain": [
              "[1, 2, 3]"
            ]
          },
          "metadata": {},
          "execution_count": 31
        }
      ]
    },
    {
      "cell_type": "code",
      "source": [
        "import random as rand\n",
        "print(rand.randint(0,6))\n"
      ],
      "metadata": {
        "colab": {
          "base_uri": "https://localhost:8080/"
        },
        "id": "Wc-LFNmtxGxx",
        "outputId": "77a431fd-0f20-447f-dce6-af734dbf96fc"
      },
      "execution_count": 54,
      "outputs": [
        {
          "output_type": "stream",
          "name": "stdout",
          "text": [
            "1\n"
          ]
        }
      ]
    },
    {
      "cell_type": "code",
      "source": [
        "print(\"rolling a dice 10 time\")\n",
        "for i in range(10):\n",
        "  roll=rand.randint(1,6)\n",
        "  print(f\"roll {i+1}:{roll}\")"
      ],
      "metadata": {
        "colab": {
          "base_uri": "https://localhost:8080/"
        },
        "id": "KXn0O5TBxJTq",
        "outputId": "e21c3a6d-5ece-4107-ce4f-cfa904805491"
      },
      "execution_count": 53,
      "outputs": [
        {
          "output_type": "stream",
          "name": "stdout",
          "text": [
            "rolling a dice 10 time\n",
            "roll 1:4\n",
            "roll 2:1\n",
            "roll 3:6\n",
            "roll 4:5\n",
            "roll 5:1\n",
            "roll 6:6\n",
            "roll 7:5\n",
            "roll 8:5\n",
            "roll 9:1\n",
            "roll 10:5\n"
          ]
        }
      ]
    },
    {
      "cell_type": "code",
      "source": [
        "rolls=[rand.randint(1,6) for _ in range(10)]\n",
        "print(\"Dice rolls :\",rolls)"
      ],
      "metadata": {
        "colab": {
          "base_uri": "https://localhost:8080/"
        },
        "id": "Lo9XNrC2PBHA",
        "outputId": "a6dcb293-9f53-4ccf-bfb4-dbec9f50defb"
      },
      "execution_count": 58,
      "outputs": [
        {
          "output_type": "stream",
          "name": "stdout",
          "text": [
            "Dice rolls : [2, 1, 4, 5, 5, 6, 4, 6, 2, 2]\n"
          ]
        }
      ]
    },
    {
      "cell_type": "code",
      "source": [
        "import random"
      ],
      "metadata": {
        "id": "Qv6YsD5xQx7X"
      },
      "execution_count": 64,
      "outputs": []
    },
    {
      "cell_type": "code",
      "source": [
        "\n",
        "rolls=[]\n",
        "count=0\n",
        "while count <10:\n",
        "  rolls.append(random.randint(1,6))\n",
        "  count +=1\n",
        "  print(\"dice rolls :\",rolls)"
      ],
      "metadata": {
        "colab": {
          "base_uri": "https://localhost:8080/"
        },
        "id": "vxcmeqCBP774",
        "outputId": "2f7581f0-1870-4179-ddb6-fdfd27a30520"
      },
      "execution_count": 67,
      "outputs": [
        {
          "output_type": "stream",
          "name": "stdout",
          "text": [
            "dice rolls : [6]\n",
            "dice rolls : [6, 6]\n",
            "dice rolls : [6, 6, 5]\n",
            "dice rolls : [6, 6, 5, 4]\n",
            "dice rolls : [6, 6, 5, 4, 2]\n",
            "dice rolls : [6, 6, 5, 4, 2, 4]\n",
            "dice rolls : [6, 6, 5, 4, 2, 4, 6]\n",
            "dice rolls : [6, 6, 5, 4, 2, 4, 6, 2]\n",
            "dice rolls : [6, 6, 5, 4, 2, 4, 6, 2, 1]\n",
            "dice rolls : [6, 6, 5, 4, 2, 4, 6, 2, 1, 5]\n"
          ]
        }
      ]
    },
    {
      "cell_type": "code",
      "source": [],
      "metadata": {
        "id": "2VVvDBTBP-OZ"
      },
      "execution_count": null,
      "outputs": []
    },
    {
      "cell_type": "code",
      "source": [
        "from collections import Counter"
      ],
      "metadata": {
        "id": "JaDzYyYYSL6L"
      },
      "execution_count": 69,
      "outputs": []
    },
    {
      "cell_type": "code",
      "source": [
        "text=\"data science is fun and data is powerfull\"\n",
        "word=text.split()\n",
        "count=Counter(word)\n",
        "count=Counter(text.replace(\"\",\"\"))\n",
        "print(count)"
      ],
      "metadata": {
        "colab": {
          "base_uri": "https://localhost:8080/"
        },
        "id": "YBLUlzwoSPP-",
        "outputId": "442c04de-1fa5-4ac2-a635-3d8d07175009"
      },
      "execution_count": 78,
      "outputs": [
        {
          "output_type": "stream",
          "name": "stdout",
          "text": [
            "Counter({' ': 7, 'a': 5, 'd': 3, 's': 3, 'i': 3, 'e': 3, 'n': 3, 't': 2, 'c': 2, 'f': 2, 'u': 2, 'l': 2, 'p': 1, 'o': 1, 'w': 1, 'r': 1})\n"
          ]
        }
      ]
    },
    {
      "cell_type": "code",
      "source": [
        "for ch in text:\n",
        "  print(ch)"
      ],
      "metadata": {
        "colab": {
          "base_uri": "https://localhost:8080/"
        },
        "id": "N0BHvgzGSzci",
        "outputId": "48d6aaa0-5a14-48ee-911d-e334b9bb5a10"
      },
      "execution_count": 74,
      "outputs": [
        {
          "output_type": "stream",
          "name": "stdout",
          "text": [
            "d\n",
            "a\n",
            "t\n",
            "a\n",
            " \n",
            "s\n",
            "c\n",
            "i\n",
            "e\n",
            "n\n",
            "c\n",
            "e\n",
            " \n",
            "i\n",
            "s\n",
            " \n",
            "f\n",
            "u\n",
            "n\n",
            " \n",
            "a\n",
            "n\n",
            "d\n",
            " \n",
            "d\n",
            "a\n",
            "t\n",
            "a\n",
            " \n",
            "i\n",
            "s\n",
            " \n",
            "p\n",
            "o\n",
            "w\n",
            "e\n",
            "r\n",
            "f\n",
            "u\n",
            "l\n",
            "l\n"
          ]
        }
      ]
    },
    {
      "cell_type": "code",
      "source": [
        "str=\"hello\"\n",
        "str[::-1]"
      ],
      "metadata": {
        "colab": {
          "base_uri": "https://localhost:8080/",
          "height": 35
        },
        "id": "xyq4owTXUqQv",
        "outputId": "e7f20483-3569-423e-9546-982ff83a8671"
      },
      "execution_count": 87,
      "outputs": [
        {
          "output_type": "execute_result",
          "data": {
            "text/plain": [
              "'olleh'"
            ],
            "application/vnd.google.colaboratory.intrinsic+json": {
              "type": "string"
            }
          },
          "metadata": {},
          "execution_count": 87
        }
      ]
    },
    {
      "cell_type": "code",
      "source": [
        "def is_palindrome(word):\n",
        "    word = word.lower()\n",
        "    i, j = 0, len(word) - 1\n",
        "\n",
        "    while i < j:\n",
        "        if word[i] != word[j]:\n",
        "            return False\n",
        "        i += 1\n",
        "        j -= 1\n",
        "    return True\n",
        "print(is_palindrome(\"madam\"))"
      ],
      "metadata": {
        "colab": {
          "base_uri": "https://localhost:8080/"
        },
        "id": "cY1cnbMWVx-_",
        "outputId": "27fe6c71-80df-48b5-bdcb-8d052fd12189"
      },
      "execution_count": 86,
      "outputs": [
        {
          "output_type": "stream",
          "name": "stdout",
          "text": [
            "True\n"
          ]
        }
      ]
    }
  ]
}