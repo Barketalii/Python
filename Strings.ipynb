{
  "nbformat": 4,
  "nbformat_minor": 0,
  "metadata": {
    "colab": {
      "provenance": [],
      "authorship_tag": "ABX9TyO8EyQ2NdqOxUzsUC4xpXD/",
      "include_colab_link": true
    },
    "kernelspec": {
      "name": "python3",
      "display_name": "Python 3"
    },
    "language_info": {
      "name": "python"
    }
  },
  "cells": [
    {
      "cell_type": "markdown",
      "metadata": {
        "id": "view-in-github",
        "colab_type": "text"
      },
      "source": [
        "<a href=\"https://colab.research.google.com/github/Barketalii/Python/blob/main/Strings.ipynb\" target=\"_parent\"><img src=\"https://colab.research.google.com/assets/colab-badge.svg\" alt=\"Open In Colab\"/></a>"
      ]
    },
    {
      "cell_type": "markdown",
      "source": [
        "** Strings**:sequence of characters which may consist of letters,numbers,blanks,punctuation and special symbols enclosed within a single or doubke quotes the python string type is denoted by str()"
      ],
      "metadata": {
        "id": "5BX50yFDk_ar"
      }
    },
    {
      "cell_type": "code",
      "execution_count": 3,
      "metadata": {
        "colab": {
          "base_uri": "https://localhost:8080/",
          "height": 35
        },
        "id": "RMaIn5X8k1BI",
        "outputId": "e6ba56f8-2fae-41f4-aad3-e0e48740f7ff"
      },
      "outputs": [
        {
          "output_type": "execute_result",
          "data": {
            "text/plain": [
              "'hello'"
            ],
            "application/vnd.google.colaboratory.intrinsic+json": {
              "type": "string"
            }
          },
          "metadata": {},
          "execution_count": 3
        }
      ],
      "source": [
        "str1='hello'\n",
        "str1"
      ]
    },
    {
      "cell_type": "code",
      "source": [
        "type(str1)"
      ],
      "metadata": {
        "colab": {
          "base_uri": "https://localhost:8080/"
        },
        "id": "m_pzZNdolxDF",
        "outputId": "b61f5afe-e4a9-412a-8944-d99cf8994fa9"
      },
      "execution_count": 4,
      "outputs": [
        {
          "output_type": "execute_result",
          "data": {
            "text/plain": [
              "str"
            ]
          },
          "metadata": {},
          "execution_count": 4
        }
      ]
    },
    {
      "cell_type": "code",
      "source": [
        "multiline=\"\"\"hello this is multiline\"\"\"\n",
        "multiline"
      ],
      "metadata": {
        "colab": {
          "base_uri": "https://localhost:8080/",
          "height": 35
        },
        "id": "qNL0JjWulzem",
        "outputId": "d495703d-2c21-43e1-e791-849bb589392b"
      },
      "execution_count": 6,
      "outputs": [
        {
          "output_type": "execute_result",
          "data": {
            "text/plain": [
              "'hello this is multiline'"
            ],
            "application/vnd.google.colaboratory.intrinsic+json": {
              "type": "string"
            }
          },
          "metadata": {},
          "execution_count": 6
        }
      ]
    },
    {
      "cell_type": "markdown",
      "source": [
        "**string** **concatination**"
      ],
      "metadata": {
        "id": "Uwjt-2FcmTNR"
      }
    },
    {
      "cell_type": "code",
      "source": [
        "str1=\"hello\"\n",
        "str2=\"world\"\n",
        "result=str1 +\" \"+ str2\n",
        "result"
      ],
      "metadata": {
        "colab": {
          "base_uri": "https://localhost:8080/",
          "height": 35
        },
        "id": "JM3wjmmwmJ6e",
        "outputId": "a3e5b9c9-4b6d-4f04-e8ed-bd1b6cfb14a2"
      },
      "execution_count": 17,
      "outputs": [
        {
          "output_type": "execute_result",
          "data": {
            "text/plain": [
              "'hello world'"
            ],
            "application/vnd.google.colaboratory.intrinsic+json": {
              "type": "string"
            }
          },
          "metadata": {},
          "execution_count": 17
        }
      ]
    },
    {
      "cell_type": "code",
      "source": [
        "print(str1+str2)"
      ],
      "metadata": {
        "colab": {
          "base_uri": "https://localhost:8080/"
        },
        "id": "tblzVszGnFBI",
        "outputId": "3a7e03b2-31df-4c09-c2db-6da8d86ef53c"
      },
      "execution_count": 21,
      "outputs": [
        {
          "output_type": "stream",
          "name": "stdout",
          "text": [
            "helloworld\n"
          ]
        }
      ]
    },
    {
      "cell_type": "code",
      "source": [
        "print(str1,str2)"
      ],
      "metadata": {
        "colab": {
          "base_uri": "https://localhost:8080/"
        },
        "id": "GLSskQWZnYSX",
        "outputId": "bebd7b7b-8a86-4450-823a-df4c0d348590"
      },
      "execution_count": 22,
      "outputs": [
        {
          "output_type": "stream",
          "name": "stdout",
          "text": [
            "hello world\n"
          ]
        }
      ]
    },
    {
      "cell_type": "code",
      "source": [
        "print(str1,str2,sep=' ')"
      ],
      "metadata": {
        "colab": {
          "base_uri": "https://localhost:8080/"
        },
        "id": "CaLw1iUGnnpP",
        "outputId": "f27ff50c-8f68-4ad6-ad33-ce5412c18ebf"
      },
      "execution_count": 24,
      "outputs": [
        {
          "output_type": "stream",
          "name": "stdout",
          "text": [
            "hello world\n"
          ]
        }
      ]
    },
    {
      "cell_type": "code",
      "source": [
        "print(str1,str2,sep=',')"
      ],
      "metadata": {
        "colab": {
          "base_uri": "https://localhost:8080/"
        },
        "id": "UdQyHMg3nzOY",
        "outputId": "59041ef3-022e-4448-f8da-f2b6d81974f6"
      },
      "execution_count": 26,
      "outputs": [
        {
          "output_type": "stream",
          "name": "stdout",
          "text": [
            "hello,world\n"
          ]
        }
      ]
    },
    {
      "cell_type": "code",
      "source": [
        "print(str1,str2,sep=',',end=\"!\")"
      ],
      "metadata": {
        "colab": {
          "base_uri": "https://localhost:8080/"
        },
        "id": "LCckzlAHn6y_",
        "outputId": "06332bdf-fc46-4c17-9ff0-d11b442d1664"
      },
      "execution_count": 29,
      "outputs": [
        {
          "output_type": "stream",
          "name": "stdout",
          "text": [
            "hello,world!"
          ]
        }
      ]
    },
    {
      "cell_type": "markdown",
      "source": [
        "**String** **Replication**"
      ],
      "metadata": {
        "id": "aMAo-Ko_HMAX"
      }
    },
    {
      "cell_type": "code",
      "source": [
        "string1=\"hello\"\n",
        "string2='world'\n",
        "print(string1+' '+ string2)"
      ],
      "metadata": {
        "colab": {
          "base_uri": "https://localhost:8080/"
        },
        "id": "VK_lxuggHQm1",
        "outputId": "273ab2f0-7f36-4b74-cb4d-357bb16d9fd8"
      },
      "execution_count": 41,
      "outputs": [
        {
          "output_type": "stream",
          "name": "stdout",
          "text": [
            "hello world\n"
          ]
        }
      ]
    },
    {
      "cell_type": "markdown",
      "source": [
        "String Indexing: string is indexable and iterable"
      ],
      "metadata": {
        "id": "5ksp8C7nIwDz"
      }
    },
    {
      "cell_type": "code",
      "source": [
        "s=\"hello\"\n",
        "print(s[0])\n",
        "print(s[1])\n",
        "print(s[2])\n",
        "print(s[3])\n",
        "print(s[4])\n"
      ],
      "metadata": {
        "colab": {
          "base_uri": "https://localhost:8080/"
        },
        "id": "DB6s6DHhIuP3",
        "outputId": "14081169-4f1b-4b78-9ae3-8a0f0d6f7623"
      },
      "execution_count": 5,
      "outputs": [
        {
          "output_type": "stream",
          "name": "stdout",
          "text": [
            "h\n",
            "e\n",
            "l\n",
            "l\n",
            "o\n"
          ]
        }
      ]
    },
    {
      "cell_type": "markdown",
      "source": [
        "negative indexing"
      ],
      "metadata": {
        "id": "hyDg3Sl2rZJh"
      }
    },
    {
      "cell_type": "code",
      "source": [
        "print(s[-1])\n",
        "print(s[-2])\n",
        "print(s[-3])\n",
        "print(s[-4])"
      ],
      "metadata": {
        "colab": {
          "base_uri": "https://localhost:8080/"
        },
        "id": "HlpI6mT6JleU",
        "outputId": "841e00a2-b77f-4e1c-c182-a4da0e1c1102"
      },
      "execution_count": 6,
      "outputs": [
        {
          "output_type": "stream",
          "name": "stdout",
          "text": [
            "o\n",
            "l\n",
            "l\n",
            "e\n"
          ]
        }
      ]
    },
    {
      "cell_type": "markdown",
      "source": [
        "we can do operation from backword to forword on given string"
      ],
      "metadata": {
        "id": "xWwPMLKyrwS6"
      }
    },
    {
      "cell_type": "code",
      "source": [
        "neg=\"hello\"\n",
        "neg[-5:None]"
      ],
      "metadata": {
        "colab": {
          "base_uri": "https://localhost:8080/",
          "height": 35
        },
        "id": "cuwXHb-NTQl9",
        "outputId": "ac2d7e13-e4ce-4a04-ad0b-fcc1419c0f6c"
      },
      "execution_count": 31,
      "outputs": [
        {
          "output_type": "execute_result",
          "data": {
            "text/plain": [
              "'hello'"
            ],
            "application/vnd.google.colaboratory.intrinsic+json": {
              "type": "string"
            }
          },
          "metadata": {},
          "execution_count": 31
        }
      ]
    },
    {
      "cell_type": "code",
      "source": [
        "neg[:]"
      ],
      "metadata": {
        "colab": {
          "base_uri": "https://localhost:8080/",
          "height": 35
        },
        "id": "TWsfg_H7wtZy",
        "outputId": "2f0fc009-f69e-469c-c9a8-28332201c7ba"
      },
      "execution_count": 34,
      "outputs": [
        {
          "output_type": "execute_result",
          "data": {
            "text/plain": [
              "'hello'"
            ],
            "application/vnd.google.colaboratory.intrinsic+json": {
              "type": "string"
            }
          },
          "metadata": {},
          "execution_count": 34
        }
      ]
    },
    {
      "cell_type": "code",
      "source": [
        "neg[-5:]"
      ],
      "metadata": {
        "colab": {
          "base_uri": "https://localhost:8080/",
          "height": 35
        },
        "id": "bCmhu7KVwXUg",
        "outputId": "1dd7996c-cbbe-44ec-b0eb-63ad47cf81a4"
      },
      "execution_count": 32,
      "outputs": [
        {
          "output_type": "execute_result",
          "data": {
            "text/plain": [
              "'hello'"
            ],
            "application/vnd.google.colaboratory.intrinsic+json": {
              "type": "string"
            }
          },
          "metadata": {},
          "execution_count": 32
        }
      ]
    },
    {
      "cell_type": "code",
      "source": [
        "neg[-5:len(neg)]"
      ],
      "metadata": {
        "colab": {
          "base_uri": "https://localhost:8080/",
          "height": 35
        },
        "id": "bne2xH5uwd6k",
        "outputId": "ad31f725-11cf-4397-dc13-73dfaabd5b18"
      },
      "execution_count": 33,
      "outputs": [
        {
          "output_type": "execute_result",
          "data": {
            "text/plain": [
              "'hello'"
            ],
            "application/vnd.google.colaboratory.intrinsic+json": {
              "type": "string"
            }
          },
          "metadata": {},
          "execution_count": 33
        }
      ]
    },
    {
      "cell_type": "markdown",
      "source": [
        "to print all characters in string"
      ],
      "metadata": {
        "id": "3nM8AmPuwCV2"
      }
    },
    {
      "cell_type": "code",
      "source": [
        "neg[:5]"
      ],
      "metadata": {
        "colab": {
          "base_uri": "https://localhost:8080/",
          "height": 35
        },
        "id": "fzjev8gNwGw3",
        "outputId": "4b6fd1ce-0db4-4760-a9d0-989e09996744"
      },
      "execution_count": 28,
      "outputs": [
        {
          "output_type": "execute_result",
          "data": {
            "text/plain": [
              "'hello'"
            ],
            "application/vnd.google.colaboratory.intrinsic+json": {
              "type": "string"
            }
          },
          "metadata": {},
          "execution_count": 28
        }
      ]
    },
    {
      "cell_type": "markdown",
      "source": [
        "\n",
        "\n",
        "> **If start < end, use step=+1 (default).\n",
        "\n",
        "If start > end, use step=-1.**\n",
        "\n"
      ],
      "metadata": {
        "id": "FzdUXgmPvJ3q"
      }
    },
    {
      "cell_type": "markdown",
      "source": [
        "there are only fove characters in string but i am printing -6 becasue python is exclusive it pprints the character before it not the index u  are mentioning"
      ],
      "metadata": {
        "id": "Iik1Gv8fvQfU"
      }
    },
    {
      "cell_type": "code",
      "source": [
        "neg[-1:-6:-1]"
      ],
      "metadata": {
        "colab": {
          "base_uri": "https://localhost:8080/",
          "height": 35
        },
        "id": "B_7SIHsotEkU",
        "outputId": "bace0e93-0e7b-47ff-abe4-0caf1898a2cd"
      },
      "execution_count": 25,
      "outputs": [
        {
          "output_type": "execute_result",
          "data": {
            "text/plain": [
              "'olleh'"
            ],
            "application/vnd.google.colaboratory.intrinsic+json": {
              "type": "string"
            }
          },
          "metadata": {},
          "execution_count": 25
        }
      ]
    },
    {
      "cell_type": "markdown",
      "source": [
        "Membership in strings:if u want to check whether a substring is in string"
      ],
      "metadata": {
        "id": "Hx6CTF7uw_ko"
      }
    },
    {
      "cell_type": "code",
      "source": [
        "str1='if u stay positvie,good things and good people will be drawn to u'\n",
        "print('and' in str1)\n",
        "print('super' in str1)\n"
      ],
      "metadata": {
        "colab": {
          "base_uri": "https://localhost:8080/"
        },
        "id": "PVMHlZj8xCEH",
        "outputId": "d96aca96-0718-4a74-ca4e-641b1633db04"
      },
      "execution_count": 37,
      "outputs": [
        {
          "output_type": "stream",
          "name": "stdout",
          "text": [
            "True\n",
            "False\n"
          ]
        }
      ]
    },
    {
      "cell_type": "markdown",
      "source": [
        "Strings ae immutable: once written can  not be changed"
      ],
      "metadata": {
        "id": "WkcOO159x0tN"
      }
    },
    {
      "cell_type": "code",
      "source": [
        "s='banana'\n",
        "s[0]"
      ],
      "metadata": {
        "colab": {
          "base_uri": "https://localhost:8080/",
          "height": 35
        },
        "id": "r2WwLXBax63z",
        "outputId": "1c35a12b-fe40-4026-bb7f-a61749090d7e"
      },
      "execution_count": 38,
      "outputs": [
        {
          "output_type": "execute_result",
          "data": {
            "text/plain": [
              "'b'"
            ],
            "application/vnd.google.colaboratory.intrinsic+json": {
              "type": "string"
            }
          },
          "metadata": {},
          "execution_count": 38
        }
      ]
    },
    {
      "cell_type": "code",
      "source": [
        "s[0]='B'\n",
        "\n",
        "# it will give error since strings are imutable"
      ],
      "metadata": {
        "id": "_lQCJkugx_Pb"
      },
      "execution_count": 43,
      "outputs": []
    },
    {
      "cell_type": "markdown",
      "source": [
        "**String methods**\n",
        "since strings are immutable the methods return a modified copy of the string invoking the method rather than changing the orginal string"
      ],
      "metadata": {
        "id": "SXZ2oAf9A3Ic"
      }
    },
    {
      "cell_type": "markdown",
      "source": [
        "**Index method()** :return the lowest index in a string where a substring supplied as argument found"
      ],
      "metadata": {
        "id": "cgMhk-BbBaZB"
      }
    },
    {
      "cell_type": "code",
      "source": [
        "s='helllo my friend how are u doing i was thinking about u'\n",
        "print(s.index('my'))\n",
        "print(s.index('about'))"
      ],
      "metadata": {
        "colab": {
          "base_uri": "https://localhost:8080/"
        },
        "id": "23taq0aLAj4U",
        "outputId": "6911f367-8675-42eb-fe7b-987a86aab991"
      },
      "execution_count": 48,
      "outputs": [
        {
          "output_type": "stream",
          "name": "stdout",
          "text": [
            "7\n",
            "48\n"
          ]
        }
      ]
    },
    {
      "cell_type": "markdown",
      "source": [
        "The **Rindex() method**\n",
        "returns the highest index in a string where sub string sub is found such that sub is contained within s[start:end]the valueerror is raised when the substring is not found the syntax for using this method for a string is string.rindex(sub,start,end)"
      ],
      "metadata": {
        "id": "4NZ7x8dACrJW"
      }
    },
    {
      "cell_type": "code",
      "source": [
        "string='if u think  positve things will come to u'\n",
        "string.rindex('things')\n",
        "#string.index('u')"
      ],
      "metadata": {
        "colab": {
          "base_uri": "https://localhost:8080/"
        },
        "id": "X8CrKXxDCvr7",
        "outputId": "14f7fda1-63f3-4797-f171-b18dc70f9290"
      },
      "execution_count": 57,
      "outputs": [
        {
          "output_type": "execute_result",
          "data": {
            "text/plain": [
              "20"
            ]
          },
          "metadata": {},
          "execution_count": 57
        }
      ]
    },
    {
      "cell_type": "code",
      "source": [
        "string[0:30].rindex('u')"
      ],
      "metadata": {
        "colab": {
          "base_uri": "https://localhost:8080/"
        },
        "id": "KkCpuIdgEO-d",
        "outputId": "9d93ffa6-1578-4ed6-e55d-a981e72b1f10"
      },
      "execution_count": 54,
      "outputs": [
        {
          "output_type": "execute_result",
          "data": {
            "text/plain": [
              "3"
            ]
          },
          "metadata": {},
          "execution_count": 54
        }
      ]
    },
    {
      "cell_type": "markdown",
      "source": [
        "rfind() it returns the highest index in string where substring sub is found\n",
        "\n",
        "---\n",
        "\n"
      ],
      "metadata": {
        "id": "FONwOI-cDlvv"
      }
    },
    {
      "cell_type": "code",
      "source": [
        "string.rfind('u')\n",
        "#here u is at index 3 and 40 but it returns 40 because frind() gives the highest index of string"
      ],
      "metadata": {
        "colab": {
          "base_uri": "https://localhost:8080/"
        },
        "id": "patSVnFrFQ8q",
        "outputId": "9234dc68-e0d9-41e4-9a30-08d383ffeabc"
      },
      "execution_count": 58,
      "outputs": [
        {
          "output_type": "execute_result",
          "data": {
            "text/plain": [
              "40"
            ]
          },
          "metadata": {},
          "execution_count": 58
        }
      ]
    },
    {
      "cell_type": "markdown",
      "source": [
        "lower() returns copy of string converted to lower case"
      ],
      "metadata": {
        "id": "ZOGcgaUXF3em"
      }
    },
    {
      "cell_type": "code",
      "source": [
        "string=\"Hello How Are You\"\n",
        "string1=string.lower()\n",
        "print(string1)"
      ],
      "metadata": {
        "colab": {
          "base_uri": "https://localhost:8080/"
        },
        "id": "ClrQrvNxFW6g",
        "outputId": "6a067cce-77d2-4991-d0dd-b474d8ed7060"
      },
      "execution_count": 65,
      "outputs": [
        {
          "output_type": "stream",
          "name": "stdout",
          "text": [
            "hello how are you\n"
          ]
        }
      ]
    },
    {
      "cell_type": "markdown",
      "source": [
        "Upper() returns string copy to upper case"
      ],
      "metadata": {
        "id": "OA_DLKWIGsEb"
      }
    },
    {
      "cell_type": "code",
      "source": [
        "str1=\"hello how are u\"\n",
        "str1.upper()"
      ],
      "metadata": {
        "colab": {
          "base_uri": "https://localhost:8080/",
          "height": 35
        },
        "id": "U1XUnCxfGJ2w",
        "outputId": "886577e0-05a0-4be8-863c-379a58d92d21"
      },
      "execution_count": 66,
      "outputs": [
        {
          "output_type": "execute_result",
          "data": {
            "text/plain": [
              "'HELLO HOW ARE U'"
            ],
            "application/vnd.google.colaboratory.intrinsic+json": {
              "type": "string"
            }
          },
          "metadata": {},
          "execution_count": 66
        }
      ]
    },
    {
      "cell_type": "markdown",
      "source": [
        "swapcase() it returns copy in which upper case char is converted to lower and lower to upper"
      ],
      "metadata": {
        "id": "akoXbu0qHBW5"
      }
    },
    {
      "cell_type": "code",
      "source": [
        "s='Helllo How Are U Doing'\n",
        "s.swapcase()"
      ],
      "metadata": {
        "colab": {
          "base_uri": "https://localhost:8080/",
          "height": 35
        },
        "id": "uAzytLixHKQk",
        "outputId": "d790ed5b-eb66-4fc8-84df-24731648eadd"
      },
      "execution_count": 67,
      "outputs": [
        {
          "output_type": "execute_result",
          "data": {
            "text/plain": [
              "'hELLLO hOW aRE u dOING'"
            ],
            "application/vnd.google.colaboratory.intrinsic+json": {
              "type": "string"
            }
          },
          "metadata": {},
          "execution_count": 67
        }
      ]
    },
    {
      "cell_type": "markdown",
      "source": [
        "captalize() returns copy of  captalized string\n",
        "the difference between upper and captalize is that upper() captalize every char while as captalize() only does it with first charracter"
      ],
      "metadata": {
        "id": "y4T85U4kHUqD"
      }
    },
    {
      "cell_type": "code",
      "source": [
        "s='hello how are u'\n",
        "s.capitalize()"
      ],
      "metadata": {
        "colab": {
          "base_uri": "https://localhost:8080/",
          "height": 35
        },
        "id": "8F6R0ONHHcQ8",
        "outputId": "c2207e64-112d-4514-a834-11ad084daeb4"
      },
      "execution_count": 68,
      "outputs": [
        {
          "output_type": "execute_result",
          "data": {
            "text/plain": [
              "'Hello how are u'"
            ],
            "application/vnd.google.colaboratory.intrinsic+json": {
              "type": "string"
            }
          },
          "metadata": {},
          "execution_count": 68
        }
      ]
    },
    {
      "cell_type": "markdown",
      "source": [
        "Tittle() returns copy a title-cased each word starts with one uper case cahracter version of string."
      ],
      "metadata": {
        "id": "GlndAa3WH6yR"
      }
    },
    {
      "cell_type": "code",
      "source": [
        "s='stay positive in all cases that is best u can do for u and urself'\n",
        "s.title()"
      ],
      "metadata": {
        "colab": {
          "base_uri": "https://localhost:8080/",
          "height": 35
        },
        "id": "5bG_W9vKIPTH",
        "outputId": "cc2ecf64-66e2-4942-fb1a-d93386a7baff"
      },
      "execution_count": 69,
      "outputs": [
        {
          "output_type": "execute_result",
          "data": {
            "text/plain": [
              "'Stay Positive In All Cases That Is Best U Can Do For U And Urself'"
            ],
            "application/vnd.google.colaboratory.intrinsic+json": {
              "type": "string"
            }
          },
          "metadata": {},
          "execution_count": 69
        }
      ]
    },
    {
      "cell_type": "markdown",
      "source": [
        "Count() method: returns number of non overlaping occurance of substring in a substring where a substring applied as argument is found"
      ],
      "metadata": {
        "id": "3jcth3kKIe9R"
      }
    },
    {
      "cell_type": "code",
      "source": [
        "print(s.count('best'))\n",
        "print(s.count('u'))"
      ],
      "metadata": {
        "colab": {
          "base_uri": "https://localhost:8080/"
        },
        "id": "tcBxtNrJI1FP",
        "outputId": "7f2ac5da-c0f2-4c48-f899-93e8f5d13c44"
      },
      "execution_count": 76,
      "outputs": [
        {
          "output_type": "stream",
          "name": "stdout",
          "text": [
            "1\n",
            "3\n"
          ]
        }
      ]
    },
    {
      "cell_type": "markdown",
      "source": [
        "Replace() replaces old characters with new characters"
      ],
      "metadata": {
        "id": "CJF3QmOCSDz8"
      }
    },
    {
      "cell_type": "code",
      "source": [
        "str1=\"think positive because positive thinking attracts good\"\n",
        "str1.replace('good','good people')"
      ],
      "metadata": {
        "colab": {
          "base_uri": "https://localhost:8080/",
          "height": 35
        },
        "id": "Ny23Oj6uRuUr",
        "outputId": "410630e2-e7ca-49c2-a2ce-4c96c7598e9c"
      },
      "execution_count": 81,
      "outputs": [
        {
          "output_type": "execute_result",
          "data": {
            "text/plain": [
              "'think positive because positive thinking attracts good people'"
            ],
            "application/vnd.google.colaboratory.intrinsic+json": {
              "type": "string"
            }
          },
          "metadata": {},
          "execution_count": 81
        }
      ]
    },
    {
      "cell_type": "markdown",
      "source": [
        "maketrans() it returns a translation table usable for another related method str.translate()"
      ],
      "metadata": {
        "id": "z8C1bly3S2Jt"
      }
    },
    {
      "cell_type": "code",
      "source": [
        "table = str.maketrans(\"aeiou\", \"12345\")\n",
        "s = \"hello world\"\n",
        "print(s.translate(table))\n"
      ],
      "metadata": {
        "colab": {
          "base_uri": "https://localhost:8080/"
        },
        "id": "0LNdCXNnTE6c",
        "outputId": "4d3259a9-285b-4dac-8189-dd38bc574571"
      },
      "execution_count": 92,
      "outputs": [
        {
          "output_type": "stream",
          "name": "stdout",
          "text": [
            "h2ll4 w4rld\n"
          ]
        }
      ]
    },
    {
      "cell_type": "code",
      "source": [
        "st=str.maketrans(\"hello\",\"12345\")\n",
        "s=\"hello boys\"\n",
        "print(s.translate(st))\n"
      ],
      "metadata": {
        "colab": {
          "base_uri": "https://localhost:8080/"
        },
        "id": "ZRCZqrFqUl9A",
        "outputId": "ea57bbea-ef25-40b3-dd4a-c33c7f96ba5a"
      },
      "execution_count": 101,
      "outputs": [
        {
          "output_type": "stream",
          "name": "stdout",
          "text": [
            "12445 b5ys\n"
          ]
        }
      ]
    },
    {
      "cell_type": "markdown",
      "source": [
        "strip() method:\n",
        "returns a copy of string with leading and trialing whitespaces removed"
      ],
      "metadata": {
        "id": "Opci0JR0YLDS"
      }
    },
    {
      "cell_type": "code",
      "source": [
        "s=\"           hello\"\n",
        "print(s)"
      ],
      "metadata": {
        "colab": {
          "base_uri": "https://localhost:8080/"
        },
        "id": "E9OjmrXLYgQc",
        "outputId": "390e79a9-e052-4d13-8d0d-4e54e0b89559"
      },
      "execution_count": 102,
      "outputs": [
        {
          "output_type": "stream",
          "name": "stdout",
          "text": [
            "           hello\n"
          ]
        }
      ]
    },
    {
      "cell_type": "code",
      "source": [
        "s.strip()"
      ],
      "metadata": {
        "colab": {
          "base_uri": "https://localhost:8080/",
          "height": 35
        },
        "id": "-Onzet8WXLT_",
        "outputId": "3289388e-2cce-496a-fa4b-c33f9fbcf4b2"
      },
      "execution_count": 103,
      "outputs": [
        {
          "output_type": "execute_result",
          "data": {
            "text/plain": [
              "'hello'"
            ],
            "application/vnd.google.colaboratory.intrinsic+json": {
              "type": "string"
            }
          },
          "metadata": {},
          "execution_count": 103
        }
      ]
    },
    {
      "cell_type": "code",
      "source": [
        "s='********hello********'\n",
        "s.strip('*')"
      ],
      "metadata": {
        "colab": {
          "base_uri": "https://localhost:8080/",
          "height": 35
        },
        "id": "4d6dosVFYo7l",
        "outputId": "56fa20a2-4c5a-4c8e-8387-5df691194e25"
      },
      "execution_count": 104,
      "outputs": [
        {
          "output_type": "execute_result",
          "data": {
            "text/plain": [
              "'hello'"
            ],
            "application/vnd.google.colaboratory.intrinsic+json": {
              "type": "string"
            }
          },
          "metadata": {},
          "execution_count": 104
        }
      ]
    },
    {
      "cell_type": "markdown",
      "source": [
        "lstrip()\n",
        "removes leading spaces or we can say removes spaces from left side"
      ],
      "metadata": {
        "id": "u6bl6q3qYyaW"
      }
    },
    {
      "cell_type": "code",
      "source": [
        "lstr=\"         hello   \"\n",
        "lstr.lstrip()"
      ],
      "metadata": {
        "colab": {
          "base_uri": "https://localhost:8080/",
          "height": 35
        },
        "id": "sZRFsF1mZClu",
        "outputId": "55f33feb-9f64-4f5d-af6b-51014109e544"
      },
      "execution_count": 105,
      "outputs": [
        {
          "output_type": "execute_result",
          "data": {
            "text/plain": [
              "'hello   '"
            ],
            "application/vnd.google.colaboratory.intrinsic+json": {
              "type": "string"
            }
          },
          "metadata": {},
          "execution_count": 105
        }
      ]
    },
    {
      "cell_type": "code",
      "source": [
        "lstr=\"*********heloo***********\"\n",
        "lstr.lstrip('*')"
      ],
      "metadata": {
        "colab": {
          "base_uri": "https://localhost:8080/",
          "height": 35
        },
        "id": "8ThBK56gZKiS",
        "outputId": "d84c7a5c-f675-4cb3-fdf5-eed185a92838"
      },
      "execution_count": 106,
      "outputs": [
        {
          "output_type": "execute_result",
          "data": {
            "text/plain": [
              "'heloo***********'"
            ],
            "application/vnd.google.colaboratory.intrinsic+json": {
              "type": "string"
            }
          },
          "metadata": {},
          "execution_count": 106
        }
      ]
    },
    {
      "cell_type": "markdown",
      "source": [
        "rstrip()\n",
        " removes trialing whitespaces removed or we can say that the copy where right side spaces are removed\n",
        ""
      ],
      "metadata": {
        "id": "vfUxepbhZXWt"
      }
    },
    {
      "cell_type": "code",
      "source": [
        "rstr='********hello**********'\n",
        "rstr.rstrip('*')"
      ],
      "metadata": {
        "colab": {
          "base_uri": "https://localhost:8080/",
          "height": 35
        },
        "id": "G0bc4gvaZmbM",
        "outputId": "807142b1-8ed9-4c48-daff-31a18d3d6eca"
      },
      "execution_count": 107,
      "outputs": [
        {
          "output_type": "execute_result",
          "data": {
            "text/plain": [
              "'********hello'"
            ],
            "application/vnd.google.colaboratory.intrinsic+json": {
              "type": "string"
            }
          },
          "metadata": {},
          "execution_count": 107
        }
      ]
    },
    {
      "cell_type": "markdown",
      "source": [
        "split() :returns a list of data type of substring in the string using any white space character(including \\\\n \\\\r \\\\t \\\\f and spaces)as a default separator string\n",
        "**what i meant to say that whenever it dectects whitespace it creates separate string**"
      ],
      "metadata": {
        "id": "bN4qAAWCZwfo"
      }
    },
    {
      "cell_type": "code",
      "source": [
        "s='good things happens to those who hope for good'\n",
        "s.split()"
      ],
      "metadata": {
        "colab": {
          "base_uri": "https://localhost:8080/"
        },
        "id": "0AT0MudVaN1z",
        "outputId": "94327f8b-a197-4525-fff2-420778592b9a"
      },
      "execution_count": 108,
      "outputs": [
        {
          "output_type": "execute_result",
          "data": {
            "text/plain": [
              "['good', 'things', 'happens', 'to', 'those', 'who', 'hope', 'for', 'good']"
            ]
          },
          "metadata": {},
          "execution_count": 108
        }
      ]
    },
    {
      "cell_type": "code",
      "source": [
        "s='good things good people'\n",
        "print(s.split())\n",
        "print(s.rsplit())"
      ],
      "metadata": {
        "colab": {
          "base_uri": "https://localhost:8080/"
        },
        "id": "VAzGMs4BbAr8",
        "outputId": "1c05299f-f419-42d1-d7c7-e3fcf5d02c92"
      },
      "execution_count": 111,
      "outputs": [
        {
          "output_type": "stream",
          "name": "stdout",
          "text": [
            "['good', 'things', 'good', 'people']\n",
            "['good', 'things', 'good', 'people']\n"
          ]
        }
      ]
    },
    {
      "cell_type": "markdown",
      "source": [
        "length and centre of a string\n",
        "len() gives the total characters in string and center() returns a string of length equal to the value of arguments"
      ],
      "metadata": {
        "id": "pBU5Pqh6ck6z"
      }
    },
    {
      "cell_type": "code",
      "source": [
        "s=\"hello boys\"\n",
        "print(len(s))\n",
        "s.center(50)\n",
        "#see where is hello boys written this is what center does"
      ],
      "metadata": {
        "colab": {
          "base_uri": "https://localhost:8080/",
          "height": 53
        },
        "id": "lzXHs1Occnmg",
        "outputId": "dcf84dc6-60c5-4fbb-8901-13f6d070534c"
      },
      "execution_count": 121,
      "outputs": [
        {
          "output_type": "stream",
          "name": "stdout",
          "text": [
            "10\n"
          ]
        },
        {
          "output_type": "execute_result",
          "data": {
            "text/plain": [
              "'                    hello boys                    '"
            ],
            "application/vnd.google.colaboratory.intrinsic+json": {
              "type": "string"
            }
          },
          "metadata": {},
          "execution_count": 121
        }
      ]
    },
    {
      "cell_type": "markdown",
      "source": [
        "*startwith() *\n",
        "returns true or false"
      ],
      "metadata": {
        "id": "RZbRGx05eB2A"
      }
    },
    {
      "cell_type": "code",
      "source": [
        "s=\"hello\"\n",
        "s.startswith(s)"
      ],
      "metadata": {
        "colab": {
          "base_uri": "https://localhost:8080/"
        },
        "id": "6kd1DsOleRUf",
        "outputId": "51fc9866-c640-40de-eabc-efba2130c369"
      },
      "execution_count": 122,
      "outputs": [
        {
          "output_type": "execute_result",
          "data": {
            "text/plain": [
              "True"
            ]
          },
          "metadata": {},
          "execution_count": 122
        }
      ]
    },
    {
      "cell_type": "code",
      "source": [
        "s.startswith('h',0)"
      ],
      "metadata": {
        "colab": {
          "base_uri": "https://localhost:8080/"
        },
        "id": "Sfa_w_I9ecKi",
        "outputId": "a698b5a1-5aad-4ffc-a44c-88f16fd33766"
      },
      "execution_count": 125,
      "outputs": [
        {
          "output_type": "execute_result",
          "data": {
            "text/plain": [
              "True"
            ]
          },
          "metadata": {},
          "execution_count": 125
        }
      ]
    },
    {
      "cell_type": "code",
      "source": [
        "s.startswith('o',4)"
      ],
      "metadata": {
        "colab": {
          "base_uri": "https://localhost:8080/"
        },
        "id": "IbRtiuUZext4",
        "outputId": "6bc07228-5566-4090-82b6-53832699256a"
      },
      "execution_count": 126,
      "outputs": [
        {
          "output_type": "execute_result",
          "data": {
            "text/plain": [
              "True"
            ]
          },
          "metadata": {},
          "execution_count": 126
        }
      ]
    },
    {
      "cell_type": "markdown",
      "source": [
        "format() returns a formatted versions of string using substitution from args and kwargs"
      ],
      "metadata": {
        "id": "Peh16mPdfBNF"
      }
    },
    {
      "cell_type": "code",
      "source": [
        "s='good things'\n",
        "format(s,'>20')"
      ],
      "metadata": {
        "colab": {
          "base_uri": "https://localhost:8080/",
          "height": 35
        },
        "id": "ebBdpkH4fTLR",
        "outputId": "c6e1c194-548f-452d-ba4f-9e6c8e4961d4"
      },
      "execution_count": 129,
      "outputs": [
        {
          "output_type": "execute_result",
          "data": {
            "text/plain": [
              "'         good things'"
            ],
            "application/vnd.google.colaboratory.intrinsic+json": {
              "type": "string"
            }
          },
          "metadata": {},
          "execution_count": 129
        }
      ]
    },
    {
      "cell_type": "markdown",
      "source": [
        "zfill() pads a numeric string with zeros on the left to fill a field of the given width\n",
        "if string is already longer than width nothing happens"
      ],
      "metadata": {
        "id": "iepPqcJzf3zW"
      }
    },
    {
      "cell_type": "code",
      "source": [
        "n='123456789'\n",
        "n.zfill(20)"
      ],
      "metadata": {
        "colab": {
          "base_uri": "https://localhost:8080/",
          "height": 35
        },
        "id": "XOam8WTSfhb2",
        "outputId": "59477657-7790-42a9-9a2b-bb9096938a7e"
      },
      "execution_count": 134,
      "outputs": [
        {
          "output_type": "execute_result",
          "data": {
            "text/plain": [
              "'00000000000123456789'"
            ],
            "application/vnd.google.colaboratory.intrinsic+json": {
              "type": "string"
            }
          },
          "metadata": {},
          "execution_count": 134
        }
      ]
    },
    {
      "cell_type": "code",
      "source": [],
      "metadata": {
        "id": "6Cg-kR3nggOb"
      },
      "execution_count": null,
      "outputs": []
    }
  ]
}