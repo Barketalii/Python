{
  "nbformat": 4,
  "nbformat_minor": 0,
  "metadata": {
    "colab": {
      "provenance": [],
      "authorship_tag": "ABX9TyOKb16aPAP4A7Vo78Vgq9XR",
      "include_colab_link": true
    },
    "kernelspec": {
      "name": "python3",
      "display_name": "Python 3"
    },
    "language_info": {
      "name": "python"
    }
  },
  "cells": [
    {
      "cell_type": "markdown",
      "metadata": {
        "id": "view-in-github",
        "colab_type": "text"
      },
      "source": [
        "<a href=\"https://colab.research.google.com/github/Barketalii/Python/blob/main/Filehandling.ipynb\" target=\"_parent\"><img src=\"https://colab.research.google.com/assets/colab-badge.svg\" alt=\"Open In Colab\"/></a>"
      ]
    },
    {
      "cell_type": "markdown",
      "source": [
        "File handling refers to the process of performing operations on file such as creating,reading,writing and closing it through the interfacce."
      ],
      "metadata": {
        "id": "CX0zl1BUDDh4"
      }
    },
    {
      "cell_type": "markdown",
      "source": [
        "To open a file, we can use **open()** function, which requires file-path and mode as arguments:\n",
        "**file = open('filename.txt', 'mode')**"
      ],
      "metadata": {
        "id": "og-Jz7zoDBrv"
      }
    },
    {
      "cell_type": "markdown",
      "source": [
        "filename.txt: name (or path) of the file to be opened.\n",
        "mode: mode in which you want to open the file (read, write, append, etc.)."
      ],
      "metadata": {
        "id": "66_8W82LDzat"
      }
    },
    {
      "cell_type": "code",
      "source": [
        "f=open(\"/content/sample_data/README.md\")"
      ],
      "metadata": {
        "id": "SL2kXrr8D0KW"
      },
      "execution_count": 11,
      "outputs": []
    },
    {
      "cell_type": "code",
      "source": [
        "my_file=open(\"/content/sample_data/README.md\",\"r\")\n",
        "print(my_file)"
      ],
      "metadata": {
        "colab": {
          "base_uri": "https://localhost:8080/"
        },
        "id": "uOZJdhCXReAU",
        "outputId": "cf19b918-d7ba-4f0c-fc31-6d896eb3d3ec"
      },
      "execution_count": 12,
      "outputs": [
        {
          "output_type": "stream",
          "name": "stdout",
          "text": [
            "<_io.TextIOWrapper name='/content/sample_data/README.md' mode='r' encoding='utf-8'>\n"
          ]
        }
      ]
    },
    {
      "cell_type": "markdown",
      "source": [
        "This code opens file \"/content/sample_data/README.md\" in read mode. If the file exists, it returns a file object connected to that file; if the file does not exist, Python raises a FileNotFoundError."
      ],
      "metadata": {
        "id": "crIu-zSgZ5QT"
      }
    },
    {
      "cell_type": "markdown",
      "source": [
        "A file object in Python is like a handler / connection between your program and the file stored on disk.\n",
        "\n",
        "Think of it as a remote control that lets you:\n",
        "\n",
        "Read from the file (f.read())\n",
        "\n",
        "Write to the file (f.write())\n",
        "\n",
        "Move around inside the file (f.seek())\n",
        "\n",
        "Close the file when done (f.close())"
      ],
      "metadata": {
        "id": "JkIIqL9FbSvd"
      }
    },
    {
      "cell_type": "code",
      "source": [
        "f.close()\n",
        "#Closing a File\n",
        "#The file.close() method closes the file and releases the system resources.\n",
        "# If the file was opened in write or append mode, closing ensures that all changes are properly saved.\n",
        "\n",
        "\n",
        "\n",
        "\n"
      ],
      "metadata": {
        "id": "SWNPv9lhZwbo"
      },
      "execution_count": 13,
      "outputs": []
    },
    {
      "cell_type": "markdown",
      "source": [
        "Checking file properties"
      ],
      "metadata": {
        "id": "bzyrioPfbvhn"
      }
    },
    {
      "cell_type": "code",
      "source": [
        "my_file=open(\"/content/sample_data/README.md\")\n",
        "print(\"Filename:\",my_file.name)"
      ],
      "metadata": {
        "colab": {
          "base_uri": "https://localhost:8080/"
        },
        "id": "wGcZ1ceDb5Y8",
        "outputId": "eb610b0b-3b20-46d6-91b0-8650b9d7d4f2"
      },
      "execution_count": 14,
      "outputs": [
        {
          "output_type": "stream",
          "name": "stdout",
          "text": [
            "Filename: /content/sample_data/README.md\n"
          ]
        }
      ]
    },
    {
      "cell_type": "code",
      "source": [
        "print(\"mode\",my_file.mode)"
      ],
      "metadata": {
        "colab": {
          "base_uri": "https://localhost:8080/"
        },
        "id": "qoCNhF3fYfaW",
        "outputId": "3407ca7a-f237-4d71-c1ea-e1d52f2cd795"
      },
      "execution_count": 15,
      "outputs": [
        {
          "output_type": "stream",
          "name": "stdout",
          "text": [
            "mode r\n"
          ]
        }
      ]
    },
    {
      "cell_type": "code",
      "source": [
        "print(\"is closed:\",my_file.closed)"
      ],
      "metadata": {
        "colab": {
          "base_uri": "https://localhost:8080/"
        },
        "id": "EXa5KlVKZI7x",
        "outputId": "25fa8bbc-4f87-4a71-ae9c-ca7d47bca5a7"
      },
      "execution_count": 16,
      "outputs": [
        {
          "output_type": "stream",
          "name": "stdout",
          "text": [
            "is closed: False\n"
          ]
        }
      ]
    },
    {
      "cell_type": "code",
      "source": [
        "my_file=open(\"/content/sample_data/README.md\")"
      ],
      "metadata": {
        "id": "ydeolzdjZVHz"
      },
      "execution_count": 17,
      "outputs": []
    },
    {
      "cell_type": "code",
      "source": [
        "content=my_file.read()"
      ],
      "metadata": {
        "id": "0GJImNd5Zl8t"
      },
      "execution_count": 18,
      "outputs": []
    },
    {
      "cell_type": "code",
      "source": [
        "print(content)"
      ],
      "metadata": {
        "colab": {
          "base_uri": "https://localhost:8080/"
        },
        "id": "iXghptc-Zr7b",
        "outputId": "8a3221cd-b775-4d2b-b7df-d0f3f1790f36"
      },
      "execution_count": 19,
      "outputs": [
        {
          "output_type": "stream",
          "name": "stdout",
          "text": [
            "\n"
          ]
        }
      ]
    },
    {
      "cell_type": "code",
      "source": [
        "my_file=open(\"/content/sample_data/README.md\",\"w\")"
      ],
      "metadata": {
        "id": "nxe59wR3ZxYY"
      },
      "execution_count": 20,
      "outputs": []
    },
    {
      "cell_type": "code",
      "source": [
        "my_file.write(\"hello hi baby ar u doing well\")"
      ],
      "metadata": {
        "colab": {
          "base_uri": "https://localhost:8080/"
        },
        "id": "6fW1FLZSaqj_",
        "outputId": "daae7cd7-668f-47f6-eaf9-6df4433a7cac"
      },
      "execution_count": 21,
      "outputs": [
        {
          "output_type": "execute_result",
          "data": {
            "text/plain": [
              "29"
            ]
          },
          "metadata": {},
          "execution_count": 21
        }
      ]
    },
    {
      "cell_type": "code",
      "source": [
        "with open(\"/content/sample_data/README.md\",\"r\") as f:\n",
        " print(f.read())\n",
        "\n",
        ""
      ],
      "metadata": {
        "colab": {
          "base_uri": "https://localhost:8080/"
        },
        "id": "Y0qZqzl_azLH",
        "outputId": "65c3984d-f87d-46f6-87ab-71ed9476ffae"
      },
      "execution_count": 24,
      "outputs": [
        {
          "output_type": "stream",
          "name": "stdout",
          "text": [
            "\n"
          ]
        }
      ]
    },
    {
      "cell_type": "code",
      "source": [
        "my_file=open(\"My_file\",\"w\")\n"
      ],
      "metadata": {
        "id": "E5TPl7OKO68H"
      },
      "execution_count": 26,
      "outputs": []
    },
    {
      "cell_type": "code",
      "source": [
        "import os\n",
        "os.getcwd()"
      ],
      "metadata": {
        "colab": {
          "base_uri": "https://localhost:8080/",
          "height": 35
        },
        "id": "h4tJwbbKQu-q",
        "outputId": "d19f9c97-866f-438a-8c18-87869e24602e"
      },
      "execution_count": 27,
      "outputs": [
        {
          "output_type": "execute_result",
          "data": {
            "text/plain": [
              "'/content'"
            ],
            "application/vnd.google.colaboratory.intrinsic+json": {
              "type": "string"
            }
          },
          "metadata": {},
          "execution_count": 27
        }
      ]
    },
    {
      "cell_type": "code",
      "source": [
        "file=open(\"My_file\",\"w\")"
      ],
      "metadata": {
        "id": "6ofcgjvGRUCc"
      },
      "execution_count": 52,
      "outputs": []
    },
    {
      "cell_type": "code",
      "source": [
        "file.write(\"hello how are u doing\")\n",
        "file.close()"
      ],
      "metadata": {
        "id": "Rm_rYXbZRl-O"
      },
      "execution_count": 53,
      "outputs": []
    },
    {
      "cell_type": "code",
      "source": [
        "with open(\"My_file\",\"r+\") as f:\n",
        "  # f.append(\"\\n i am doing good\")\n",
        "  # f.read()\n",
        "  f.write(\"hello\")\n",
        "  print(f.read())\n"
      ],
      "metadata": {
        "colab": {
          "base_uri": "https://localhost:8080/"
        },
        "id": "UiSnuViERx4c",
        "outputId": "f80fa217-6e69-41e0-acb8-f448f9701f38"
      },
      "execution_count": 56,
      "outputs": [
        {
          "output_type": "stream",
          "name": "stdout",
          "text": [
            " how are u doing\n"
          ]
        }
      ]
    },
    {
      "cell_type": "code",
      "source": [
        "with open(\"My_file\",\"r+\") as  f:\n",
        " f.write(\"\\n hello, thankyou i am doing good \")\n",
        " print(f.read(5))\n",
        " #print(cont)"
      ],
      "metadata": {
        "colab": {
          "base_uri": "https://localhost:8080/"
        },
        "id": "XLdBwmSBR1r7",
        "outputId": "034f4824-b1cc-442e-f8fb-2f4b5b501f3c"
      },
      "execution_count": 64,
      "outputs": [
        {
          "output_type": "stream",
          "name": "stdout",
          "text": [
            "\n"
          ]
        }
      ]
    },
    {
      "cell_type": "code",
      "source": [
        "if os.path.exists(\"My_file\"):\n",
        "  os.remove(\"My_file\")\n",
        "else:\n",
        "  print(\"it does not exixt\")"
      ],
      "metadata": {
        "colab": {
          "base_uri": "https://localhost:8080/"
        },
        "id": "Qzwa7tTGTT9n",
        "outputId": "9d2ba475-1996-4415-8829-d92d6284f14d"
      },
      "execution_count": 69,
      "outputs": [
        {
          "output_type": "stream",
          "name": "stdout",
          "text": [
            "it does not exixt\n"
          ]
        }
      ]
    },
    {
      "cell_type": "code",
      "source": [
        "os.getcwd()"
      ],
      "metadata": {
        "colab": {
          "base_uri": "https://localhost:8080/",
          "height": 35
        },
        "id": "GecxK4oKVozs",
        "outputId": "b0695626-b90b-4052-9ab3-e2303cb1d544"
      },
      "execution_count": 73,
      "outputs": [
        {
          "output_type": "execute_result",
          "data": {
            "text/plain": [
              "'/content'"
            ],
            "application/vnd.google.colaboratory.intrinsic+json": {
              "type": "string"
            }
          },
          "metadata": {},
          "execution_count": 73
        }
      ]
    },
    {
      "cell_type": "code",
      "source": [],
      "metadata": {
        "id": "GY1N5AatVxUR"
      },
      "execution_count": null,
      "outputs": []
    }
  ]
}