{
  "nbformat": 4,
  "nbformat_minor": 0,
  "metadata": {
    "colab": {
      "provenance": [],
      "authorship_tag": "ABX9TyMCaivrQ6a7UtzLWm8sUoYJ",
      "include_colab_link": true
    },
    "kernelspec": {
      "name": "python3",
      "display_name": "Python 3"
    },
    "language_info": {
      "name": "python"
    }
  },
  "cells": [
    {
      "cell_type": "markdown",
      "metadata": {
        "id": "view-in-github",
        "colab_type": "text"
      },
      "source": [
        "<a href=\"https://colab.research.google.com/github/Barketalii/Python/blob/main/practiceprogramms.ipynb\" target=\"_parent\"><img src=\"https://colab.research.google.com/assets/colab-badge.svg\" alt=\"Open In Colab\"/></a>"
      ]
    },
    {
      "cell_type": "markdown",
      "source": [
        "Find the area of circle of radius 5"
      ],
      "metadata": {
        "id": "9vI8C68c99kF"
      }
    },
    {
      "cell_type": "code",
      "execution_count": 1,
      "metadata": {
        "id": "R_CqKdyV9PpA"
      },
      "outputs": [],
      "source": [
        "import math"
      ]
    },
    {
      "cell_type": "code",
      "source": [
        "radius=5\n",
        "area = math.pi * (radius**2)\n",
        "print(f'the area of the circle with radius {radius} is:{area}')"
      ],
      "metadata": {
        "colab": {
          "base_uri": "https://localhost:8080/"
        },
        "id": "JA985I009eBA",
        "outputId": "ba010680-b119-4e47-9267-ec49cef53dbc"
      },
      "execution_count": 2,
      "outputs": [
        {
          "output_type": "stream",
          "name": "stdout",
          "text": [
            "the area of the circle with radius 5 is:78.53981633974483\n"
          ]
        }
      ]
    },
    {
      "cell_type": "markdown",
      "source": [],
      "metadata": {
        "id": "M8W3WqZ--NmY"
      }
    },
    {
      "cell_type": "markdown",
      "source": [
        "Swap variables of two variables with out using temporay variable"
      ],
      "metadata": {
        "id": "eybox_Au-EbU"
      }
    },
    {
      "cell_type": "code",
      "source": [
        "from re import A\n",
        "a=5\n",
        "b=8\n",
        "a,b=b,a\n",
        "print(f'a={a},b={b}')"
      ],
      "metadata": {
        "colab": {
          "base_uri": "https://localhost:8080/"
        },
        "id": "4tLXwHe1-Tzu",
        "outputId": "0bbe6b9c-603e-4e8d-9f4b-f425de743781"
      },
      "execution_count": 3,
      "outputs": [
        {
          "output_type": "stream",
          "name": "stdout",
          "text": [
            "a=8,b=5\n"
          ]
        }
      ]
    },
    {
      "cell_type": "markdown",
      "source": [
        "write a program to remove duplicates in list"
      ],
      "metadata": {
        "id": "qoW2f-h0_O5C"
      }
    },
    {
      "cell_type": "code",
      "source": [
        "lst=[1,2,3,4,5,6,1,2,3,4]\n",
        "uniqe_list=list(set(lst))\n",
        "print(uniqe_list)"
      ],
      "metadata": {
        "colab": {
          "base_uri": "https://localhost:8080/"
        },
        "id": "uasYMkvV_BjF",
        "outputId": "ff33fc04-9b00-4971-831d-e50efcc974b4"
      },
      "execution_count": 4,
      "outputs": [
        {
          "output_type": "stream",
          "name": "stdout",
          "text": [
            "[1, 2, 3, 4, 5, 6]\n"
          ]
        }
      ]
    },
    {
      "cell_type": "markdown",
      "source": [
        "write a program to find a largest and smallest elements in list"
      ],
      "metadata": {
        "id": "iTr2prkw_uTL"
      }
    },
    {
      "cell_type": "code",
      "source": [
        "lst=[1,23,4,5,78,59]\n",
        "largest=max(lst)\n",
        "smallest=min(lst)\n",
        "print(f'the largest number in the list is: {largest}')\n",
        "print(f'the smallest number in the list is :{smallest}')"
      ],
      "metadata": {
        "colab": {
          "base_uri": "https://localhost:8080/"
        },
        "id": "z0wZu6qM_p8B",
        "outputId": "d1a67c3e-e177-42a0-d2d8-2ccbdec363ee"
      },
      "execution_count": 9,
      "outputs": [
        {
          "output_type": "stream",
          "name": "stdout",
          "text": [
            "the largest number in the list is: 78\n",
            "the smallest number in the list is :1\n"
          ]
        }
      ]
    },
    {
      "cell_type": "markdown",
      "source": [
        "write a program to check if the number is palindrome or not"
      ],
      "metadata": {
        "id": "COwyPF7kAo7i"
      }
    },
    {
      "cell_type": "code",
      "source": [
        "num=12344321\n",
        "num_str=str((num))\n",
        "if num_str == num_str[::-1]:\n",
        "  print('the num is palindrome')\n",
        "else:\n",
        "    print('it is not')\n"
      ],
      "metadata": {
        "colab": {
          "base_uri": "https://localhost:8080/"
        },
        "id": "L5fpT7ahAuLW",
        "outputId": "75218c4c-8002-4193-f493-9c1cb7477915"
      },
      "execution_count": 10,
      "outputs": [
        {
          "output_type": "stream",
          "name": "stdout",
          "text": [
            "the num is palindrome\n"
          ]
        }
      ]
    },
    {
      "cell_type": "markdown",
      "source": [
        "write a program to culculate the sum of all even numbers in a list"
      ],
      "metadata": {
        "id": "TGo66DiHBdRA"
      }
    },
    {
      "cell_type": "code",
      "source": [
        "lst=[1,2,3,4,5,6,7,8,9,10]\n",
        "even_sum=sum([num for num in  lst if num%2==0])\n",
        "print(f'the sum of all even numbers in a string is :{even_sum}')"
      ],
      "metadata": {
        "colab": {
          "base_uri": "https://localhost:8080/"
        },
        "id": "GYvd6Ab_Bm5v",
        "outputId": "cfcadf2d-31cc-4b2b-ddf5-8a854d36dd36"
      },
      "execution_count": 12,
      "outputs": [
        {
          "output_type": "stream",
          "name": "stdout",
          "text": [
            "the sum of all even numbers in a string is :30\n"
          ]
        }
      ]
    },
    {
      "cell_type": "markdown",
      "source": [
        "write a program to find the factorial of a number"
      ],
      "metadata": {
        "id": "OrN9SYTIDrCe"
      }
    },
    {
      "cell_type": "code",
      "source": [
        "num=5\n",
        "factorial=1\n",
        "for i in range(1,num+1):\n",
        "  factorial *=i\n",
        "print(f'the factorial of {num} is:{factorial}')\n"
      ],
      "metadata": {
        "colab": {
          "base_uri": "https://localhost:8080/"
        },
        "id": "FGkEIjveCoUs",
        "outputId": "9d510083-c5cc-4d00-f400-ce1b6f4545a9"
      },
      "execution_count": 15,
      "outputs": [
        {
          "output_type": "stream",
          "name": "stdout",
          "text": [
            "the factorial of 5 is:120\n"
          ]
        }
      ]
    },
    {
      "cell_type": "code",
      "source": [
        "import math"
      ],
      "metadata": {
        "id": "iUHwsKR1ESNC"
      },
      "execution_count": 16,
      "outputs": []
    },
    {
      "cell_type": "code",
      "source": [
        "num=5\n",
        "math.factorial(5)"
      ],
      "metadata": {
        "colab": {
          "base_uri": "https://localhost:8080/"
        },
        "id": "dzucoHp3ETY-",
        "outputId": "f57fa6a1-c790-4318-ebff-52b5f9d8a2c7"
      },
      "execution_count": 17,
      "outputs": [
        {
          "output_type": "execute_result",
          "data": {
            "text/plain": [
              "120"
            ]
          },
          "metadata": {},
          "execution_count": 17
        }
      ]
    },
    {
      "cell_type": "markdown",
      "source": [
        "write a programm to find the greatest common divisor of two numbers using euclidean algorithm"
      ],
      "metadata": {
        "id": "Ndr_tNSaEa0d"
      }
    },
    {
      "cell_type": "code",
      "source": [
        "def gcd(a,b):\n",
        "  if b==0:\n",
        "    return a\n",
        "  else:\n",
        "      return gcd(b ,a % b)\n",
        "num1,num2=48,66\n",
        "gcd=gcd(num1,num2)\n",
        "print(f'the GCD of {num1} and {num2} is:{gcd}')"
      ],
      "metadata": {
        "colab": {
          "base_uri": "https://localhost:8080/"
        },
        "id": "IJ17FTq2Emqv",
        "outputId": "0e1dc229-75c3-4d65-9254-c990a39908fd"
      },
      "execution_count": 20,
      "outputs": [
        {
          "output_type": "stream",
          "name": "stdout",
          "text": [
            "the GCD of 48 and 66 is:6\n"
          ]
        }
      ]
    },
    {
      "cell_type": "markdown",
      "source": [
        "write a program to sort a dictionaries based on specific key"
      ],
      "metadata": {
        "id": "AbsNrsRoJm92"
      }
    },
    {
      "cell_type": "code",
      "source": [
        "lst=[{'name':'jnon','age':25},\n",
        "     {'name':'ton','age':96},\n",
        "     {'name':'son','age':86},\n",
        "     {'name':'tonn','age':16}]\n",
        "key='age'\n",
        "sorted_list=sorted(lst,key=lambda x: x[key])\n",
        "print(sorted_list)"
      ],
      "metadata": {
        "colab": {
          "base_uri": "https://localhost:8080/"
        },
        "id": "SQtI0LntJmo4",
        "outputId": "e37f605e-ac0f-4d8d-9aa2-162a7ba1dac4"
      },
      "execution_count": 22,
      "outputs": [
        {
          "output_type": "stream",
          "name": "stdout",
          "text": [
            "[{'name': 'tonn', 'age': 16}, {'name': 'jnon', 'age': 25}, {'name': 'son', 'age': 86}, {'name': 'ton', 'age': 96}]\n"
          ]
        }
      ]
    }
  ]
}